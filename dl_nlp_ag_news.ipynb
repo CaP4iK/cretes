{
  "nbformat": 4,
  "nbformat_minor": 0,
  "metadata": {
    "colab": {
      "name": "dl_nlp_ag_news.ipynb",
      "provenance": [],
      "collapsed_sections": [],
      "include_colab_link": true
    },
    "kernelspec": {
      "name": "python3",
      "display_name": "Python 3"
    },
    "accelerator": "GPU"
  },
  "cells": [
    {
      "cell_type": "markdown",
      "metadata": {
        "id": "view-in-github",
        "colab_type": "text"
      },
      "source": [
        "<a href=\"https://colab.research.google.com/github/CaP4iK/cretes/blob/main/dl_nlp_ag_news.ipynb\" target=\"_parent\"><img src=\"https://colab.research.google.com/assets/colab-badge.svg\" alt=\"Open In Colab\"/></a>"
      ]
    },
    {
      "cell_type": "markdown",
      "metadata": {
        "id": "K-BAqDEY4ldv"
      },
      "source": [
        "## Классификация новостей [AG's News Topic Classification Dataset](https://github.com/mhjabreel/CharCnn_Keras/tree/master/data/ag_news_csv)\n",
        "\n",
        "Учебный курс \"[Нейросети для анализа текстов](https://www.asozykin.ru/courses/nnpython)\".\n",
        "\n",
        "Используется три архитектуры нейронных сетей:\n",
        "- Одномерная сверточная нейросеть\n",
        "- Рекуррентная нейросеть LSTM\n",
        "- Рекуррентная нейросеть GRU\n",
        "\n",
        "Чтобы запускать и редактировать код, сохраните копию этого ноутбука себе (File->Save a copy in Drive...). Свою копию вы сможете изменять и запускать.\n",
        "\n",
        "Не забудьте подключить GPU, чтобы сеть обучалась быстрее (Runtime -> Change Runtime Type -> Hardware Accelerator -> GPU)."
      ]
    },
    {
      "cell_type": "code",
      "metadata": {
        "id": "fN251ib04idq"
      },
      "source": [
        "%tensorflow_version 2.x\n",
        "from tensorflow.keras.models import Sequential\n",
        "from tensorflow.keras.layers import Dense, Embedding, MaxPooling1D, Conv1D, GlobalMaxPooling1D, Dropout, LSTM, GRU\n",
        "from tensorflow.keras import utils\n",
        "from tensorflow.keras.preprocessing.sequence import pad_sequences\n",
        "from tensorflow.keras.preprocessing.text import Tokenizer\n",
        "from tensorflow.keras.callbacks import ModelCheckpoint\n",
        "from tensorflow.keras import utils\n",
        "import pandas as pd\n",
        "import numpy as np\n",
        "import matplotlib.pyplot as plt\n",
        "%matplotlib inline "
      ],
      "execution_count": 125,
      "outputs": []
    },
    {
      "cell_type": "code",
      "metadata": {
        "id": "KVUY1PF0L_mF"
      },
      "source": [
        "# Максимальное количество слов \n",
        "num_words = 10000\n",
        "# Максимальная длина новости\n",
        "max_news_len = 30\n",
        "# Количество классов новостей\n",
        "nb_classes = 4"
      ],
      "execution_count": 126,
      "outputs": []
    },
    {
      "cell_type": "markdown",
      "metadata": {
        "id": "S6itvI2G5H1k"
      },
      "source": [
        "## Загрузка набора данных"
      ]
    },
    {
      "cell_type": "markdown",
      "metadata": {
        "id": "-koXVGyC1odV"
      },
      "source": [
        "Загружаем данные для обучения"
      ]
    },
    {
      "cell_type": "code",
      "metadata": {
        "id": "TYf3S7he5KIU",
        "colab": {
          "base_uri": "https://localhost:8080/"
        },
        "outputId": "442d42b2-b28e-4fac-cab1-caeb3b97ae42"
      },
      "source": [
        "!wget https://raw.githubusercontent.com/CaP4iK/cretes/main/dataset.csv -O dataset.csv"
      ],
      "execution_count": 198,
      "outputs": [
        {
          "output_type": "stream",
          "text": [
            "--2021-04-18 12:21:49--  https://raw.githubusercontent.com/CaP4iK/cretes/main/dataset.csv\n",
            "Resolving raw.githubusercontent.com (raw.githubusercontent.com)... 185.199.108.133, 185.199.109.133, 185.199.110.133, ...\n",
            "Connecting to raw.githubusercontent.com (raw.githubusercontent.com)|185.199.108.133|:443... connected.\n",
            "HTTP request sent, awaiting response... 200 OK\n",
            "Length: 9625 (9.4K) [text/plain]\n",
            "Saving to: ‘dataset.csv’\n",
            "\n",
            "\rdataset.csv           0%[                    ]       0  --.-KB/s               \rdataset.csv         100%[===================>]   9.40K  --.-KB/s    in 0s      \n",
            "\n",
            "2021-04-18 12:21:49 (102 MB/s) - ‘dataset.csv’ saved [9625/9625]\n",
            "\n"
          ],
          "name": "stdout"
        }
      ]
    },
    {
      "cell_type": "markdown",
      "metadata": {
        "id": "5HrnxF5Z1uO7"
      },
      "source": [
        "Загружаем данные для тестирования"
      ]
    },
    {
      "cell_type": "code",
      "metadata": {
        "id": "jCmKO8zM1tZT",
        "colab": {
          "base_uri": "https://localhost:8080/"
        },
        "outputId": "d6f87e68-4339-457f-b6e3-d446cf4399a4"
      },
      "source": [
        "!wget https://raw.githubusercontent.com/CaP4iK/cretes/main/test.csv -O test.csv"
      ],
      "execution_count": 204,
      "outputs": [
        {
          "output_type": "stream",
          "text": [
            "--2021-04-18 12:22:18--  https://raw.githubusercontent.com/CaP4iK/cretes/main/test.csv\n",
            "Resolving raw.githubusercontent.com (raw.githubusercontent.com)... 185.199.108.133, 185.199.109.133, 185.199.110.133, ...\n",
            "Connecting to raw.githubusercontent.com (raw.githubusercontent.com)|185.199.108.133|:443... connected.\n",
            "HTTP request sent, awaiting response... 200 OK\n",
            "Length: 842 [text/plain]\n",
            "Saving to: ‘test.csv’\n",
            "\n",
            "\rtest.csv              0%[                    ]       0  --.-KB/s               \rtest.csv            100%[===================>]     842  --.-KB/s    in 0s      \n",
            "\n",
            "2021-04-18 12:22:18 (53.7 MB/s) - ‘test.csv’ saved [842/842]\n",
            "\n"
          ],
          "name": "stdout"
        }
      ]
    },
    {
      "cell_type": "markdown",
      "metadata": {
        "id": "HsRzWdOL1z17"
      },
      "source": [
        "Загружаем имена классов"
      ]
    },
    {
      "cell_type": "code",
      "metadata": {
        "id": "RH95SEXB5R0V",
        "colab": {
          "base_uri": "https://localhost:8080/"
        },
        "outputId": "79f50df6-0007-44c1-8964-641df3cbabe4"
      },
      "source": [
        "!wget https://raw.githubusercontent.com/CaP4iK/cretes/main/classes.txt -O classes.txt"
      ],
      "execution_count": 200,
      "outputs": [
        {
          "output_type": "stream",
          "text": [
            "--2021-04-18 12:21:58--  https://raw.githubusercontent.com/CaP4iK/cretes/main/classes.txt\n",
            "Resolving raw.githubusercontent.com (raw.githubusercontent.com)... 185.199.109.133, 185.199.111.133, 185.199.110.133, ...\n",
            "Connecting to raw.githubusercontent.com (raw.githubusercontent.com)|185.199.109.133|:443... connected.\n",
            "HTTP request sent, awaiting response... 200 OK\n",
            "Length: 126 [text/plain]\n",
            "Saving to: ‘classes.txt’\n",
            "\n",
            "\rclasses.txt           0%[                    ]       0  --.-KB/s               \rclasses.txt         100%[===================>]     126  --.-KB/s    in 0s      \n",
            "\n",
            "2021-04-18 12:21:58 (6.45 MB/s) - ‘classes.txt’ saved [126/126]\n",
            "\n"
          ],
          "name": "stdout"
        }
      ]
    },
    {
      "cell_type": "markdown",
      "metadata": {
        "id": "131Gk9fzGVMg"
      },
      "source": [
        "## Просматриваем данные"
      ]
    },
    {
      "cell_type": "code",
      "metadata": {
        "id": "V116c5A82IeD",
        "colab": {
          "base_uri": "https://localhost:8080/"
        },
        "outputId": "b3630448-287c-45d2-f61d-5c6f3546128f"
      },
      "source": [
        "!ls"
      ],
      "execution_count": 194,
      "outputs": [
        {
          "output_type": "stream",
          "text": [
            "best_model_cnn.h5  best_model_lstm.h5  dataset.csv  test.csv\n",
            "best_model_gru.h5  classes.txt\t       sample_data\n"
          ],
          "name": "stdout"
        }
      ]
    },
    {
      "cell_type": "code",
      "metadata": {
        "id": "uRj7M24mGRmH",
        "colab": {
          "base_uri": "https://localhost:8080/"
        },
        "outputId": "086d5434-f825-43a5-cfac-70b67f5d9eb6"
      },
      "source": [
        "!cat classes.txt"
      ],
      "execution_count": 201,
      "outputs": [
        {
          "output_type": "stream",
          "text": [
            "﻿Дизайн\n",
            "Нефункц. требования\n",
            "Взаимодействие пользователя\n",
            "Структура\n"
          ],
          "name": "stdout"
        }
      ]
    },
    {
      "cell_type": "code",
      "metadata": {
        "id": "k6_oiP9NGlI2",
        "colab": {
          "base_uri": "https://localhost:8080/"
        },
        "outputId": "3b318dd2-90a5-4cd3-96d7-87f98774ffa5"
      },
      "source": [
        "!head dataset.csv"
      ],
      "execution_count": 202,
      "outputs": [
        {
          "output_type": "stream",
          "text": [
            "﻿Дизайн,\"Дизайн страниц выполняется в строгом соответствии с корпоративным стилем компании, с пожеланиями клиента.\n",
            "Исполнитель предоставляет Заказчику вариант концепции дизайна на примере начальной страницы. После утверждения Исполнитель приступает к выполнению оставшихся страниц.\"\r\n",
            "Дизайн,Стиль оформления произвольный. Количество знаков заголовка и анонса не лимитировано. Заголовок новости является ссылкой. При нажатии на ссылку \r\n",
            "Дизайн,Графическая шапка с горизонтальной навигацией может содержать ненавязчивые флэш-элементы (например, анимированный логотип, являющийся одновременно ссылкой на основную страницу сайта), но не должна отвлекать от информационного наполнения страницы. Желательна разработка нескольких вариантов графической шапки в привязке к основным разделам каталога. Для разделов основной навигации разрабатывается общая шапка.\r\n",
            "Дизайн,Внутренняя навигация раздела «Каталог» отображается в виде списка в левой части экрана под шапкой в виде колонки в текстовом виде для последующей легкой модификации данной области. \r\n",
            "Дизайн,В дизайне отдельно предусматриваются ссылки на список туров и спецпредложения.\r\n",
            "Дизайн,Между шапкой и контентной областью предполагается «баннерная крутилка»\r\n",
            "Дизайн,Внизу страницы отображается облегченная навигационная панель в текстовом виде, Copyright, контактный e-mail, ссылка на «Основную страницу» сайта.\r\n",
            "Нефункц. требования,Сайт разрабатывается под базовое разрешение экрана 800х600 пкс\r\n",
            "Взаимодействие пользователя,По ссылке на заголовок тура пользователь переходит на страницу с полным описанием конкретного тура. С шаблоне полного описания тура вверху и внизу страницы предусматриваются ссылки «Заказать тур». По этим ссылкам пользователь переходит на страницу с mail-формой, где он может оформить заявку на выбранный им тур. Данные по выбранному туру автоматически передаются в поля формы. Пользователю остается только заполнить поля, относящиеся к его личным данным и комментарий.\r\n"
          ],
          "name": "stdout"
        }
      ]
    },
    {
      "cell_type": "code",
      "metadata": {
        "id": "QbfciZAYHNBb",
        "colab": {
          "base_uri": "https://localhost:8080/"
        },
        "outputId": "80a97417-5208-4abd-a727-90fe0ec8bce8"
      },
      "source": [
        "!head test.csv"
      ],
      "execution_count": 205,
      "outputs": [
        {
          "output_type": "stream",
          "text": [
            "﻿1,Дизайн,Дизайн страниц выполняется в строгом соответствии с корпоративным стилем компании, с пожеланиями клиента.И\r\n",
            "2,Нефункц. требования,Сайт разрабатывается под базовое разрешение экрана 800х600 пкс\r\n",
            "3,Взаимодействие пользователя,По ссылке на заголовок тура пользователь переходит на страницу с полным описанием конкретного тура. \r\n",
            "4,Структура сайта,«О компании» - содержит краткую информацию раздела со ссылкой «подробнее», ведущую на раздел «О компании».\r\n"
          ],
          "name": "stdout"
        }
      ]
    },
    {
      "cell_type": "code",
      "metadata": {
        "id": "QHiCXhsTG835",
        "colab": {
          "base_uri": "https://localhost:8080/"
        },
        "outputId": "42940ade-6f6f-4704-8b50-a34757f14ed9"
      },
      "source": [
        "!wc -l dataset.csv\n",
        "!wc -l test.csv"
      ],
      "execution_count": 141,
      "outputs": [
        {
          "output_type": "stream",
          "text": [
            "32 dataset.csv\n",
            "4 test.csv\n"
          ],
          "name": "stdout"
        }
      ]
    },
    {
      "cell_type": "markdown",
      "metadata": {
        "id": "9YjyMnJOHoSY"
      },
      "source": [
        "## Загружаем данные в память"
      ]
    },
    {
      "cell_type": "markdown",
      "metadata": {
        "id": "C6Hs3NIKKqEB"
      },
      "source": [
        "Читаем данные из файла"
      ]
    },
    {
      "cell_type": "code",
      "metadata": {
        "id": "viAteYU0HakW"
      },
      "source": [
        "dataset = pd.read_csv('dataset.csv', \n",
        "                    header=None, \n",
        "                    names=['class', 'text'])"
      ],
      "execution_count": 135,
      "outputs": []
    },
    {
      "cell_type": "code",
      "metadata": {
        "id": "QTbvoCJxKpdr",
        "colab": {
          "base_uri": "https://localhost:8080/",
          "height": 669
        },
        "outputId": "d54d5ce2-e7d8-4fab-a56d-5266ef24b876"
      },
      "source": [
        "dataset"
      ],
      "execution_count": 142,
      "outputs": [
        {
          "output_type": "execute_result",
          "data": {
            "text/html": [
              "<div>\n",
              "<style scoped>\n",
              "    .dataframe tbody tr th:only-of-type {\n",
              "        vertical-align: middle;\n",
              "    }\n",
              "\n",
              "    .dataframe tbody tr th {\n",
              "        vertical-align: top;\n",
              "    }\n",
              "\n",
              "    .dataframe thead th {\n",
              "        text-align: right;\n",
              "    }\n",
              "</style>\n",
              "<table border=\"1\" class=\"dataframe\">\n",
              "  <thead>\n",
              "    <tr style=\"text-align: right;\">\n",
              "      <th></th>\n",
              "      <th>class</th>\n",
              "      <th>text</th>\n",
              "    </tr>\n",
              "  </thead>\n",
              "  <tbody>\n",
              "    <tr>\n",
              "      <th>0</th>\n",
              "      <td>1</td>\n",
              "      <td>Дизайн страниц выполняется в строгом соответст...</td>\n",
              "    </tr>\n",
              "    <tr>\n",
              "      <th>1</th>\n",
              "      <td>1</td>\n",
              "      <td>Стиль оформления произвольный. Количество знак...</td>\n",
              "    </tr>\n",
              "    <tr>\n",
              "      <th>2</th>\n",
              "      <td>1</td>\n",
              "      <td>Графическая шапка с горизонтальной навигацией ...</td>\n",
              "    </tr>\n",
              "    <tr>\n",
              "      <th>3</th>\n",
              "      <td>1</td>\n",
              "      <td>Внутренняя навигация раздела «Каталог» отображ...</td>\n",
              "    </tr>\n",
              "    <tr>\n",
              "      <th>4</th>\n",
              "      <td>1</td>\n",
              "      <td>В дизайне отдельно предусматриваются ссылки на...</td>\n",
              "    </tr>\n",
              "    <tr>\n",
              "      <th>5</th>\n",
              "      <td>1</td>\n",
              "      <td>Между шапкой и контентной областью предполагае...</td>\n",
              "    </tr>\n",
              "    <tr>\n",
              "      <th>6</th>\n",
              "      <td>1</td>\n",
              "      <td>Внизу страницы отображается облегченная навига...</td>\n",
              "    </tr>\n",
              "    <tr>\n",
              "      <th>7</th>\n",
              "      <td>2</td>\n",
              "      <td>Сайт разрабатывается под базовое разрешение эк...</td>\n",
              "    </tr>\n",
              "    <tr>\n",
              "      <th>8</th>\n",
              "      <td>3</td>\n",
              "      <td>По ссылке на заголовок тура пользователь перех...</td>\n",
              "    </tr>\n",
              "    <tr>\n",
              "      <th>9</th>\n",
              "      <td>2</td>\n",
              "      <td>Корректное отображение браузерами Internet Exp...</td>\n",
              "    </tr>\n",
              "    <tr>\n",
              "      <th>10</th>\n",
              "      <td>2</td>\n",
              "      <td>Использование фирменных цветов и логотипа комп...</td>\n",
              "    </tr>\n",
              "    <tr>\n",
              "      <th>11</th>\n",
              "      <td>2</td>\n",
              "      <td>Обязательная визуальная поддержка действий пол...</td>\n",
              "    </tr>\n",
              "    <tr>\n",
              "      <th>12</th>\n",
              "      <td>2</td>\n",
              "      <td>Мета-теги и контент сайта на этапе изготовлени...</td>\n",
              "    </tr>\n",
              "    <tr>\n",
              "      <th>13</th>\n",
              "      <td>4</td>\n",
              "      <td>Содержит графическую часть</td>\n",
              "    </tr>\n",
              "    <tr>\n",
              "      <th>14</th>\n",
              "      <td>4</td>\n",
              "      <td>«О компании» - содержит краткую информацию раз...</td>\n",
              "    </tr>\n",
              "    <tr>\n",
              "      <th>15</th>\n",
              "      <td>3</td>\n",
              "      <td>По ссылке «Отправить заказ» пользователь перех...</td>\n",
              "    </tr>\n",
              "    <tr>\n",
              "      <th>16</th>\n",
              "      <td>3</td>\n",
              "      <td>Оформление заказа в он-лайн режиме производитс...</td>\n",
              "    </tr>\n",
              "    <tr>\n",
              "      <th>17</th>\n",
              "      <td>3</td>\n",
              "      <td>Нажав на кнопку «Отправить заказ»</td>\n",
              "    </tr>\n",
              "    <tr>\n",
              "      <th>18</th>\n",
              "      <td>1</td>\n",
              "      <td>Дизайн Сайта должен быть консервативным - исп...</td>\n",
              "    </tr>\n",
              "    <tr>\n",
              "      <th>19</th>\n",
              "      <td>1</td>\n",
              "      <td>Основными шрифтовыми гарнитурами корпоративно...</td>\n",
              "    </tr>\n",
              "  </tbody>\n",
              "</table>\n",
              "</div>"
            ],
            "text/plain": [
              "    class                                               text\n",
              "0       1  Дизайн страниц выполняется в строгом соответст...\n",
              "1       1  Стиль оформления произвольный. Количество знак...\n",
              "2       1  Графическая шапка с горизонтальной навигацией ...\n",
              "3       1  Внутренняя навигация раздела «Каталог» отображ...\n",
              "4       1  В дизайне отдельно предусматриваются ссылки на...\n",
              "5       1  Между шапкой и контентной областью предполагае...\n",
              "6       1  Внизу страницы отображается облегченная навига...\n",
              "7       2  Сайт разрабатывается под базовое разрешение эк...\n",
              "8       3  По ссылке на заголовок тура пользователь перех...\n",
              "9       2  Корректное отображение браузерами Internet Exp...\n",
              "10      2  Использование фирменных цветов и логотипа комп...\n",
              "11      2  Обязательная визуальная поддержка действий пол...\n",
              "12      2  Мета-теги и контент сайта на этапе изготовлени...\n",
              "13      4                         Содержит графическую часть\n",
              "14      4  «О компании» - содержит краткую информацию раз...\n",
              "15      3  По ссылке «Отправить заказ» пользователь перех...\n",
              "16      3  Оформление заказа в он-лайн режиме производитс...\n",
              "17      3                  Нажав на кнопку «Отправить заказ»\n",
              "18      1   Дизайн Сайта должен быть консервативным - исп...\n",
              "19      1   Основными шрифтовыми гарнитурами корпоративно..."
            ]
          },
          "metadata": {
            "tags": []
          },
          "execution_count": 142
        }
      ]
    },
    {
      "cell_type": "markdown",
      "metadata": {
        "id": "gA0GvoWDKulp"
      },
      "source": [
        "Выделяем данные для обучения"
      ]
    },
    {
      "cell_type": "code",
      "metadata": {
        "id": "xKdpzAQKLUsh"
      },
      "source": [
        "tz = dataset['text']"
      ],
      "execution_count": 143,
      "outputs": []
    },
    {
      "cell_type": "code",
      "metadata": {
        "id": "3-13xctTLesU",
        "colab": {
          "base_uri": "https://localhost:8080/"
        },
        "outputId": "c3102413-1a53-4013-ca2b-cba51cd44568"
      },
      "source": [
        "tz[:5]"
      ],
      "execution_count": 144,
      "outputs": [
        {
          "output_type": "execute_result",
          "data": {
            "text/plain": [
              "0    Дизайн страниц выполняется в строгом соответст...\n",
              "1    Стиль оформления произвольный. Количество знак...\n",
              "2    Графическая шапка с горизонтальной навигацией ...\n",
              "3    Внутренняя навигация раздела «Каталог» отображ...\n",
              "4    В дизайне отдельно предусматриваются ссылки на...\n",
              "Name: text, dtype: object"
            ]
          },
          "metadata": {
            "tags": []
          },
          "execution_count": 144
        }
      ]
    },
    {
      "cell_type": "markdown",
      "metadata": {
        "id": "EyruZkQeLnPa"
      },
      "source": [
        "Выделяем правильные ответы"
      ]
    },
    {
      "cell_type": "code",
      "metadata": {
        "id": "5t_vJBSyIUoG"
      },
      "source": [
        "y_tz = utils.to_categorical(dataset['class'] - 1, nb_classes)"
      ],
      "execution_count": 145,
      "outputs": []
    },
    {
      "cell_type": "code",
      "metadata": {
        "id": "gmEgMdF5IbZR",
        "colab": {
          "base_uri": "https://localhost:8080/"
        },
        "outputId": "9789e575-6ace-499f-fc42-a725b485d538"
      },
      "source": [
        "y_tz"
      ],
      "execution_count": 146,
      "outputs": [
        {
          "output_type": "execute_result",
          "data": {
            "text/plain": [
              "array([[1., 0., 0., 0.],\n",
              "       [1., 0., 0., 0.],\n",
              "       [1., 0., 0., 0.],\n",
              "       [1., 0., 0., 0.],\n",
              "       [1., 0., 0., 0.],\n",
              "       [1., 0., 0., 0.],\n",
              "       [1., 0., 0., 0.],\n",
              "       [0., 1., 0., 0.],\n",
              "       [0., 0., 1., 0.],\n",
              "       [0., 1., 0., 0.],\n",
              "       [0., 1., 0., 0.],\n",
              "       [0., 1., 0., 0.],\n",
              "       [0., 1., 0., 0.],\n",
              "       [0., 0., 0., 1.],\n",
              "       [0., 0., 0., 1.],\n",
              "       [0., 0., 1., 0.],\n",
              "       [0., 0., 1., 0.],\n",
              "       [0., 0., 1., 0.],\n",
              "       [1., 0., 0., 0.],\n",
              "       [1., 0., 0., 0.]], dtype=float32)"
            ]
          },
          "metadata": {
            "tags": []
          },
          "execution_count": 146
        }
      ]
    },
    {
      "cell_type": "markdown",
      "metadata": {
        "id": "7JuLOCqpLsNL"
      },
      "source": [
        "## Токенизация текста"
      ]
    },
    {
      "cell_type": "code",
      "metadata": {
        "id": "wwF89PAestv0",
        "colab": {
          "base_uri": "https://localhost:8080/"
        },
        "outputId": "a553508f-0164-404e-d151-eb466c4a5829"
      },
      "source": [
        "tz[:5]"
      ],
      "execution_count": 147,
      "outputs": [
        {
          "output_type": "execute_result",
          "data": {
            "text/plain": [
              "0    Дизайн страниц выполняется в строгом соответст...\n",
              "1    Стиль оформления произвольный. Количество знак...\n",
              "2    Графическая шапка с горизонтальной навигацией ...\n",
              "3    Внутренняя навигация раздела «Каталог» отображ...\n",
              "4    В дизайне отдельно предусматриваются ссылки на...\n",
              "Name: text, dtype: object"
            ]
          },
          "metadata": {
            "tags": []
          },
          "execution_count": 147
        }
      ]
    },
    {
      "cell_type": "markdown",
      "metadata": {
        "id": "DTtBSvAfMusM"
      },
      "source": [
        "Создаем токенизатор Keras"
      ]
    },
    {
      "cell_type": "code",
      "metadata": {
        "id": "x-AUMyjMLw5T"
      },
      "source": [
        "tokenizer = Tokenizer(num_words=num_words)"
      ],
      "execution_count": 148,
      "outputs": []
    },
    {
      "cell_type": "markdown",
      "metadata": {
        "id": "VIxY2pp-M2gw"
      },
      "source": [
        "Обучаем токенизатор на IT Записях"
      ]
    },
    {
      "cell_type": "code",
      "metadata": {
        "id": "RfsqlGJZM7HR"
      },
      "source": [
        "tokenizer.fit_on_texts(tz)"
      ],
      "execution_count": 149,
      "outputs": []
    },
    {
      "cell_type": "markdown",
      "metadata": {
        "id": "y6PqC28PND82"
      },
      "source": [
        "Просматриваем словарь токенизатора"
      ]
    },
    {
      "cell_type": "code",
      "metadata": {
        "id": "8mWcH0mUMcMU",
        "colab": {
          "base_uri": "https://localhost:8080/"
        },
        "outputId": "dcabd9fc-e3bd-4af0-bcf2-028ffeba0a40"
      },
      "source": [
        "tokenizer.word_index"
      ],
      "execution_count": 150,
      "outputs": [
        {
          "output_type": "execute_result",
          "data": {
            "text/plain": [
              "{'0': 151,\n",
              " '4': 150,\n",
              " '800х600': 128,\n",
              " 'aport': 194,\n",
              " 'arial': 53,\n",
              " 'courier': 265,\n",
              " 'explorer': 146,\n",
              " 'futura': 249,\n",
              " 'helvetica': 261,\n",
              " 'internet': 145,\n",
              " 'mail': 141,\n",
              " 'navigator': 148,\n",
              " 'netscape': 147,\n",
              " 'new': 263,\n",
              " 'rambler': 195,\n",
              " 'roman': 264,\n",
              " 'times': 262,\n",
              " 'yandex': 193,\n",
              " '«баннерная': 119,\n",
              " '«визуалов»': 236,\n",
              " '«дорого»': 230,\n",
              " '«заказать': 137,\n",
              " '«интерактив»': 162,\n",
              " '«каталог»': 101,\n",
              " '«о': 198,\n",
              " '«отправить': 48,\n",
              " '«подробнее»': 203,\n",
              " 'активных': 164,\n",
              " 'анонса': 85,\n",
              " 'б': 184,\n",
              " 'базовое': 126,\n",
              " 'бланк': 174,\n",
              " 'браузерами': 144,\n",
              " 'браузеров': 260,\n",
              " 'быть': 23,\n",
              " 'в': 1,\n",
              " 'вариант': 70,\n",
              " 'вверху': 136,\n",
              " 'версии': 149,\n",
              " 'виде': 11,\n",
              " 'визуальная': 156,\n",
              " 'визуальное': 163,\n",
              " 'визуальному': 274,\n",
              " 'внизу': 43,\n",
              " 'внутренняя': 99,\n",
              " 'восприятия': 280,\n",
              " 'время': 228,\n",
              " 'выглядеть': 229,\n",
              " 'выполнению': 78,\n",
              " 'выполняется': 61,\n",
              " 'выше': 152,\n",
              " 'гарнитурами': 244,\n",
              " 'гарнитуры': 248,\n",
              " 'горизонтальной': 93,\n",
              " 'графическая': 91,\n",
              " 'графических': 52,\n",
              " 'графическую': 196,\n",
              " 'групп': 259,\n",
              " 'группы': 272,\n",
              " 'д': 183,\n",
              " 'данной': 109,\n",
              " 'действий': 158,\n",
              " 'дизайн': 14,\n",
              " 'дизайна': 72,\n",
              " 'дизайне': 40,\n",
              " 'для': 7,\n",
              " 'должен': 24,\n",
              " 'должны': 56,\n",
              " 'допустима': 239,\n",
              " 'допустимом': 282,\n",
              " 'же': 227,\n",
              " 'заголовка': 84,\n",
              " 'заголовок': 30,\n",
              " 'загружается': 171,\n",
              " 'заказ»': 49,\n",
              " 'заказа': 205,\n",
              " 'заказчику': 69,\n",
              " 'замена': 269,\n",
              " 'зарегистрированным': 214,\n",
              " 'знаков': 83,\n",
              " 'и': 3,\n",
              " 'из': 270,\n",
              " 'изготовления': 182,\n",
              " 'информацию': 201,\n",
              " 'искажению': 275,\n",
              " 'исполнитель': 28,\n",
              " 'использование': 12,\n",
              " 'использовать': 219,\n",
              " 'используемые': 55,\n",
              " 'к': 29,\n",
              " 'каждой': 170,\n",
              " 'как': 213,\n",
              " 'кегль': 277,\n",
              " 'клиента': 67,\n",
              " 'ключевым': 190,\n",
              " 'кнопку': 217,\n",
              " 'количество': 82,\n",
              " 'колонки': 105,\n",
              " 'компании': 6,\n",
              " 'компании»': 199,\n",
              " 'компьютере': 255,\n",
              " 'конкретного': 132,\n",
              " 'консервативным': 218,\n",
              " 'контент': 180,\n",
              " 'контента': 238,\n",
              " 'контентной': 116,\n",
              " 'концепции': 71,\n",
              " 'корпоративного': 245,\n",
              " 'корпоративному': 58,\n",
              " 'корпоративным': 64,\n",
              " 'корректное': 143,\n",
              " 'краткую': 200,\n",
              " 'крутилка»': 120,\n",
              " 'лайн': 207,\n",
              " 'лаконичным': 225,\n",
              " 'левой': 103,\n",
              " 'легкой': 107,\n",
              " 'лимитировано': 86,\n",
              " 'логотипа': 45,\n",
              " 'материалов': 251,\n",
              " 'между': 115,\n",
              " 'местонахождения': 169,\n",
              " 'мета': 178,\n",
              " 'минимально': 281,\n",
              " 'модификации': 108,\n",
              " 'может': 33,\n",
              " 'н': 161,\n",
              " 'на': 2,\n",
              " 'навигацией': 94,\n",
              " 'навигационная': 122,\n",
              " 'навигация': 100,\n",
              " 'нажав': 216,\n",
              " 'нажатии': 89,\n",
              " 'например': 98,\n",
              " 'настроены': 185,\n",
              " 'начальной': 74,\n",
              " 'не': 10,\n",
              " 'небольших': 51,\n",
              " 'неброские': 220,\n",
              " 'незначительная': 240,\n",
              " 'ненавязчивые': 96,\n",
              " 'необходимо': 256,\n",
              " 'необходимых': 254,\n",
              " 'непосредственно': 210,\n",
              " 'неяркие': 221,\n",
              " 'но': 233,\n",
              " 'новости': 87,\n",
              " 'обеспечивать': 278,\n",
              " 'обеспечить': 188,\n",
              " 'области': 110,\n",
              " 'областью': 117,\n",
              " 'облегченная': 121,\n",
              " 'обозначение': 168,\n",
              " 'обработка': 241,\n",
              " 'образом': 267,\n",
              " 'обратной': 176,\n",
              " 'обязательная': 155,\n",
              " 'он': 206,\n",
              " 'описанием': 131,\n",
              " 'описания': 135,\n",
              " 'основными': 242,\n",
              " 'оставшихся': 79,\n",
              " 'осуществлено': 212,\n",
              " 'отдельно': 111,\n",
              " 'отображается': 36,\n",
              " 'отображение': 44,\n",
              " 'отсутствия': 253,\n",
              " 'оформление': 204,\n",
              " 'оформлении': 237,\n",
              " 'оформления': 15,\n",
              " 'панель': 123,\n",
              " 'пассивных': 165,\n",
              " 'пастельные': 222,\n",
              " 'переходит': 20,\n",
              " 'пиктограмм': 235,\n",
              " 'письма': 175,\n",
              " 'пкс': 129,\n",
              " 'по': 8,\n",
              " 'под': 37,\n",
              " 'поддержка': 157,\n",
              " 'пожеланиями': 66,\n",
              " 'поисковых': 46,\n",
              " 'полного': 134,\n",
              " 'полным': 130,\n",
              " 'пользователем': 215,\n",
              " 'пользователь': 19,\n",
              " 'пользователя': 22,\n",
              " 'после': 75,\n",
              " 'последующей': 106,\n",
              " 'почтовая': 172,\n",
              " 'предоставляет': 68,\n",
              " 'предполагается': 118,\n",
              " 'предусматриваются': 41,\n",
              " 'предусмотреть': 257,\n",
              " 'при': 32,\n",
              " 'приветствуется': 50,\n",
              " 'приводила': 273,\n",
              " 'примере': 73,\n",
              " 'приступает': 77,\n",
              " 'программа': 173,\n",
              " 'продвижение': 189,\n",
              " 'производится': 209,\n",
              " 'произвольный': 81,\n",
              " 'противоречить': 57,\n",
              " 'раздела': 35,\n",
              " 'размер': 276,\n",
              " 'размере': 283,\n",
              " 'разрабатывается': 125,\n",
              " 'разрешение': 127,\n",
              " 'режиме': 208,\n",
              " 'с': 5,\n",
              " 'сайт': 124,\n",
              " 'сайта': 4,\n",
              " 'сайте': 211,\n",
              " 'связи': 177,\n",
              " 'систем': 186,\n",
              " 'системах': 192,\n",
              " 'словам': 191,\n",
              " 'случае': 252,\n",
              " 'со': 202,\n",
              " 'современно': 232,\n",
              " 'содержать': 95,\n",
              " 'содержит': 47,\n",
              " 'соответствии': 63,\n",
              " 'соответствующей': 271,\n",
              " 'спецпредложения': 114,\n",
              " 'списка': 102,\n",
              " 'список': 112,\n",
              " 'ссылкам': 140,\n",
              " 'ссылке': 17,\n",
              " 'ссылки': 42,\n",
              " 'ссылкой': 31,\n",
              " 'ссылку': 90,\n",
              " 'ссылок': 166,\n",
              " 'стандартных': 258,\n",
              " 'стилем': 65,\n",
              " 'стиль': 80,\n",
              " 'стильно': 231,\n",
              " 'стильных': 234,\n",
              " 'стилю': 59,\n",
              " 'стиля': 246,\n",
              " 'страниц': 27,\n",
              " 'страницу': 21,\n",
              " 'страницы': 9,\n",
              " 'строгом': 62,\n",
              " 'т': 160,\n",
              " 'таким': 266,\n",
              " 'теги': 179,\n",
              " 'текста': 60,\n",
              " 'текстовом': 39,\n",
              " 'текстовых': 250,\n",
              " 'то': 226,\n",
              " 'тона': 224,\n",
              " 'тур»': 138,\n",
              " 'тура': 18,\n",
              " 'туров': 113,\n",
              " 'удобство': 279,\n",
              " 'утверждения': 76,\n",
              " 'фирменных': 153,\n",
              " 'флэш': 34,\n",
              " 'формой': 142,\n",
              " 'цвета': 223,\n",
              " 'цветов': 154,\n",
              " 'части': 104,\n",
              " 'часть': 197,\n",
              " 'четкое': 167,\n",
              " 'что': 187,\n",
              " 'чтобы': 268,\n",
              " 'шаблоне': 133,\n",
              " 'шапка': 92,\n",
              " 'шапкой': 38,\n",
              " 'шрифтов': 13,\n",
              " 'шрифтовыми': 243,\n",
              " 'шрифты': 54,\n",
              " 'экрана': 16,\n",
              " 'элементов': 25,\n",
              " 'элементы': 97,\n",
              " 'этапе': 181,\n",
              " 'этим': 139,\n",
              " 'является': 88,\n",
              " 'являются': 247,\n",
              " '–': 159,\n",
              " '•': 26}"
            ]
          },
          "metadata": {
            "tags": []
          },
          "execution_count": 150
        }
      ]
    },
    {
      "cell_type": "markdown",
      "metadata": {
        "id": "s_nyPsVLNW-f"
      },
      "source": [
        "Преобразуем текст в числовое представление"
      ]
    },
    {
      "cell_type": "code",
      "metadata": {
        "id": "bMZ6e-zEJHr1"
      },
      "source": [
        "sequences = tokenizer.texts_to_sequences(tz)"
      ],
      "execution_count": 151,
      "outputs": []
    },
    {
      "cell_type": "markdown",
      "metadata": {
        "id": "aZ_NJ2SlNwMI"
      },
      "source": [
        "Просматриваем новости в числовом представлении"
      ]
    },
    {
      "cell_type": "code",
      "metadata": {
        "id": "xIUJvjguN0S0",
        "colab": {
          "base_uri": "https://localhost:8080/"
        },
        "outputId": "7f63b2ba-6659-47ad-be90-a635a1730ae2"
      },
      "source": [
        "index = 1\n",
        "print(tz[index])\n",
        "print(sequences[index])"
      ],
      "execution_count": 152,
      "outputs": [
        {
          "output_type": "stream",
          "text": [
            "Стиль оформления произвольный. Количество знаков заголовка и анонса не лимитировано. Заголовок новости является ссылкой. При нажатии на ссылку \n",
            "[80, 15, 81, 82, 83, 84, 3, 85, 10, 86, 30, 87, 88, 31, 32, 89, 2, 90]\n"
          ],
          "name": "stdout"
        }
      ]
    },
    {
      "cell_type": "code",
      "metadata": {
        "id": "sQn0O5kBtmyJ",
        "colab": {
          "base_uri": "https://localhost:8080/"
        },
        "outputId": "79f06992-9e4b-43a5-b72b-feb89e901c39"
      },
      "source": [
        "tokenizer.word_index['цвета']"
      ],
      "execution_count": 153,
      "outputs": [
        {
          "output_type": "execute_result",
          "data": {
            "text/plain": [
              "223"
            ]
          },
          "metadata": {
            "tags": []
          },
          "execution_count": 153
        }
      ]
    },
    {
      "cell_type": "markdown",
      "metadata": {
        "id": "neSZfrw3OYPx"
      },
      "source": [
        "Ограничиваем длину отзывов"
      ]
    },
    {
      "cell_type": "code",
      "metadata": {
        "id": "ZGLpcETkN3ex"
      },
      "source": [
        "x_tz = pad_sequences(sequences, maxlen=max_news_len)"
      ],
      "execution_count": 154,
      "outputs": []
    },
    {
      "cell_type": "code",
      "metadata": {
        "id": "mPW1VACmOrrm",
        "colab": {
          "base_uri": "https://localhost:8080/"
        },
        "outputId": "408e7cc9-af7c-4eaa-fa33-017b6040863e"
      },
      "source": [
        "x_tz[:5]"
      ],
      "execution_count": 155,
      "outputs": [
        {
          "output_type": "execute_result",
          "data": {
            "text/plain": [
              "array([[ 27,  61,   1,  62,  63,   5,  64,  65,   6,   5,  66,  67,  28,\n",
              "         68,  69,  70,  71,  72,   2,  73,  74,   9,  75,  76,  28,  77,\n",
              "         29,  78,  79,  27],\n",
              "       [  0,   0,   0,   0,   0,   0,   0,   0,   0,   0,   0,   0,  80,\n",
              "         15,  81,  82,  83,  84,   3,  85,  10,  86,  30,  87,  88,  31,\n",
              "         32,  89,   2,  90],\n",
              "       [  0,   0,   0,   0,   0,   0,   0,   0,   0,   0,   0,   0,   0,\n",
              "          0,   0,   0,   0,   0,   0,  91,  92,   5,  93,  94,  33,  95,\n",
              "         96,  34,  97,  98],\n",
              "       [  0,   0,   0,   0,  99, 100,  35, 101,  36,   1,  11, 102,   1,\n",
              "        103, 104,  16,  37,  38,   1,  11, 105,   1,  39,  11,   7, 106,\n",
              "        107, 108, 109, 110],\n",
              "       [  0,   0,   0,   0,   0,   0,   0,   0,   0,   0,   0,   0,   0,\n",
              "          0,   0,   0,   0,   0,   0,   0,   1,  40, 111,  41,  42,   2,\n",
              "        112, 113,   3, 114]], dtype=int32)"
            ]
          },
          "metadata": {
            "tags": []
          },
          "execution_count": 155
        }
      ]
    },
    {
      "cell_type": "markdown",
      "metadata": {
        "id": "ypBYfEwvO0c4"
      },
      "source": [
        "## Сверточная нейронная сеть"
      ]
    },
    {
      "cell_type": "code",
      "metadata": {
        "id": "8ETORhRkOtIn"
      },
      "source": [
        "model_cnn = Sequential()\n",
        "model_cnn.add(Embedding(num_words, 32, input_length=max_news_len))\n",
        "model_cnn.add(Conv1D(250, 5, padding='valid', activation='relu'))\n",
        "model_cnn.add(GlobalMaxPooling1D())\n",
        "model_cnn.add(Dense(128, activation='relu'))\n",
        "model_cnn.add(Dense(4, activation='softmax'))"
      ],
      "execution_count": 156,
      "outputs": []
    },
    {
      "cell_type": "code",
      "metadata": {
        "id": "rzds0iUgPLwS"
      },
      "source": [
        "model_cnn.compile(optimizer='adam', \n",
        "              loss='categorical_crossentropy', \n",
        "              metrics=['accuracy'])"
      ],
      "execution_count": 157,
      "outputs": []
    },
    {
      "cell_type": "code",
      "metadata": {
        "id": "wpVCjslL4En2",
        "colab": {
          "base_uri": "https://localhost:8080/"
        },
        "outputId": "4a3f495b-4e6f-4408-a81d-6e9c914c1049"
      },
      "source": [
        "model_cnn.summary()"
      ],
      "execution_count": 158,
      "outputs": [
        {
          "output_type": "stream",
          "text": [
            "Model: \"sequential_6\"\n",
            "_________________________________________________________________\n",
            "Layer (type)                 Output Shape              Param #   \n",
            "=================================================================\n",
            "embedding_6 (Embedding)      (None, 30, 32)            320000    \n",
            "_________________________________________________________________\n",
            "conv1d_2 (Conv1D)            (None, 26, 250)           40250     \n",
            "_________________________________________________________________\n",
            "global_max_pooling1d_2 (Glob (None, 250)               0         \n",
            "_________________________________________________________________\n",
            "dense_8 (Dense)              (None, 128)               32128     \n",
            "_________________________________________________________________\n",
            "dense_9 (Dense)              (None, 4)                 516       \n",
            "=================================================================\n",
            "Total params: 392,894\n",
            "Trainable params: 392,894\n",
            "Non-trainable params: 0\n",
            "_________________________________________________________________\n"
          ],
          "name": "stdout"
        }
      ]
    },
    {
      "cell_type": "markdown",
      "metadata": {
        "id": "GYw-jNpW9-40"
      },
      "source": [
        "Создаем callback для сохранения нейронной сети на каждой эпохе, если качество работы на проверочном наборе данных улучшилось. Сеть сохраняется в файл `best_model.h5`"
      ]
    },
    {
      "cell_type": "code",
      "metadata": {
        "id": "inD4DaNdWgpL"
      },
      "source": [
        "model_cnn_save_path = 'best_model_cnn.h5'\n",
        "checkpoint_callback_cnn = ModelCheckpoint(model_cnn_save_path, \n",
        "                                      monitor='val_accuracy',\n",
        "                                      save_best_only=True,\n",
        "                                      verbose=1)"
      ],
      "execution_count": 159,
      "outputs": []
    },
    {
      "cell_type": "code",
      "metadata": {
        "id": "3RjBsU8_PSqp",
        "colab": {
          "base_uri": "https://localhost:8080/"
        },
        "outputId": "c7375abf-eb0a-456c-e3b9-d882f9eb71c7"
      },
      "source": [
        "history_cnn = model_cnn.fit(x_tz, \n",
        "                            y_tz, \n",
        "                            epochs=50,\n",
        "                            batch_size=128,\n",
        "                            validation_split=0.1,\n",
        "                            callbacks=[checkpoint_callback_cnn])"
      ],
      "execution_count": 164,
      "outputs": [
        {
          "output_type": "stream",
          "text": [
            "Epoch 1/50\n",
            "1/1 [==============================] - 0s 73ms/step - loss: 6.7458e-04 - accuracy: 1.0000 - val_loss: 0.6913 - val_accuracy: 0.5000\n",
            "\n",
            "Epoch 00001: val_accuracy did not improve from 1.00000\n",
            "Epoch 2/50\n",
            "1/1 [==============================] - 0s 36ms/step - loss: 6.6659e-04 - accuracy: 1.0000 - val_loss: 0.6901 - val_accuracy: 0.5000\n",
            "\n",
            "Epoch 00002: val_accuracy did not improve from 1.00000\n",
            "Epoch 3/50\n",
            "1/1 [==============================] - 0s 38ms/step - loss: 6.5887e-04 - accuracy: 1.0000 - val_loss: 0.6891 - val_accuracy: 0.5000\n",
            "\n",
            "Epoch 00003: val_accuracy did not improve from 1.00000\n",
            "Epoch 4/50\n",
            "1/1 [==============================] - 0s 38ms/step - loss: 6.5133e-04 - accuracy: 1.0000 - val_loss: 0.6881 - val_accuracy: 0.5000\n",
            "\n",
            "Epoch 00004: val_accuracy did not improve from 1.00000\n",
            "Epoch 5/50\n",
            "1/1 [==============================] - 0s 39ms/step - loss: 6.4403e-04 - accuracy: 1.0000 - val_loss: 0.6873 - val_accuracy: 0.5000\n",
            "\n",
            "Epoch 00005: val_accuracy did not improve from 1.00000\n",
            "Epoch 6/50\n",
            "1/1 [==============================] - 0s 37ms/step - loss: 6.3686e-04 - accuracy: 1.0000 - val_loss: 0.6865 - val_accuracy: 0.5000\n",
            "\n",
            "Epoch 00006: val_accuracy did not improve from 1.00000\n",
            "Epoch 7/50\n",
            "1/1 [==============================] - 0s 36ms/step - loss: 6.2988e-04 - accuracy: 1.0000 - val_loss: 0.6858 - val_accuracy: 0.5000\n",
            "\n",
            "Epoch 00007: val_accuracy did not improve from 1.00000\n",
            "Epoch 8/50\n",
            "1/1 [==============================] - 0s 37ms/step - loss: 6.2307e-04 - accuracy: 1.0000 - val_loss: 0.6851 - val_accuracy: 0.5000\n",
            "\n",
            "Epoch 00008: val_accuracy did not improve from 1.00000\n",
            "Epoch 9/50\n",
            "1/1 [==============================] - 0s 35ms/step - loss: 6.1644e-04 - accuracy: 1.0000 - val_loss: 0.6846 - val_accuracy: 0.5000\n",
            "\n",
            "Epoch 00009: val_accuracy did not improve from 1.00000\n",
            "Epoch 10/50\n",
            "1/1 [==============================] - 0s 36ms/step - loss: 6.0992e-04 - accuracy: 1.0000 - val_loss: 0.6840 - val_accuracy: 0.5000\n",
            "\n",
            "Epoch 00010: val_accuracy did not improve from 1.00000\n",
            "Epoch 11/50\n",
            "1/1 [==============================] - 0s 37ms/step - loss: 6.0354e-04 - accuracy: 1.0000 - val_loss: 0.6835 - val_accuracy: 0.5000\n",
            "\n",
            "Epoch 00011: val_accuracy did not improve from 1.00000\n",
            "Epoch 12/50\n",
            "1/1 [==============================] - 0s 37ms/step - loss: 5.9727e-04 - accuracy: 1.0000 - val_loss: 0.6830 - val_accuracy: 0.5000\n",
            "\n",
            "Epoch 00012: val_accuracy did not improve from 1.00000\n",
            "Epoch 13/50\n",
            "1/1 [==============================] - 0s 35ms/step - loss: 5.9116e-04 - accuracy: 1.0000 - val_loss: 0.6826 - val_accuracy: 0.5000\n",
            "\n",
            "Epoch 00013: val_accuracy did not improve from 1.00000\n",
            "Epoch 14/50\n",
            "1/1 [==============================] - 0s 37ms/step - loss: 5.8514e-04 - accuracy: 1.0000 - val_loss: 0.6822 - val_accuracy: 0.5000\n",
            "\n",
            "Epoch 00014: val_accuracy did not improve from 1.00000\n",
            "Epoch 15/50\n",
            "1/1 [==============================] - 0s 43ms/step - loss: 5.7924e-04 - accuracy: 1.0000 - val_loss: 0.6819 - val_accuracy: 0.5000\n",
            "\n",
            "Epoch 00015: val_accuracy did not improve from 1.00000\n",
            "Epoch 16/50\n",
            "1/1 [==============================] - 0s 40ms/step - loss: 5.7344e-04 - accuracy: 1.0000 - val_loss: 0.6815 - val_accuracy: 0.5000\n",
            "\n",
            "Epoch 00016: val_accuracy did not improve from 1.00000\n",
            "Epoch 17/50\n",
            "1/1 [==============================] - 0s 39ms/step - loss: 5.6773e-04 - accuracy: 1.0000 - val_loss: 0.6812 - val_accuracy: 0.5000\n",
            "\n",
            "Epoch 00017: val_accuracy did not improve from 1.00000\n",
            "Epoch 18/50\n",
            "1/1 [==============================] - 0s 37ms/step - loss: 5.6218e-04 - accuracy: 1.0000 - val_loss: 0.6809 - val_accuracy: 0.5000\n",
            "\n",
            "Epoch 00018: val_accuracy did not improve from 1.00000\n",
            "Epoch 19/50\n",
            "1/1 [==============================] - 0s 38ms/step - loss: 5.5667e-04 - accuracy: 1.0000 - val_loss: 0.6804 - val_accuracy: 0.5000\n",
            "\n",
            "Epoch 00019: val_accuracy did not improve from 1.00000\n",
            "Epoch 20/50\n",
            "1/1 [==============================] - 0s 37ms/step - loss: 5.5128e-04 - accuracy: 1.0000 - val_loss: 0.6800 - val_accuracy: 0.5000\n",
            "\n",
            "Epoch 00020: val_accuracy did not improve from 1.00000\n",
            "Epoch 21/50\n",
            "1/1 [==============================] - 0s 37ms/step - loss: 5.4598e-04 - accuracy: 1.0000 - val_loss: 0.6794 - val_accuracy: 0.5000\n",
            "\n",
            "Epoch 00021: val_accuracy did not improve from 1.00000\n",
            "Epoch 22/50\n",
            "1/1 [==============================] - 0s 41ms/step - loss: 5.4075e-04 - accuracy: 1.0000 - val_loss: 0.6789 - val_accuracy: 0.5000\n",
            "\n",
            "Epoch 00022: val_accuracy did not improve from 1.00000\n",
            "Epoch 23/50\n",
            "1/1 [==============================] - 0s 38ms/step - loss: 5.3564e-04 - accuracy: 1.0000 - val_loss: 0.6783 - val_accuracy: 0.5000\n",
            "\n",
            "Epoch 00023: val_accuracy did not improve from 1.00000\n",
            "Epoch 24/50\n",
            "1/1 [==============================] - 0s 39ms/step - loss: 5.3059e-04 - accuracy: 1.0000 - val_loss: 0.6776 - val_accuracy: 0.5000\n",
            "\n",
            "Epoch 00024: val_accuracy did not improve from 1.00000\n",
            "Epoch 25/50\n",
            "1/1 [==============================] - 0s 39ms/step - loss: 5.2561e-04 - accuracy: 1.0000 - val_loss: 0.6770 - val_accuracy: 0.5000\n",
            "\n",
            "Epoch 00025: val_accuracy did not improve from 1.00000\n",
            "Epoch 26/50\n",
            "1/1 [==============================] - 0s 37ms/step - loss: 5.2072e-04 - accuracy: 1.0000 - val_loss: 0.6763 - val_accuracy: 0.5000\n",
            "\n",
            "Epoch 00026: val_accuracy did not improve from 1.00000\n",
            "Epoch 27/50\n",
            "1/1 [==============================] - 0s 41ms/step - loss: 5.1592e-04 - accuracy: 1.0000 - val_loss: 0.6755 - val_accuracy: 0.5000\n",
            "\n",
            "Epoch 00027: val_accuracy did not improve from 1.00000\n",
            "Epoch 28/50\n",
            "1/1 [==============================] - 0s 36ms/step - loss: 5.1120e-04 - accuracy: 1.0000 - val_loss: 0.6748 - val_accuracy: 0.5000\n",
            "\n",
            "Epoch 00028: val_accuracy did not improve from 1.00000\n",
            "Epoch 29/50\n",
            "1/1 [==============================] - 0s 41ms/step - loss: 5.0648e-04 - accuracy: 1.0000 - val_loss: 0.6741 - val_accuracy: 0.5000\n",
            "\n",
            "Epoch 00029: val_accuracy did not improve from 1.00000\n",
            "Epoch 30/50\n",
            "1/1 [==============================] - 0s 35ms/step - loss: 5.0188e-04 - accuracy: 1.0000 - val_loss: 0.6735 - val_accuracy: 0.5000\n",
            "\n",
            "Epoch 00030: val_accuracy did not improve from 1.00000\n",
            "Epoch 31/50\n",
            "1/1 [==============================] - 0s 37ms/step - loss: 4.9738e-04 - accuracy: 1.0000 - val_loss: 0.6729 - val_accuracy: 0.5000\n",
            "\n",
            "Epoch 00031: val_accuracy did not improve from 1.00000\n",
            "Epoch 32/50\n",
            "1/1 [==============================] - 0s 37ms/step - loss: 4.9289e-04 - accuracy: 1.0000 - val_loss: 0.6724 - val_accuracy: 0.5000\n",
            "\n",
            "Epoch 00032: val_accuracy did not improve from 1.00000\n",
            "Epoch 33/50\n",
            "1/1 [==============================] - 0s 38ms/step - loss: 4.8847e-04 - accuracy: 1.0000 - val_loss: 0.6719 - val_accuracy: 0.5000\n",
            "\n",
            "Epoch 00033: val_accuracy did not improve from 1.00000\n",
            "Epoch 34/50\n",
            "1/1 [==============================] - 0s 36ms/step - loss: 4.8408e-04 - accuracy: 1.0000 - val_loss: 0.6715 - val_accuracy: 0.5000\n",
            "\n",
            "Epoch 00034: val_accuracy did not improve from 1.00000\n",
            "Epoch 35/50\n",
            "1/1 [==============================] - 0s 35ms/step - loss: 4.7980e-04 - accuracy: 1.0000 - val_loss: 0.6711 - val_accuracy: 0.5000\n",
            "\n",
            "Epoch 00035: val_accuracy did not improve from 1.00000\n",
            "Epoch 36/50\n",
            "1/1 [==============================] - 0s 37ms/step - loss: 4.7558e-04 - accuracy: 1.0000 - val_loss: 0.6705 - val_accuracy: 0.5000\n",
            "\n",
            "Epoch 00036: val_accuracy did not improve from 1.00000\n",
            "Epoch 37/50\n",
            "1/1 [==============================] - 0s 39ms/step - loss: 4.7140e-04 - accuracy: 1.0000 - val_loss: 0.6700 - val_accuracy: 0.5000\n",
            "\n",
            "Epoch 00037: val_accuracy did not improve from 1.00000\n",
            "Epoch 38/50\n",
            "1/1 [==============================] - 0s 42ms/step - loss: 4.6727e-04 - accuracy: 1.0000 - val_loss: 0.6694 - val_accuracy: 0.5000\n",
            "\n",
            "Epoch 00038: val_accuracy did not improve from 1.00000\n",
            "Epoch 39/50\n",
            "1/1 [==============================] - 0s 42ms/step - loss: 4.6318e-04 - accuracy: 1.0000 - val_loss: 0.6687 - val_accuracy: 0.5000\n",
            "\n",
            "Epoch 00039: val_accuracy did not improve from 1.00000\n",
            "Epoch 40/50\n",
            "1/1 [==============================] - 0s 46ms/step - loss: 4.5915e-04 - accuracy: 1.0000 - val_loss: 0.6681 - val_accuracy: 0.5000\n",
            "\n",
            "Epoch 00040: val_accuracy did not improve from 1.00000\n",
            "Epoch 41/50\n",
            "1/1 [==============================] - 0s 41ms/step - loss: 4.5520e-04 - accuracy: 1.0000 - val_loss: 0.6675 - val_accuracy: 0.5000\n",
            "\n",
            "Epoch 00041: val_accuracy did not improve from 1.00000\n",
            "Epoch 42/50\n",
            "1/1 [==============================] - 0s 39ms/step - loss: 4.5129e-04 - accuracy: 1.0000 - val_loss: 0.6670 - val_accuracy: 0.5000\n",
            "\n",
            "Epoch 00042: val_accuracy did not improve from 1.00000\n",
            "Epoch 43/50\n",
            "1/1 [==============================] - 0s 37ms/step - loss: 4.4740e-04 - accuracy: 1.0000 - val_loss: 0.6667 - val_accuracy: 0.5000\n",
            "\n",
            "Epoch 00043: val_accuracy did not improve from 1.00000\n",
            "Epoch 44/50\n",
            "1/1 [==============================] - 0s 41ms/step - loss: 4.4357e-04 - accuracy: 1.0000 - val_loss: 0.6663 - val_accuracy: 0.5000\n",
            "\n",
            "Epoch 00044: val_accuracy did not improve from 1.00000\n",
            "Epoch 45/50\n",
            "1/1 [==============================] - 0s 40ms/step - loss: 4.3981e-04 - accuracy: 1.0000 - val_loss: 0.6659 - val_accuracy: 0.5000\n",
            "\n",
            "Epoch 00045: val_accuracy did not improve from 1.00000\n",
            "Epoch 46/50\n",
            "1/1 [==============================] - 0s 45ms/step - loss: 4.3609e-04 - accuracy: 1.0000 - val_loss: 0.6655 - val_accuracy: 0.5000\n",
            "\n",
            "Epoch 00046: val_accuracy did not improve from 1.00000\n",
            "Epoch 47/50\n",
            "1/1 [==============================] - 0s 44ms/step - loss: 4.3240e-04 - accuracy: 1.0000 - val_loss: 0.6650 - val_accuracy: 0.5000\n",
            "\n",
            "Epoch 00047: val_accuracy did not improve from 1.00000\n",
            "Epoch 48/50\n",
            "1/1 [==============================] - 0s 46ms/step - loss: 4.2877e-04 - accuracy: 1.0000 - val_loss: 0.6645 - val_accuracy: 0.5000\n",
            "\n",
            "Epoch 00048: val_accuracy did not improve from 1.00000\n",
            "Epoch 49/50\n",
            "1/1 [==============================] - 0s 47ms/step - loss: 4.2517e-04 - accuracy: 1.0000 - val_loss: 0.6639 - val_accuracy: 0.5000\n",
            "\n",
            "Epoch 00049: val_accuracy did not improve from 1.00000\n",
            "Epoch 50/50\n",
            "1/1 [==============================] - 0s 43ms/step - loss: 4.2163e-04 - accuracy: 1.0000 - val_loss: 0.6633 - val_accuracy: 0.5000\n",
            "\n",
            "Epoch 00050: val_accuracy did not improve from 1.00000\n"
          ],
          "name": "stdout"
        }
      ]
    },
    {
      "cell_type": "code",
      "metadata": {
        "id": "D87iUZmNP0rk",
        "colab": {
          "base_uri": "https://localhost:8080/",
          "height": 279
        },
        "outputId": "a6ea629b-1531-4c48-9058-81ccb4f360d9"
      },
      "source": [
        "plt.plot(history_cnn.history['accuracy'], \n",
        "         label='Доля верных ответов на обучающем наборе')\n",
        "plt.plot(history_cnn.history['val_accuracy'], \n",
        "         label='Доля верных ответов на проверочном наборе')\n",
        "plt.xlabel('Эпоха обучения')\n",
        "plt.ylabel('Доля верных ответов')\n",
        "plt.legend()\n",
        "plt.show()"
      ],
      "execution_count": 165,
      "outputs": [
        {
          "output_type": "display_data",
          "data": {
            "image/png": "[encoded data removed]",
            "text/plain": [
              "<Figure size 432x288 with 1 Axes>"
            ]
          },
          "metadata": {
            "tags": [],
            "needs_background": "light"
          }
        }
      ]
    },
    {
      "cell_type": "markdown",
      "metadata": {
        "id": "VFUTMuKL8SNY"
      },
      "source": [
        "## Cеть LSTM"
      ]
    },
    {
      "cell_type": "code",
      "metadata": {
        "id": "s_ZqIgqS8SNa"
      },
      "source": [
        "model_lstm = Sequential()\n",
        "model_lstm.add(Embedding(num_words, 32, input_length=max_news_len))\n",
        "model_lstm.add(LSTM(16))\n",
        "model_lstm.add(Dense(4, activation='softmax'))"
      ],
      "execution_count": 166,
      "outputs": []
    },
    {
      "cell_type": "code",
      "metadata": {
        "id": "IoxJ8kNf8SNc"
      },
      "source": [
        "model_lstm.compile(optimizer='adam', \n",
        "              loss='categorical_crossentropy', \n",
        "              metrics=['accuracy'])"
      ],
      "execution_count": 167,
      "outputs": []
    },
    {
      "cell_type": "code",
      "metadata": {
        "id": "KNc2OK3j8SNe",
        "colab": {
          "base_uri": "https://localhost:8080/"
        },
        "outputId": "4c72f399-db8a-4a3f-e9d2-a5e81e9e6d50"
      },
      "source": [
        "model_lstm.summary()"
      ],
      "execution_count": 168,
      "outputs": [
        {
          "output_type": "stream",
          "text": [
            "Model: \"sequential_7\"\n",
            "_________________________________________________________________\n",
            "Layer (type)                 Output Shape              Param #   \n",
            "=================================================================\n",
            "embedding_7 (Embedding)      (None, 30, 32)            320000    \n",
            "_________________________________________________________________\n",
            "lstm_2 (LSTM)                (None, 16)                3136      \n",
            "_________________________________________________________________\n",
            "dense_10 (Dense)             (None, 4)                 68        \n",
            "=================================================================\n",
            "Total params: 323,204\n",
            "Trainable params: 323,204\n",
            "Non-trainable params: 0\n",
            "_________________________________________________________________\n"
          ],
          "name": "stdout"
        }
      ]
    },
    {
      "cell_type": "markdown",
      "metadata": {
        "id": "KzJtvcIa8SNh"
      },
      "source": [
        "Создаем callback для сохранения нейронной сети на каждой эпохе, если качество работы на проверочном наборе данных улучшилось. Сеть сохраняется в файл `best_model.h5`"
      ]
    },
    {
      "cell_type": "code",
      "metadata": {
        "id": "qCu0Xlyj8SNi"
      },
      "source": [
        "model_lstm_save_path = 'best_model_lstm.h5'\n",
        "checkpoint_callback_lstm = ModelCheckpoint(model_lstm_save_path, \n",
        "                                      monitor='val_accuracy',\n",
        "                                      save_best_only=True,\n",
        "                                      verbose=1)"
      ],
      "execution_count": 169,
      "outputs": []
    },
    {
      "cell_type": "code",
      "metadata": {
        "id": "znNeO0lO8SNk",
        "colab": {
          "base_uri": "https://localhost:8080/"
        },
        "outputId": "1ba848c4-9465-4cf6-8d12-ae66e1798c8a"
      },
      "source": [
        "history_lstm = model_lstm.fit(x_tz, \n",
        "                              y_tz, \n",
        "                              epochs=5,\n",
        "                              batch_size=128,\n",
        "                              validation_split=0.1,\n",
        "                              callbacks=[checkpoint_callback_lstm])"
      ],
      "execution_count": 170,
      "outputs": [
        {
          "output_type": "stream",
          "text": [
            "Epoch 1/5\n",
            "1/1 [==============================] - 2s 2s/step - loss: 1.3819 - accuracy: 0.3333 - val_loss: 1.3913 - val_accuracy: 0.0000e+00\n",
            "\n",
            "Epoch 00001: val_accuracy improved from -inf to 0.00000, saving model to best_model_lstm.h5\n",
            "Epoch 2/5\n",
            "1/1 [==============================] - 0s 42ms/step - loss: 1.3766 - accuracy: 0.6111 - val_loss: 1.3855 - val_accuracy: 0.0000e+00\n",
            "\n",
            "Epoch 00002: val_accuracy did not improve from 0.00000\n",
            "Epoch 3/5\n",
            "1/1 [==============================] - 0s 37ms/step - loss: 1.3712 - accuracy: 0.7778 - val_loss: 1.3797 - val_accuracy: 0.0000e+00\n",
            "\n",
            "Epoch 00003: val_accuracy did not improve from 0.00000\n",
            "Epoch 4/5\n",
            "1/1 [==============================] - 0s 37ms/step - loss: 1.3658 - accuracy: 0.7778 - val_loss: 1.3737 - val_accuracy: 0.0000e+00\n",
            "\n",
            "Epoch 00004: val_accuracy did not improve from 0.00000\n",
            "Epoch 5/5\n",
            "1/1 [==============================] - 0s 42ms/step - loss: 1.3602 - accuracy: 0.7778 - val_loss: 1.3676 - val_accuracy: 0.5000\n",
            "\n",
            "Epoch 00005: val_accuracy improved from 0.00000 to 0.50000, saving model to best_model_lstm.h5\n"
          ],
          "name": "stdout"
        }
      ]
    },
    {
      "cell_type": "code",
      "metadata": {
        "id": "iFTVTtcM8SNm",
        "colab": {
          "base_uri": "https://localhost:8080/",
          "height": 279
        },
        "outputId": "d0bce21f-fbbe-42d3-eb02-bf3b5d8d3671"
      },
      "source": [
        "plt.plot(history_lstm.history['accuracy'], \n",
        "         label='Доля верных ответов на обучающем наборе')\n",
        "plt.plot(history_lstm.history['val_accuracy'], \n",
        "         label='Доля верных ответов на проверочном наборе')\n",
        "plt.xlabel('Эпоха обучения')\n",
        "plt.ylabel('Доля верных ответов')\n",
        "plt.legend()\n",
        "plt.show()"
      ],
      "execution_count": 171,
      "outputs": [
        {
          "output_type": "display_data",
          "data": {
            "image/png": "[encoded data removed]",
            "text/plain": [
              "<Figure size 432x288 with 1 Axes>"
            ]
          },
          "metadata": {
            "tags": [],
            "needs_background": "light"
          }
        }
      ]
    },
    {
      "cell_type": "markdown",
      "metadata": {
        "id": "rKlSelFd9N7X"
      },
      "source": [
        "## Cеть GRU"
      ]
    },
    {
      "cell_type": "code",
      "metadata": {
        "id": "cX6ixo129N7Y"
      },
      "source": [
        "model_gru = Sequential()\n",
        "model_gru.add(Embedding(num_words, 32, input_length=max_news_len))\n",
        "model_gru.add(GRU(16))\n",
        "model_gru.add(Dense(4, activation='softmax'))"
      ],
      "execution_count": 172,
      "outputs": []
    },
    {
      "cell_type": "code",
      "metadata": {
        "id": "x6jjohYc9N7a"
      },
      "source": [
        "model_gru.compile(optimizer='adam', \n",
        "              loss='categorical_crossentropy', \n",
        "              metrics=['accuracy'])"
      ],
      "execution_count": 173,
      "outputs": []
    },
    {
      "cell_type": "code",
      "metadata": {
        "id": "O5hVTQ389N7c",
        "colab": {
          "base_uri": "https://localhost:8080/"
        },
        "outputId": "61b29aac-117c-4739-f585-6e2f98bc1860"
      },
      "source": [
        "model_gru.summary()"
      ],
      "execution_count": 174,
      "outputs": [
        {
          "output_type": "stream",
          "text": [
            "Model: \"sequential_8\"\n",
            "_________________________________________________________________\n",
            "Layer (type)                 Output Shape              Param #   \n",
            "=================================================================\n",
            "embedding_8 (Embedding)      (None, 30, 32)            320000    \n",
            "_________________________________________________________________\n",
            "gru_2 (GRU)                  (None, 16)                2400      \n",
            "_________________________________________________________________\n",
            "dense_11 (Dense)             (None, 4)                 68        \n",
            "=================================================================\n",
            "Total params: 322,468\n",
            "Trainable params: 322,468\n",
            "Non-trainable params: 0\n",
            "_________________________________________________________________\n"
          ],
          "name": "stdout"
        }
      ]
    },
    {
      "cell_type": "markdown",
      "metadata": {
        "id": "fT4H-dh99N7f"
      },
      "source": [
        "Создаем callback для сохранения нейронной сети на каждой эпохе, если качество работы на проверочном наборе данных улучшилось. Сеть сохраняется в файл `best_model_gru.h5`"
      ]
    },
    {
      "cell_type": "code",
      "metadata": {
        "id": "gVkz3fpH9N7f"
      },
      "source": [
        "model_gru_save_path = 'best_model_gru.h5'\n",
        "checkpoint_callback_gru = ModelCheckpoint(model_gru_save_path, \n",
        "                                      monitor='val_accuracy',\n",
        "                                      save_best_only=True,\n",
        "                                      verbose=1)"
      ],
      "execution_count": 175,
      "outputs": []
    },
    {
      "cell_type": "code",
      "metadata": {
        "id": "RjIx2P-S9N7h",
        "colab": {
          "base_uri": "https://localhost:8080/"
        },
        "outputId": "161ea3e7-397e-4aff-f797-a4fe779d01da"
      },
      "source": [
        "history_gru = model_gru.fit(x_tz, \n",
        "                              y_tz, \n",
        "                              epochs=5,\n",
        "                              batch_size=128,\n",
        "                              validation_split=0.1,\n",
        "                              callbacks=[checkpoint_callback_gru])"
      ],
      "execution_count": 176,
      "outputs": [
        {
          "output_type": "stream",
          "text": [
            "Epoch 1/5\n",
            "1/1 [==============================] - 2s 2s/step - loss: 1.3869 - accuracy: 0.1667 - val_loss: 1.3924 - val_accuracy: 0.0000e+00\n",
            "\n",
            "Epoch 00001: val_accuracy improved from -inf to 0.00000, saving model to best_model_gru.h5\n",
            "Epoch 2/5\n",
            "1/1 [==============================] - 0s 40ms/step - loss: 1.3802 - accuracy: 0.3333 - val_loss: 1.3903 - val_accuracy: 0.0000e+00\n",
            "\n",
            "Epoch 00002: val_accuracy did not improve from 0.00000\n",
            "Epoch 3/5\n",
            "1/1 [==============================] - 0s 35ms/step - loss: 1.3736 - accuracy: 0.5000 - val_loss: 1.3882 - val_accuracy: 0.0000e+00\n",
            "\n",
            "Epoch 00003: val_accuracy did not improve from 0.00000\n",
            "Epoch 4/5\n",
            "1/1 [==============================] - 0s 35ms/step - loss: 1.3669 - accuracy: 0.6667 - val_loss: 1.3861 - val_accuracy: 0.0000e+00\n",
            "\n",
            "Epoch 00004: val_accuracy did not improve from 0.00000\n",
            "Epoch 5/5\n",
            "1/1 [==============================] - 0s 36ms/step - loss: 1.3602 - accuracy: 0.6667 - val_loss: 1.3841 - val_accuracy: 0.0000e+00\n",
            "\n",
            "Epoch 00005: val_accuracy did not improve from 0.00000\n"
          ],
          "name": "stdout"
        }
      ]
    },
    {
      "cell_type": "code",
      "metadata": {
        "id": "0ivAKvRU9N7j",
        "colab": {
          "base_uri": "https://localhost:8080/",
          "height": 283
        },
        "outputId": "0172d28a-25c4-4bff-eba4-30de65605a4f"
      },
      "source": [
        "plt.plot(history_gru.history['accuracy'], \n",
        "         label='Доля верных ответов на обучающем наборе')\n",
        "plt.plot(history_gru.history['val_accuracy'], \n",
        "         label='Доля верных ответов на проверочном наборе')\n",
        "plt.xlabel('Эпоха обучения')\n",
        "plt.ylabel('Доля верных ответов')\n",
        "plt.legend()\n",
        "plt.show()"
      ],
      "execution_count": 177,
      "outputs": [
        {
          "output_type": "display_data",
          "data": {
            "image/png": "[encoded data removed]",
            "text/plain": [
              "<Figure size 432x288 with 1 Axes>"
            ]
          },
          "metadata": {
            "tags": [],
            "needs_background": "light"
          }
        }
      ]
    },
    {
      "cell_type": "markdown",
      "metadata": {
        "id": "Ma51nugyR5Ct"
      },
      "source": [
        "## Загружаем набор данных для тестирования"
      ]
    },
    {
      "cell_type": "code",
      "metadata": {
        "id": "0OQ9iHYWYJ7G"
      },
      "source": [
        "test = pd.read_csv('test.csv', \n",
        "                    header=None, \n",
        "                    names=['class', 'title', 'text'])"
      ],
      "execution_count": 186,
      "outputs": []
    },
    {
      "cell_type": "code",
      "metadata": {
        "id": "4W8Exe9nYYC6",
        "colab": {
          "base_uri": "https://localhost:8080/",
          "height": 173
        },
        "outputId": "47aaf1ea-8943-4ce3-c74c-4ff8fc5599f4"
      },
      "source": [
        "test"
      ],
      "execution_count": 187,
      "outputs": [
        {
          "output_type": "execute_result",
          "data": {
            "text/html": [
              "<div>\n",
              "<style scoped>\n",
              "    .dataframe tbody tr th:only-of-type {\n",
              "        vertical-align: middle;\n",
              "    }\n",
              "\n",
              "    .dataframe tbody tr th {\n",
              "        vertical-align: top;\n",
              "    }\n",
              "\n",
              "    .dataframe thead th {\n",
              "        text-align: right;\n",
              "    }\n",
              "</style>\n",
              "<table border=\"1\" class=\"dataframe\">\n",
              "  <thead>\n",
              "    <tr style=\"text-align: right;\">\n",
              "      <th></th>\n",
              "      <th>class</th>\n",
              "      <th>title</th>\n",
              "      <th>text</th>\n",
              "    </tr>\n",
              "  </thead>\n",
              "  <tbody>\n",
              "    <tr>\n",
              "      <th>1</th>\n",
              "      <td>Дизайн</td>\n",
              "      <td>Дизайн страниц выполняется в строгом соответст...</td>\n",
              "      <td>с пожеланиями клиента.Исполнитель предоставля...</td>\n",
              "    </tr>\n",
              "    <tr>\n",
              "      <th>2</th>\n",
              "      <td>Нефункц. требования</td>\n",
              "      <td>Сайт разрабатывается под базовое разрешение эк...</td>\n",
              "      <td>NaN</td>\n",
              "    </tr>\n",
              "    <tr>\n",
              "      <th>3</th>\n",
              "      <td>Взаимодействие пользователя</td>\n",
              "      <td>По ссылке на заголовок тура пользователь перех...</td>\n",
              "      <td>где он может оформить заявку на выбранный им ...</td>\n",
              "    </tr>\n",
              "    <tr>\n",
              "      <th>4</th>\n",
              "      <td>Структура</td>\n",
              "      <td>«О компании» - содержит краткую информацию раз...</td>\n",
              "      <td>ведущую на раздел «О компании».</td>\n",
              "    </tr>\n",
              "  </tbody>\n",
              "</table>\n",
              "</div>"
            ],
            "text/plain": [
              "                         class  ...                                               text\n",
              "1                       Дизайн  ...   с пожеланиями клиента.Исполнитель предоставля...\n",
              "2          Нефункц. требования  ...                                                NaN\n",
              "3  Взаимодействие пользователя  ...   где он может оформить заявку на выбранный им ...\n",
              "4                    Структура  ...                    ведущую на раздел «О компании».\n",
              "\n",
              "[4 rows x 3 columns]"
            ]
          },
          "metadata": {
            "tags": []
          },
          "execution_count": 187
        }
      ]
    },
    {
      "cell_type": "markdown",
      "metadata": {
        "id": "xgEjSpX5biaJ"
      },
      "source": [
        "Преобразуем новости в числовое представление\n",
        "\n",
        "Обратите внимание, что нужно использовать токенизатор, обученный на наборе данных train."
      ]
    },
    {
      "cell_type": "code",
      "metadata": {
        "id": "wE8JtIgybvLx",
        "colab": {
          "base_uri": "https://localhost:8080/",
          "height": 563
        },
        "outputId": "920dee70-82ba-4602-9e46-7e5cda593ae9"
      },
      "source": [
        "test_sequences = tokenizer.texts_to_sequences(test['title'+'text'])"
      ],
      "execution_count": 190,
      "outputs": [
        {
          "output_type": "error",
          "ename": "KeyError",
          "evalue": "ignored",
          "traceback": [
            "\u001b[0;31m---------------------------------------------------------------------------\u001b[0m",
            "\u001b[0;31mKeyError\u001b[0m                                  Traceback (most recent call last)",
            "\u001b[0;32m/usr/local/lib/python3.7/dist-packages/pandas/core/indexes/base.py\u001b[0m in \u001b[0;36mget_loc\u001b[0;34m(self, key, method, tolerance)\u001b[0m\n\u001b[1;32m   2897\u001b[0m             \u001b[0;32mtry\u001b[0m\u001b[0;34m:\u001b[0m\u001b[0;34m\u001b[0m\u001b[0;34m\u001b[0m\u001b[0m\n\u001b[0;32m-> 2898\u001b[0;31m                 \u001b[0;32mreturn\u001b[0m \u001b[0mself\u001b[0m\u001b[0;34m.\u001b[0m\u001b[0m_engine\u001b[0m\u001b[0;34m.\u001b[0m\u001b[0mget_loc\u001b[0m\u001b[0;34m(\u001b[0m\u001b[0mcasted_key\u001b[0m\u001b[0;34m)\u001b[0m\u001b[0;34m\u001b[0m\u001b[0;34m\u001b[0m\u001b[0m\n\u001b[0m\u001b[1;32m   2899\u001b[0m             \u001b[0;32mexcept\u001b[0m \u001b[0mKeyError\u001b[0m \u001b[0;32mas\u001b[0m \u001b[0merr\u001b[0m\u001b[0;34m:\u001b[0m\u001b[0;34m\u001b[0m\u001b[0;34m\u001b[0m\u001b[0m\n",
            "\u001b[0;32mpandas/_libs/index.pyx\u001b[0m in \u001b[0;36mpandas._libs.index.IndexEngine.get_loc\u001b[0;34m()\u001b[0m\n",
            "\u001b[0;32mpandas/_libs/index.pyx\u001b[0m in \u001b[0;36mpandas._libs.index.IndexEngine.get_loc\u001b[0;34m()\u001b[0m\n",
            "\u001b[0;32mpandas/_libs/hashtable_class_helper.pxi\u001b[0m in \u001b[0;36mpandas._libs.hashtable.PyObjectHashTable.get_item\u001b[0;34m()\u001b[0m\n",
            "\u001b[0;32mpandas/_libs/hashtable_class_helper.pxi\u001b[0m in \u001b[0;36mpandas._libs.hashtable.PyObjectHashTable.get_item\u001b[0;34m()\u001b[0m\n",
            "\u001b[0;31mKeyError\u001b[0m: 'titletext'",
            "\nThe above exception was the direct cause of the following exception:\n",
            "\u001b[0;31mKeyError\u001b[0m                                  Traceback (most recent call last)",
            "\u001b[0;32m<ipython-input-190-3669f2332b7f>\u001b[0m in \u001b[0;36m<module>\u001b[0;34m()\u001b[0m\n\u001b[0;32m----> 1\u001b[0;31m \u001b[0mtest_sequences\u001b[0m \u001b[0;34m=\u001b[0m \u001b[0mtokenizer\u001b[0m\u001b[0;34m.\u001b[0m\u001b[0mtexts_to_sequences\u001b[0m\u001b[0;34m(\u001b[0m\u001b[0mtest\u001b[0m\u001b[0;34m[\u001b[0m\u001b[0;34m'title'\u001b[0m\u001b[0;34m+\u001b[0m\u001b[0;34m'text'\u001b[0m\u001b[0;34m]\u001b[0m\u001b[0;34m)\u001b[0m\u001b[0;34m\u001b[0m\u001b[0;34m\u001b[0m\u001b[0m\n\u001b[0m",
            "\u001b[0;32m/usr/local/lib/python3.7/dist-packages/pandas/core/frame.py\u001b[0m in \u001b[0;36m__getitem__\u001b[0;34m(self, key)\u001b[0m\n\u001b[1;32m   2904\u001b[0m             \u001b[0;32mif\u001b[0m \u001b[0mself\u001b[0m\u001b[0;34m.\u001b[0m\u001b[0mcolumns\u001b[0m\u001b[0;34m.\u001b[0m\u001b[0mnlevels\u001b[0m \u001b[0;34m>\u001b[0m \u001b[0;36m1\u001b[0m\u001b[0;34m:\u001b[0m\u001b[0;34m\u001b[0m\u001b[0;34m\u001b[0m\u001b[0m\n\u001b[1;32m   2905\u001b[0m                 \u001b[0;32mreturn\u001b[0m \u001b[0mself\u001b[0m\u001b[0;34m.\u001b[0m\u001b[0m_getitem_multilevel\u001b[0m\u001b[0;34m(\u001b[0m\u001b[0mkey\u001b[0m\u001b[0;34m)\u001b[0m\u001b[0;34m\u001b[0m\u001b[0;34m\u001b[0m\u001b[0m\n\u001b[0;32m-> 2906\u001b[0;31m             \u001b[0mindexer\u001b[0m \u001b[0;34m=\u001b[0m \u001b[0mself\u001b[0m\u001b[0;34m.\u001b[0m\u001b[0mcolumns\u001b[0m\u001b[0;34m.\u001b[0m\u001b[0mget_loc\u001b[0m\u001b[0;34m(\u001b[0m\u001b[0mkey\u001b[0m\u001b[0;34m)\u001b[0m\u001b[0;34m\u001b[0m\u001b[0;34m\u001b[0m\u001b[0m\n\u001b[0m\u001b[1;32m   2907\u001b[0m             \u001b[0;32mif\u001b[0m \u001b[0mis_integer\u001b[0m\u001b[0;34m(\u001b[0m\u001b[0mindexer\u001b[0m\u001b[0;34m)\u001b[0m\u001b[0;34m:\u001b[0m\u001b[0;34m\u001b[0m\u001b[0;34m\u001b[0m\u001b[0m\n\u001b[1;32m   2908\u001b[0m                 \u001b[0mindexer\u001b[0m \u001b[0;34m=\u001b[0m \u001b[0;34m[\u001b[0m\u001b[0mindexer\u001b[0m\u001b[0;34m]\u001b[0m\u001b[0;34m\u001b[0m\u001b[0;34m\u001b[0m\u001b[0m\n",
            "\u001b[0;32m/usr/local/lib/python3.7/dist-packages/pandas/core/indexes/base.py\u001b[0m in \u001b[0;36mget_loc\u001b[0;34m(self, key, method, tolerance)\u001b[0m\n\u001b[1;32m   2898\u001b[0m                 \u001b[0;32mreturn\u001b[0m \u001b[0mself\u001b[0m\u001b[0;34m.\u001b[0m\u001b[0m_engine\u001b[0m\u001b[0;34m.\u001b[0m\u001b[0mget_loc\u001b[0m\u001b[0;34m(\u001b[0m\u001b[0mcasted_key\u001b[0m\u001b[0;34m)\u001b[0m\u001b[0;34m\u001b[0m\u001b[0;34m\u001b[0m\u001b[0m\n\u001b[1;32m   2899\u001b[0m             \u001b[0;32mexcept\u001b[0m \u001b[0mKeyError\u001b[0m \u001b[0;32mas\u001b[0m \u001b[0merr\u001b[0m\u001b[0;34m:\u001b[0m\u001b[0;34m\u001b[0m\u001b[0;34m\u001b[0m\u001b[0m\n\u001b[0;32m-> 2900\u001b[0;31m                 \u001b[0;32mraise\u001b[0m \u001b[0mKeyError\u001b[0m\u001b[0;34m(\u001b[0m\u001b[0mkey\u001b[0m\u001b[0;34m)\u001b[0m \u001b[0;32mfrom\u001b[0m \u001b[0merr\u001b[0m\u001b[0;34m\u001b[0m\u001b[0;34m\u001b[0m\u001b[0m\n\u001b[0m\u001b[1;32m   2901\u001b[0m \u001b[0;34m\u001b[0m\u001b[0m\n\u001b[1;32m   2902\u001b[0m         \u001b[0;32mif\u001b[0m \u001b[0mtolerance\u001b[0m \u001b[0;32mis\u001b[0m \u001b[0;32mnot\u001b[0m \u001b[0;32mNone\u001b[0m\u001b[0;34m:\u001b[0m\u001b[0;34m\u001b[0m\u001b[0;34m\u001b[0m\u001b[0m\n",
            "\u001b[0;31mKeyError\u001b[0m: 'titletext'"
          ]
        }
      ]
    },
    {
      "cell_type": "code",
      "metadata": {
        "id": "haKQPtc-byBf"
      },
      "source": [
        "x_test = pad_sequences(test_sequences, maxlen=max_news_len)"
      ],
      "execution_count": null,
      "outputs": []
    },
    {
      "cell_type": "code",
      "metadata": {
        "id": "LQsqVZedb-Qf",
        "colab": {
          "base_uri": "https://localhost:8080/",
          "height": 274
        },
        "outputId": "0448ff71-9a29-4632-881c-dfda6ce41fea"
      },
      "source": [
        "x_test[:5]"
      ],
      "execution_count": null,
      "outputs": [
        {
          "output_type": "execute_result",
          "data": {
            "text/plain": [
              "array([[   0,    0,    0,    0,    0,    0,    0,    0,    0,    0,    0,\n",
              "           0,    0,    0, 2020, 3371,  449,   15, 6956,  252,   60,   33,\n",
              "          28,  289,   12, 9088, 2184,  371,  169, 9284],\n",
              "       [  92,  119,    4, 3472,    8,    1,  402,  134,   75, 5471, 1516,\n",
              "        1227,    2, 3436,    8, 2744, 5220,  230,  936,   20, 2148,  117,\n",
              "           1,   38,  561, 1974,    8,   14, 3957, 1218],\n",
              "       [   2,   52, 5787,   18,    2, 4914,   15,    1,  525,    4, 4586,\n",
              "         227,    2, 3922,    3, 1316,    2, 6888,    4, 2893,  576,   84,\n",
              "          33,  758, 6515,    4,    1, 1013, 5154,    4],\n",
              "       [9642, 1291,    6, 8714,   41,  671,   40, 2977,  177,    1,  108,\n",
              "          26, 1027, 7300,   26,  760,    5, 3356,   40, 1271, 2450,   26,\n",
              "        2170,   50, 3356,   26, 7415,    6, 9153,   26],\n",
              "       [   0,    0,    0,    0,    0,    0,   39,  493, 7343,  832,  400,\n",
              "         820,   28, 3827,    4,    1, 4474,   54, 9411,    1, 1273,   38,\n",
              "        1230,    3, 1365,  348, 3899,   23, 5065, 5091]], dtype=int32)"
            ]
          },
          "metadata": {
            "tags": []
          },
          "execution_count": 107
        }
      ]
    },
    {
      "cell_type": "markdown",
      "metadata": {
        "id": "afswW4zVcPfT"
      },
      "source": [
        "Правильные ответы"
      ]
    },
    {
      "cell_type": "code",
      "metadata": {
        "id": "tsdQdcvBcFsv"
      },
      "source": [
        "y_test = utils.to_categorical(test['class'] - 1, nb_classes)"
      ],
      "execution_count": null,
      "outputs": []
    },
    {
      "cell_type": "code",
      "metadata": {
        "id": "86TiWSg8cYkI",
        "colab": {
          "base_uri": "https://localhost:8080/",
          "height": 137
        },
        "outputId": "4e20b310-2b9d-427b-d129-ed49ee6eaef5"
      },
      "source": [
        "y_test"
      ],
      "execution_count": null,
      "outputs": [
        {
          "output_type": "execute_result",
          "data": {
            "text/plain": [
              "array([[0., 0., 1., 0.],\n",
              "       [0., 0., 0., 1.],\n",
              "       [0., 0., 0., 1.],\n",
              "       ...,\n",
              "       [0., 1., 0., 0.],\n",
              "       [0., 0., 1., 0.],\n",
              "       [0., 0., 1., 0.]], dtype=float32)"
            ]
          },
          "metadata": {
            "tags": []
          },
          "execution_count": 109
        }
      ]
    },
    {
      "cell_type": "markdown",
      "metadata": {
        "id": "3DJbzO3ucewV"
      },
      "source": [
        "## Оцениваем качество работы сети на тестовом наборе данных"
      ]
    },
    {
      "cell_type": "markdown",
      "metadata": {
        "id": "5XYdOGmL_szI"
      },
      "source": [
        "### Одномерная сверточная сеть "
      ]
    },
    {
      "cell_type": "code",
      "metadata": {
        "id": "-HUt8GsfAM4z"
      },
      "source": [
        "model_cnn.load_weights(model_cnn_save_path)"
      ],
      "execution_count": null,
      "outputs": []
    },
    {
      "cell_type": "code",
      "metadata": {
        "id": "MkFvNfFPcaPX",
        "colab": {
          "base_uri": "https://localhost:8080/",
          "height": 51
        },
        "outputId": "b9a0cb0c-fc9e-4377-ed4c-71e78e404947"
      },
      "source": [
        "model_cnn.evaluate(x_test, y_test, verbose=1)"
      ],
      "execution_count": null,
      "outputs": [
        {
          "output_type": "stream",
          "text": [
            "238/238 [==============================] - 1s 2ms/step - loss: 0.3241 - accuracy: 0.8891\n"
          ],
          "name": "stdout"
        },
        {
          "output_type": "execute_result",
          "data": {
            "text/plain": [
              "[0.32407426834106445, 0.8890789747238159]"
            ]
          },
          "metadata": {
            "tags": []
          },
          "execution_count": 111
        }
      ]
    },
    {
      "cell_type": "markdown",
      "metadata": {
        "id": "YHs8Q5vqAlqC"
      },
      "source": [
        "### Сеть LSTM"
      ]
    },
    {
      "cell_type": "code",
      "metadata": {
        "id": "OEzSL_M-ApHx"
      },
      "source": [
        "model_lstm.load_weights(model_lstm_save_path)"
      ],
      "execution_count": null,
      "outputs": []
    },
    {
      "cell_type": "code",
      "metadata": {
        "id": "fcGg4jA9AqN4",
        "colab": {
          "base_uri": "https://localhost:8080/",
          "height": 51
        },
        "outputId": "ccb7fb54-f5d4-4798-c0e2-72dffc589a28"
      },
      "source": [
        "model_lstm.evaluate(x_test, y_test, verbose=1)"
      ],
      "execution_count": null,
      "outputs": [
        {
          "output_type": "stream",
          "text": [
            "238/238 [==============================] - 1s 3ms/step - loss: 0.3240 - accuracy: 0.8916\n"
          ],
          "name": "stdout"
        },
        {
          "output_type": "execute_result",
          "data": {
            "text/plain": [
              "[0.32402247190475464, 0.8915789723396301]"
            ]
          },
          "metadata": {
            "tags": []
          },
          "execution_count": 113
        }
      ]
    },
    {
      "cell_type": "markdown",
      "metadata": {
        "id": "NiAwR86MA2_l"
      },
      "source": [
        "### Сеть GRU"
      ]
    },
    {
      "cell_type": "code",
      "metadata": {
        "id": "dbgVW71aA2_o"
      },
      "source": [
        "model_gru.load_weights(model_gru_save_path)"
      ],
      "execution_count": null,
      "outputs": []
    },
    {
      "cell_type": "code",
      "metadata": {
        "id": "oB-t_8fLA2_s",
        "colab": {
          "base_uri": "https://localhost:8080/",
          "height": 51
        },
        "outputId": "5ae247ba-d349-4c00-93c4-2f67084f5711"
      },
      "source": [
        "model_gru.evaluate(x_test, y_test, verbose=1)"
      ],
      "execution_count": null,
      "outputs": [
        {
          "output_type": "stream",
          "text": [
            "238/238 [==============================] - 1s 3ms/step - loss: 0.3164 - accuracy: 0.8957\n"
          ],
          "name": "stdout"
        },
        {
          "output_type": "execute_result",
          "data": {
            "text/plain": [
              "[0.31637880206108093, 0.8956578969955444]"
            ]
          },
          "metadata": {
            "tags": []
          },
          "execution_count": 115
        }
      ]
    },
    {
      "cell_type": "markdown",
      "metadata": {
        "id": "3xSOsTA1zq2U"
      },
      "source": [
        "## Полезные ссылки\n",
        "\n",
        "1. [Определение тональности текстов отзывов на сайте YELP одномерной сверточной нейросетью](https://colab.research.google.com/drive/1KWS-4MKKOIG7UhiCA58ZJcxwSLG5F6Wm).\n",
        "2. [Определение тональности текстов отзывов на сайте YELP сетью LSTM](https://colab.research.google.com/drive/19olgYyZ4N5fh8RIPtHxkso2N5HD1yg0X).\n",
        "3. [Использование командной строки Linux в Colab](https://colab.research.google.com/drive/1vFGZ2nDS0ukNGXPL-0avK097afYQILyq)."
      ]
    }
  ]
}