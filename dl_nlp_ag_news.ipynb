{
  "nbformat": 4,
  "nbformat_minor": 0,
  "metadata": {
    "colab": {
      "name": "dl_nlp_ag_news.ipynb",
      "provenance": [],
      "collapsed_sections": [],
      "include_colab_link": true
    },
    "kernelspec": {
      "name": "python3",
      "display_name": "Python 3"
    },
    "accelerator": "GPU"
  },
  "cells": [
    {
      "cell_type": "markdown",
      "metadata": {
        "id": "view-in-github",
        "colab_type": "text"
      },
      "source": [
        "<a href=\"https://colab.research.google.com/github/CaP4iK/cretes/blob/main/dl_nlp_ag_news.ipynb\" target=\"_parent\"><img src=\"https://colab.research.google.com/assets/colab-badge.svg\" alt=\"Open In Colab\"/></a>"
      ]
    },
    {
      "cell_type": "markdown",
      "metadata": {
        "id": "K-BAqDEY4ldv"
      },
      "source": [
        "## Классификация новостей [AG's News Topic Classification Dataset](https://github.com/mhjabreel/CharCnn_Keras/tree/master/data/ag_news_csv)\n",
        "\n",
        "Учебный курс \"[Нейросети для анализа текстов](https://www.asozykin.ru/courses/nnpython)\".\n",
        "\n",
        "Используется три архитектуры нейронных сетей:\n",
        "- Одномерная сверточная нейросеть\n",
        "- Рекуррентная нейросеть LSTM\n",
        "- Рекуррентная нейросеть GRU\n",
        "\n",
        "Чтобы запускать и редактировать код, сохраните копию этого ноутбука себе (File->Save a copy in Drive...). Свою копию вы сможете изменять и запускать.\n",
        "\n",
        "Не забудьте подключить GPU, чтобы сеть обучалась быстрее (Runtime -> Change Runtime Type -> Hardware Accelerator -> GPU)."
      ]
    },
    {
      "cell_type": "code",
      "metadata": {
        "id": "fN251ib04idq"
      },
      "source": [
        "%tensorflow_version 2.x\n",
        "from tensorflow.keras.models import Sequential\n",
        "from tensorflow.keras.layers import Dense, Embedding, MaxPooling1D, Conv1D, GlobalMaxPooling1D, Dropout, LSTM, GRU\n",
        "from tensorflow.keras import utils\n",
        "from tensorflow.keras.preprocessing.sequence import pad_sequences\n",
        "from tensorflow.keras.preprocessing.text import Tokenizer\n",
        "from tensorflow.keras.callbacks import ModelCheckpoint\n",
        "from tensorflow.keras import utils\n",
        "import pandas as pd\n",
        "import numpy as np\n",
        "import matplotlib.pyplot as plt\n",
        "%matplotlib inline "
      ],
      "execution_count": 125,
      "outputs": []
    },
    {
      "cell_type": "code",
      "metadata": {
        "id": "KVUY1PF0L_mF"
      },
      "source": [
        "# Максимальное количество слов \n",
        "num_words = 10000\n",
        "# Максимальная длина новости\n",
        "max_news_len = 30\n",
        "# Количество классов новостей\n",
        "nb_classes = 4"
      ],
      "execution_count": 126,
      "outputs": []
    },
    {
      "cell_type": "markdown",
      "metadata": {
        "id": "S6itvI2G5H1k"
      },
      "source": [
        "## Загрузка набора данных"
      ]
    },
    {
      "cell_type": "markdown",
      "metadata": {
        "id": "-koXVGyC1odV"
      },
      "source": [
        "Загружаем данные для обучения"
      ]
    },
    {
      "cell_type": "code",
      "metadata": {
        "id": "TYf3S7he5KIU",
        "colab": {
          "base_uri": "https://localhost:8080/"
        },
        "outputId": "321f3bb0-c577-4e2c-fbf7-6b35382e5c85"
      },
      "source": [
        "!wget https://raw.githubusercontent.com/CaP4iK/cretes/main/dataset.csv -O dataset.csv"
      ],
      "execution_count": 138,
      "outputs": [
        {
          "output_type": "stream",
          "text": [
            "--2021-04-18 12:13:44--  https://raw.githubusercontent.com/CaP4iK/cretes/main/dataset.csv\n",
            "Resolving raw.githubusercontent.com (raw.githubusercontent.com)... 185.199.108.133, 185.199.109.133, 185.199.110.133, ...\n",
            "Connecting to raw.githubusercontent.com (raw.githubusercontent.com)|185.199.108.133|:443... connected.\n",
            "HTTP request sent, awaiting response... 200 OK\n",
            "Length: 9014 (8.8K) [text/plain]\n",
            "Saving to: ‘dataset.csv’\n",
            "\n",
            "\rdataset.csv           0%[                    ]       0  --.-KB/s               \rdataset.csv         100%[===================>]   8.80K  --.-KB/s    in 0s      \n",
            "\n",
            "2021-04-18 12:13:44 (101 MB/s) - ‘dataset.csv’ saved [9014/9014]\n",
            "\n"
          ],
          "name": "stdout"
        }
      ]
    },
    {
      "cell_type": "markdown",
      "metadata": {
        "id": "5HrnxF5Z1uO7"
      },
      "source": [
        "Загружаем данные для тестирования"
      ]
    },
    {
      "cell_type": "code",
      "metadata": {
        "id": "jCmKO8zM1tZT",
        "colab": {
          "base_uri": "https://localhost:8080/"
        },
        "outputId": "49c1f603-cf06-4307-c130-1498528ebba1"
      },
      "source": [
        "!wget https://raw.githubusercontent.com/CaP4iK/cretes/main/test.csv -O test.csv"
      ],
      "execution_count": 128,
      "outputs": [
        {
          "output_type": "stream",
          "text": [
            "--2021-04-18 12:12:28--  https://raw.githubusercontent.com/CaP4iK/cretes/main/test.csv\n",
            "Resolving raw.githubusercontent.com (raw.githubusercontent.com)... 185.199.108.133, 185.199.109.133, 185.199.110.133, ...\n",
            "Connecting to raw.githubusercontent.com (raw.githubusercontent.com)|185.199.108.133|:443... connected.\n",
            "HTTP request sent, awaiting response... 200 OK\n",
            "Length: 1818 (1.8K) [text/plain]\n",
            "Saving to: ‘test.csv’\n",
            "\n",
            "\rtest.csv              0%[                    ]       0  --.-KB/s               \rtest.csv            100%[===================>]   1.78K  --.-KB/s    in 0s      \n",
            "\n",
            "2021-04-18 12:12:28 (36.6 MB/s) - ‘test.csv’ saved [1818/1818]\n",
            "\n"
          ],
          "name": "stdout"
        }
      ]
    },
    {
      "cell_type": "markdown",
      "metadata": {
        "id": "HsRzWdOL1z17"
      },
      "source": [
        "Загружаем имена классов"
      ]
    },
    {
      "cell_type": "code",
      "metadata": {
        "id": "RH95SEXB5R0V",
        "colab": {
          "base_uri": "https://localhost:8080/"
        },
        "outputId": "7afe4635-0df7-4000-aa7d-2d5b19b67aa8"
      },
      "source": [
        "!wget https://raw.githubusercontent.com/CaP4iK/cretes/main/classes.txt -O classes.txt"
      ],
      "execution_count": 129,
      "outputs": [
        {
          "output_type": "stream",
          "text": [
            "--2021-04-18 12:12:31--  https://raw.githubusercontent.com/CaP4iK/cretes/main/classes.txt\n",
            "Resolving raw.githubusercontent.com (raw.githubusercontent.com)... 185.199.110.133, 185.199.109.133, 185.199.108.133, ...\n",
            "Connecting to raw.githubusercontent.com (raw.githubusercontent.com)|185.199.110.133|:443... connected.\n",
            "HTTP request sent, awaiting response... 200 OK\n",
            "Length: 126 [text/plain]\n",
            "Saving to: ‘classes.txt’\n",
            "\n",
            "\rclasses.txt           0%[                    ]       0  --.-KB/s               \rclasses.txt         100%[===================>]     126  --.-KB/s    in 0s      \n",
            "\n",
            "2021-04-18 12:12:31 (9.06 MB/s) - ‘classes.txt’ saved [126/126]\n",
            "\n"
          ],
          "name": "stdout"
        }
      ]
    },
    {
      "cell_type": "markdown",
      "metadata": {
        "id": "131Gk9fzGVMg"
      },
      "source": [
        "## Просматриваем данные"
      ]
    },
    {
      "cell_type": "code",
      "metadata": {
        "id": "V116c5A82IeD",
        "colab": {
          "base_uri": "https://localhost:8080/"
        },
        "outputId": "7f0c07b6-7c52-4275-8ceb-a97627f9565a"
      },
      "source": [
        "!ls"
      ],
      "execution_count": 130,
      "outputs": [
        {
          "output_type": "stream",
          "text": [
            "best_model_cnn.h5  best_model_lstm.h5  dataset.csv  test.csv\n",
            "best_model_gru.h5  classes.txt\t       sample_data\n"
          ],
          "name": "stdout"
        }
      ]
    },
    {
      "cell_type": "code",
      "metadata": {
        "id": "uRj7M24mGRmH",
        "colab": {
          "base_uri": "https://localhost:8080/"
        },
        "outputId": "886216d4-9f9f-4bfe-83d2-eef8b005b21e"
      },
      "source": [
        "!cat classes.txt"
      ],
      "execution_count": 131,
      "outputs": [
        {
          "output_type": "stream",
          "text": [
            "﻿Дизайн\n",
            "Нефункц. требования\n",
            "Взаимодействие пользователя\n",
            "Структура\n"
          ],
          "name": "stdout"
        }
      ]
    },
    {
      "cell_type": "code",
      "metadata": {
        "id": "k6_oiP9NGlI2",
        "colab": {
          "base_uri": "https://localhost:8080/"
        },
        "outputId": "b96fdb13-522f-4393-8bb4-50d8e51e7688"
      },
      "source": [
        "!head dataset.csv"
      ],
      "execution_count": 139,
      "outputs": [
        {
          "output_type": "stream",
          "text": [
            "﻿1,\"Дизайн страниц выполняется в строгом соответствии с корпоративным стилем компании, с пожеланиями клиента.\n",
            "Исполнитель предоставляет Заказчику вариант концепции дизайна на примере начальной страницы. После утверждения Исполнитель приступает к выполнению оставшихся страниц.\"\r\n",
            "1,Стиль оформления произвольный. Количество знаков заголовка и анонса не лимитировано. Заголовок новости является ссылкой. При нажатии на ссылку \r\n",
            "1,Графическая шапка с горизонтальной навигацией может содержать ненавязчивые флэш-элементы (например, анимированный логотип, являющийся одновременно ссылкой на основную страницу сайта), но не должна отвлекать от информационного наполнения страницы. Желательна разработка нескольких вариантов графической шапки в привязке к основным разделам каталога. Для разделов основной навигации разрабатывается общая шапка.\r\n",
            "1,Внутренняя навигация раздела «Каталог» отображается в виде списка в левой части экрана под шапкой в виде колонки в текстовом виде для последующей легкой модификации данной области. \r\n",
            "1,В дизайне отдельно предусматриваются ссылки на список туров и спецпредложения.\r\n",
            "1,Между шапкой и контентной областью предполагается «баннерная крутилка»\r\n",
            "1,Внизу страницы отображается облегченная навигационная панель в текстовом виде, Copyright, контактный e-mail, ссылка на «Основную страницу» сайта.\r\n",
            "2,Сайт разрабатывается под базовое разрешение экрана 800х600 пкс\r\n",
            "3,По ссылке на заголовок тура пользователь переходит на страницу с полным описанием конкретного тура. С шаблоне полного описания тура вверху и внизу страницы предусматриваются ссылки «Заказать тур». По этим ссылкам пользователь переходит на страницу с mail-формой, где он может оформить заявку на выбранный им тур. Данные по выбранному туру автоматически передаются в поля формы. Пользователю остается только заполнить поля, относящиеся к его личным данным и комментарий.\r\n"
          ],
          "name": "stdout"
        }
      ]
    },
    {
      "cell_type": "code",
      "metadata": {
        "id": "QbfciZAYHNBb",
        "colab": {
          "base_uri": "https://localhost:8080/"
        },
        "outputId": "21fda6e9-1c37-4f74-95cb-75fa0e103a70"
      },
      "source": [
        "!head test.csv"
      ],
      "execution_count": 140,
      "outputs": [
        {
          "output_type": "stream",
          "text": [
            "﻿1,Дизайн,Дизайн страниц выполняется в строгом соответствии с корпоративным стилем компании, с пожеланиями клиента.Исполнитель предоставляет Заказчику вариант концепции дизайна на примере начальной страницы. После утверждения Исполнитель приступает к выполнению оставшихся страниц.\r\n",
            "2,Нефункц. требования,Сайт разрабатывается под базовое разрешение экрана 800х600 пкс\r\n",
            "3,Взаимодействие пользователя,По ссылке на заголовок тура пользователь переходит на страницу с полным описанием конкретного тура. С шаблоне полного описания тура вверху и внизу страницы предусматриваются ссылки «Заказать тур». По этим ссылкам пользователь переходит на страницу с mail-формой, где он может оформить заявку на выбранный им тур. Данные по выбранному туру автоматически передаются в поля формы. Пользователю остается только заполнить поля, относящиеся к его личным данным и комментарий.\r\n",
            "4,Структура,«О компании» - содержит краткую информацию раздела со ссылкой «подробнее», ведущую на раздел «О компании».\r\n"
          ],
          "name": "stdout"
        }
      ]
    },
    {
      "cell_type": "code",
      "metadata": {
        "id": "QHiCXhsTG835",
        "colab": {
          "base_uri": "https://localhost:8080/"
        },
        "outputId": "42940ade-6f6f-4704-8b50-a34757f14ed9"
      },
      "source": [
        "!wc -l dataset.csv\n",
        "!wc -l test.csv"
      ],
      "execution_count": 141,
      "outputs": [
        {
          "output_type": "stream",
          "text": [
            "32 dataset.csv\n",
            "4 test.csv\n"
          ],
          "name": "stdout"
        }
      ]
    },
    {
      "cell_type": "markdown",
      "metadata": {
        "id": "9YjyMnJOHoSY"
      },
      "source": [
        "## Загружаем данные в память"
      ]
    },
    {
      "cell_type": "markdown",
      "metadata": {
        "id": "C6Hs3NIKKqEB"
      },
      "source": [
        "Читаем данные из файла"
      ]
    },
    {
      "cell_type": "code",
      "metadata": {
        "id": "viAteYU0HakW"
      },
      "source": [
        "dataset = pd.read_csv('dataset.csv', \n",
        "                    header=None, \n",
        "                    names=['class', 'text'])"
      ],
      "execution_count": 135,
      "outputs": []
    },
    {
      "cell_type": "code",
      "metadata": {
        "id": "QTbvoCJxKpdr",
        "colab": {
          "base_uri": "https://localhost:8080/",
          "height": 669
        },
        "outputId": "d54d5ce2-e7d8-4fab-a56d-5266ef24b876"
      },
      "source": [
        "dataset"
      ],
      "execution_count": 142,
      "outputs": [
        {
          "output_type": "execute_result",
          "data": {
            "text/html": [
              "<div>\n",
              "<style scoped>\n",
              "    .dataframe tbody tr th:only-of-type {\n",
              "        vertical-align: middle;\n",
              "    }\n",
              "\n",
              "    .dataframe tbody tr th {\n",
              "        vertical-align: top;\n",
              "    }\n",
              "\n",
              "    .dataframe thead th {\n",
              "        text-align: right;\n",
              "    }\n",
              "</style>\n",
              "<table border=\"1\" class=\"dataframe\">\n",
              "  <thead>\n",
              "    <tr style=\"text-align: right;\">\n",
              "      <th></th>\n",
              "      <th>class</th>\n",
              "      <th>text</th>\n",
              "    </tr>\n",
              "  </thead>\n",
              "  <tbody>\n",
              "    <tr>\n",
              "      <th>0</th>\n",
              "      <td>1</td>\n",
              "      <td>Дизайн страниц выполняется в строгом соответст...</td>\n",
              "    </tr>\n",
              "    <tr>\n",
              "      <th>1</th>\n",
              "      <td>1</td>\n",
              "      <td>Стиль оформления произвольный. Количество знак...</td>\n",
              "    </tr>\n",
              "    <tr>\n",
              "      <th>2</th>\n",
              "      <td>1</td>\n",
              "      <td>Графическая шапка с горизонтальной навигацией ...</td>\n",
              "    </tr>\n",
              "    <tr>\n",
              "      <th>3</th>\n",
              "      <td>1</td>\n",
              "      <td>Внутренняя навигация раздела «Каталог» отображ...</td>\n",
              "    </tr>\n",
              "    <tr>\n",
              "      <th>4</th>\n",
              "      <td>1</td>\n",
              "      <td>В дизайне отдельно предусматриваются ссылки на...</td>\n",
              "    </tr>\n",
              "    <tr>\n",
              "      <th>5</th>\n",
              "      <td>1</td>\n",
              "      <td>Между шапкой и контентной областью предполагае...</td>\n",
              "    </tr>\n",
              "    <tr>\n",
              "      <th>6</th>\n",
              "      <td>1</td>\n",
              "      <td>Внизу страницы отображается облегченная навига...</td>\n",
              "    </tr>\n",
              "    <tr>\n",
              "      <th>7</th>\n",
              "      <td>2</td>\n",
              "      <td>Сайт разрабатывается под базовое разрешение эк...</td>\n",
              "    </tr>\n",
              "    <tr>\n",
              "      <th>8</th>\n",
              "      <td>3</td>\n",
              "      <td>По ссылке на заголовок тура пользователь перех...</td>\n",
              "    </tr>\n",
              "    <tr>\n",
              "      <th>9</th>\n",
              "      <td>2</td>\n",
              "      <td>Корректное отображение браузерами Internet Exp...</td>\n",
              "    </tr>\n",
              "    <tr>\n",
              "      <th>10</th>\n",
              "      <td>2</td>\n",
              "      <td>Использование фирменных цветов и логотипа комп...</td>\n",
              "    </tr>\n",
              "    <tr>\n",
              "      <th>11</th>\n",
              "      <td>2</td>\n",
              "      <td>Обязательная визуальная поддержка действий пол...</td>\n",
              "    </tr>\n",
              "    <tr>\n",
              "      <th>12</th>\n",
              "      <td>2</td>\n",
              "      <td>Мета-теги и контент сайта на этапе изготовлени...</td>\n",
              "    </tr>\n",
              "    <tr>\n",
              "      <th>13</th>\n",
              "      <td>4</td>\n",
              "      <td>Содержит графическую часть</td>\n",
              "    </tr>\n",
              "    <tr>\n",
              "      <th>14</th>\n",
              "      <td>4</td>\n",
              "      <td>«О компании» - содержит краткую информацию раз...</td>\n",
              "    </tr>\n",
              "    <tr>\n",
              "      <th>15</th>\n",
              "      <td>3</td>\n",
              "      <td>По ссылке «Отправить заказ» пользователь перех...</td>\n",
              "    </tr>\n",
              "    <tr>\n",
              "      <th>16</th>\n",
              "      <td>3</td>\n",
              "      <td>Оформление заказа в он-лайн режиме производитс...</td>\n",
              "    </tr>\n",
              "    <tr>\n",
              "      <th>17</th>\n",
              "      <td>3</td>\n",
              "      <td>Нажав на кнопку «Отправить заказ»</td>\n",
              "    </tr>\n",
              "    <tr>\n",
              "      <th>18</th>\n",
              "      <td>1</td>\n",
              "      <td>Дизайн Сайта должен быть консервативным - исп...</td>\n",
              "    </tr>\n",
              "    <tr>\n",
              "      <th>19</th>\n",
              "      <td>1</td>\n",
              "      <td>Основными шрифтовыми гарнитурами корпоративно...</td>\n",
              "    </tr>\n",
              "  </tbody>\n",
              "</table>\n",
              "</div>"
            ],
            "text/plain": [
              "    class                                               text\n",
              "0       1  Дизайн страниц выполняется в строгом соответст...\n",
              "1       1  Стиль оформления произвольный. Количество знак...\n",
              "2       1  Графическая шапка с горизонтальной навигацией ...\n",
              "3       1  Внутренняя навигация раздела «Каталог» отображ...\n",
              "4       1  В дизайне отдельно предусматриваются ссылки на...\n",
              "5       1  Между шапкой и контентной областью предполагае...\n",
              "6       1  Внизу страницы отображается облегченная навига...\n",
              "7       2  Сайт разрабатывается под базовое разрешение эк...\n",
              "8       3  По ссылке на заголовок тура пользователь перех...\n",
              "9       2  Корректное отображение браузерами Internet Exp...\n",
              "10      2  Использование фирменных цветов и логотипа комп...\n",
              "11      2  Обязательная визуальная поддержка действий пол...\n",
              "12      2  Мета-теги и контент сайта на этапе изготовлени...\n",
              "13      4                         Содержит графическую часть\n",
              "14      4  «О компании» - содержит краткую информацию раз...\n",
              "15      3  По ссылке «Отправить заказ» пользователь перех...\n",
              "16      3  Оформление заказа в он-лайн режиме производитс...\n",
              "17      3                  Нажав на кнопку «Отправить заказ»\n",
              "18      1   Дизайн Сайта должен быть консервативным - исп...\n",
              "19      1   Основными шрифтовыми гарнитурами корпоративно..."
            ]
          },
          "metadata": {
            "tags": []
          },
          "execution_count": 142
        }
      ]
    },
    {
      "cell_type": "markdown",
      "metadata": {
        "id": "gA0GvoWDKulp"
      },
      "source": [
        "Выделяем данные для обучения"
      ]
    },
    {
      "cell_type": "code",
      "metadata": {
        "id": "xKdpzAQKLUsh"
      },
      "source": [
        "tz = dataset['text']"
      ],
      "execution_count": 143,
      "outputs": []
    },
    {
      "cell_type": "code",
      "metadata": {
        "id": "3-13xctTLesU",
        "colab": {
          "base_uri": "https://localhost:8080/"
        },
        "outputId": "c3102413-1a53-4013-ca2b-cba51cd44568"
      },
      "source": [
        "tz[:5]"
      ],
      "execution_count": 144,
      "outputs": [
        {
          "output_type": "execute_result",
          "data": {
            "text/plain": [
              "0    Дизайн страниц выполняется в строгом соответст...\n",
              "1    Стиль оформления произвольный. Количество знак...\n",
              "2    Графическая шапка с горизонтальной навигацией ...\n",
              "3    Внутренняя навигация раздела «Каталог» отображ...\n",
              "4    В дизайне отдельно предусматриваются ссылки на...\n",
              "Name: text, dtype: object"
            ]
          },
          "metadata": {
            "tags": []
          },
          "execution_count": 144
        }
      ]
    },
    {
      "cell_type": "markdown",
      "metadata": {
        "id": "EyruZkQeLnPa"
      },
      "source": [
        "Выделяем правильные ответы"
      ]
    },
    {
      "cell_type": "code",
      "metadata": {
        "id": "5t_vJBSyIUoG"
      },
      "source": [
        "y_tz = utils.to_categorical(dataset['class'] - 1, nb_classes)"
      ],
      "execution_count": 145,
      "outputs": []
    },
    {
      "cell_type": "code",
      "metadata": {
        "id": "gmEgMdF5IbZR",
        "colab": {
          "base_uri": "https://localhost:8080/"
        },
        "outputId": "9789e575-6ace-499f-fc42-a725b485d538"
      },
      "source": [
        "y_tz"
      ],
      "execution_count": 146,
      "outputs": [
        {
          "output_type": "execute_result",
          "data": {
            "text/plain": [
              "array([[1., 0., 0., 0.],\n",
              "       [1., 0., 0., 0.],\n",
              "       [1., 0., 0., 0.],\n",
              "       [1., 0., 0., 0.],\n",
              "       [1., 0., 0., 0.],\n",
              "       [1., 0., 0., 0.],\n",
              "       [1., 0., 0., 0.],\n",
              "       [0., 1., 0., 0.],\n",
              "       [0., 0., 1., 0.],\n",
              "       [0., 1., 0., 0.],\n",
              "       [0., 1., 0., 0.],\n",
              "       [0., 1., 0., 0.],\n",
              "       [0., 1., 0., 0.],\n",
              "       [0., 0., 0., 1.],\n",
              "       [0., 0., 0., 1.],\n",
              "       [0., 0., 1., 0.],\n",
              "       [0., 0., 1., 0.],\n",
              "       [0., 0., 1., 0.],\n",
              "       [1., 0., 0., 0.],\n",
              "       [1., 0., 0., 0.]], dtype=float32)"
            ]
          },
          "metadata": {
            "tags": []
          },
          "execution_count": 146
        }
      ]
    },
    {
      "cell_type": "markdown",
      "metadata": {
        "id": "7JuLOCqpLsNL"
      },
      "source": [
        "## Токенизация текста"
      ]
    },
    {
      "cell_type": "code",
      "metadata": {
        "id": "wwF89PAestv0",
        "colab": {
          "base_uri": "https://localhost:8080/"
        },
        "outputId": "a553508f-0164-404e-d151-eb466c4a5829"
      },
      "source": [
        "tz[:5]"
      ],
      "execution_count": 147,
      "outputs": [
        {
          "output_type": "execute_result",
          "data": {
            "text/plain": [
              "0    Дизайн страниц выполняется в строгом соответст...\n",
              "1    Стиль оформления произвольный. Количество знак...\n",
              "2    Графическая шапка с горизонтальной навигацией ...\n",
              "3    Внутренняя навигация раздела «Каталог» отображ...\n",
              "4    В дизайне отдельно предусматриваются ссылки на...\n",
              "Name: text, dtype: object"
            ]
          },
          "metadata": {
            "tags": []
          },
          "execution_count": 147
        }
      ]
    },
    {
      "cell_type": "markdown",
      "metadata": {
        "id": "DTtBSvAfMusM"
      },
      "source": [
        "Создаем токенизатор Keras"
      ]
    },
    {
      "cell_type": "code",
      "metadata": {
        "id": "x-AUMyjMLw5T"
      },
      "source": [
        "tokenizer = Tokenizer(num_words=num_words)"
      ],
      "execution_count": 148,
      "outputs": []
    },
    {
      "cell_type": "markdown",
      "metadata": {
        "id": "VIxY2pp-M2gw"
      },
      "source": [
        "Обучаем токенизатор на IT Записях"
      ]
    },
    {
      "cell_type": "code",
      "metadata": {
        "id": "RfsqlGJZM7HR"
      },
      "source": [
        "tokenizer.fit_on_texts(tz)"
      ],
      "execution_count": 149,
      "outputs": []
    },
    {
      "cell_type": "markdown",
      "metadata": {
        "id": "y6PqC28PND82"
      },
      "source": [
        "Просматриваем словарь токенизатора"
      ]
    },
    {
      "cell_type": "code",
      "metadata": {
        "id": "8mWcH0mUMcMU",
        "colab": {
          "base_uri": "https://localhost:8080/"
        },
        "outputId": "dcabd9fc-e3bd-4af0-bcf2-028ffeba0a40"
      },
      "source": [
        "tokenizer.word_index"
      ],
      "execution_count": 150,
      "outputs": [
        {
          "output_type": "execute_result",
          "data": {
            "text/plain": [
              "{'0': 151,\n",
              " '4': 150,\n",
              " '800х600': 128,\n",
              " 'aport': 194,\n",
              " 'arial': 53,\n",
              " 'courier': 265,\n",
              " 'explorer': 146,\n",
              " 'futura': 249,\n",
              " 'helvetica': 261,\n",
              " 'internet': 145,\n",
              " 'mail': 141,\n",
              " 'navigator': 148,\n",
              " 'netscape': 147,\n",
              " 'new': 263,\n",
              " 'rambler': 195,\n",
              " 'roman': 264,\n",
              " 'times': 262,\n",
              " 'yandex': 193,\n",
              " '«баннерная': 119,\n",
              " '«визуалов»': 236,\n",
              " '«дорого»': 230,\n",
              " '«заказать': 137,\n",
              " '«интерактив»': 162,\n",
              " '«каталог»': 101,\n",
              " '«о': 198,\n",
              " '«отправить': 48,\n",
              " '«подробнее»': 203,\n",
              " 'активных': 164,\n",
              " 'анонса': 85,\n",
              " 'б': 184,\n",
              " 'базовое': 126,\n",
              " 'бланк': 174,\n",
              " 'браузерами': 144,\n",
              " 'браузеров': 260,\n",
              " 'быть': 23,\n",
              " 'в': 1,\n",
              " 'вариант': 70,\n",
              " 'вверху': 136,\n",
              " 'версии': 149,\n",
              " 'виде': 11,\n",
              " 'визуальная': 156,\n",
              " 'визуальное': 163,\n",
              " 'визуальному': 274,\n",
              " 'внизу': 43,\n",
              " 'внутренняя': 99,\n",
              " 'восприятия': 280,\n",
              " 'время': 228,\n",
              " 'выглядеть': 229,\n",
              " 'выполнению': 78,\n",
              " 'выполняется': 61,\n",
              " 'выше': 152,\n",
              " 'гарнитурами': 244,\n",
              " 'гарнитуры': 248,\n",
              " 'горизонтальной': 93,\n",
              " 'графическая': 91,\n",
              " 'графических': 52,\n",
              " 'графическую': 196,\n",
              " 'групп': 259,\n",
              " 'группы': 272,\n",
              " 'д': 183,\n",
              " 'данной': 109,\n",
              " 'действий': 158,\n",
              " 'дизайн': 14,\n",
              " 'дизайна': 72,\n",
              " 'дизайне': 40,\n",
              " 'для': 7,\n",
              " 'должен': 24,\n",
              " 'должны': 56,\n",
              " 'допустима': 239,\n",
              " 'допустимом': 282,\n",
              " 'же': 227,\n",
              " 'заголовка': 84,\n",
              " 'заголовок': 30,\n",
              " 'загружается': 171,\n",
              " 'заказ»': 49,\n",
              " 'заказа': 205,\n",
              " 'заказчику': 69,\n",
              " 'замена': 269,\n",
              " 'зарегистрированным': 214,\n",
              " 'знаков': 83,\n",
              " 'и': 3,\n",
              " 'из': 270,\n",
              " 'изготовления': 182,\n",
              " 'информацию': 201,\n",
              " 'искажению': 275,\n",
              " 'исполнитель': 28,\n",
              " 'использование': 12,\n",
              " 'использовать': 219,\n",
              " 'используемые': 55,\n",
              " 'к': 29,\n",
              " 'каждой': 170,\n",
              " 'как': 213,\n",
              " 'кегль': 277,\n",
              " 'клиента': 67,\n",
              " 'ключевым': 190,\n",
              " 'кнопку': 217,\n",
              " 'количество': 82,\n",
              " 'колонки': 105,\n",
              " 'компании': 6,\n",
              " 'компании»': 199,\n",
              " 'компьютере': 255,\n",
              " 'конкретного': 132,\n",
              " 'консервативным': 218,\n",
              " 'контент': 180,\n",
              " 'контента': 238,\n",
              " 'контентной': 116,\n",
              " 'концепции': 71,\n",
              " 'корпоративного': 245,\n",
              " 'корпоративному': 58,\n",
              " 'корпоративным': 64,\n",
              " 'корректное': 143,\n",
              " 'краткую': 200,\n",
              " 'крутилка»': 120,\n",
              " 'лайн': 207,\n",
              " 'лаконичным': 225,\n",
              " 'левой': 103,\n",
              " 'легкой': 107,\n",
              " 'лимитировано': 86,\n",
              " 'логотипа': 45,\n",
              " 'материалов': 251,\n",
              " 'между': 115,\n",
              " 'местонахождения': 169,\n",
              " 'мета': 178,\n",
              " 'минимально': 281,\n",
              " 'модификации': 108,\n",
              " 'может': 33,\n",
              " 'н': 161,\n",
              " 'на': 2,\n",
              " 'навигацией': 94,\n",
              " 'навигационная': 122,\n",
              " 'навигация': 100,\n",
              " 'нажав': 216,\n",
              " 'нажатии': 89,\n",
              " 'например': 98,\n",
              " 'настроены': 185,\n",
              " 'начальной': 74,\n",
              " 'не': 10,\n",
              " 'небольших': 51,\n",
              " 'неброские': 220,\n",
              " 'незначительная': 240,\n",
              " 'ненавязчивые': 96,\n",
              " 'необходимо': 256,\n",
              " 'необходимых': 254,\n",
              " 'непосредственно': 210,\n",
              " 'неяркие': 221,\n",
              " 'но': 233,\n",
              " 'новости': 87,\n",
              " 'обеспечивать': 278,\n",
              " 'обеспечить': 188,\n",
              " 'области': 110,\n",
              " 'областью': 117,\n",
              " 'облегченная': 121,\n",
              " 'обозначение': 168,\n",
              " 'обработка': 241,\n",
              " 'образом': 267,\n",
              " 'обратной': 176,\n",
              " 'обязательная': 155,\n",
              " 'он': 206,\n",
              " 'описанием': 131,\n",
              " 'описания': 135,\n",
              " 'основными': 242,\n",
              " 'оставшихся': 79,\n",
              " 'осуществлено': 212,\n",
              " 'отдельно': 111,\n",
              " 'отображается': 36,\n",
              " 'отображение': 44,\n",
              " 'отсутствия': 253,\n",
              " 'оформление': 204,\n",
              " 'оформлении': 237,\n",
              " 'оформления': 15,\n",
              " 'панель': 123,\n",
              " 'пассивных': 165,\n",
              " 'пастельные': 222,\n",
              " 'переходит': 20,\n",
              " 'пиктограмм': 235,\n",
              " 'письма': 175,\n",
              " 'пкс': 129,\n",
              " 'по': 8,\n",
              " 'под': 37,\n",
              " 'поддержка': 157,\n",
              " 'пожеланиями': 66,\n",
              " 'поисковых': 46,\n",
              " 'полного': 134,\n",
              " 'полным': 130,\n",
              " 'пользователем': 215,\n",
              " 'пользователь': 19,\n",
              " 'пользователя': 22,\n",
              " 'после': 75,\n",
              " 'последующей': 106,\n",
              " 'почтовая': 172,\n",
              " 'предоставляет': 68,\n",
              " 'предполагается': 118,\n",
              " 'предусматриваются': 41,\n",
              " 'предусмотреть': 257,\n",
              " 'при': 32,\n",
              " 'приветствуется': 50,\n",
              " 'приводила': 273,\n",
              " 'примере': 73,\n",
              " 'приступает': 77,\n",
              " 'программа': 173,\n",
              " 'продвижение': 189,\n",
              " 'производится': 209,\n",
              " 'произвольный': 81,\n",
              " 'противоречить': 57,\n",
              " 'раздела': 35,\n",
              " 'размер': 276,\n",
              " 'размере': 283,\n",
              " 'разрабатывается': 125,\n",
              " 'разрешение': 127,\n",
              " 'режиме': 208,\n",
              " 'с': 5,\n",
              " 'сайт': 124,\n",
              " 'сайта': 4,\n",
              " 'сайте': 211,\n",
              " 'связи': 177,\n",
              " 'систем': 186,\n",
              " 'системах': 192,\n",
              " 'словам': 191,\n",
              " 'случае': 252,\n",
              " 'со': 202,\n",
              " 'современно': 232,\n",
              " 'содержать': 95,\n",
              " 'содержит': 47,\n",
              " 'соответствии': 63,\n",
              " 'соответствующей': 271,\n",
              " 'спецпредложения': 114,\n",
              " 'списка': 102,\n",
              " 'список': 112,\n",
              " 'ссылкам': 140,\n",
              " 'ссылке': 17,\n",
              " 'ссылки': 42,\n",
              " 'ссылкой': 31,\n",
              " 'ссылку': 90,\n",
              " 'ссылок': 166,\n",
              " 'стандартных': 258,\n",
              " 'стилем': 65,\n",
              " 'стиль': 80,\n",
              " 'стильно': 231,\n",
              " 'стильных': 234,\n",
              " 'стилю': 59,\n",
              " 'стиля': 246,\n",
              " 'страниц': 27,\n",
              " 'страницу': 21,\n",
              " 'страницы': 9,\n",
              " 'строгом': 62,\n",
              " 'т': 160,\n",
              " 'таким': 266,\n",
              " 'теги': 179,\n",
              " 'текста': 60,\n",
              " 'текстовом': 39,\n",
              " 'текстовых': 250,\n",
              " 'то': 226,\n",
              " 'тона': 224,\n",
              " 'тур»': 138,\n",
              " 'тура': 18,\n",
              " 'туров': 113,\n",
              " 'удобство': 279,\n",
              " 'утверждения': 76,\n",
              " 'фирменных': 153,\n",
              " 'флэш': 34,\n",
              " 'формой': 142,\n",
              " 'цвета': 223,\n",
              " 'цветов': 154,\n",
              " 'части': 104,\n",
              " 'часть': 197,\n",
              " 'четкое': 167,\n",
              " 'что': 187,\n",
              " 'чтобы': 268,\n",
              " 'шаблоне': 133,\n",
              " 'шапка': 92,\n",
              " 'шапкой': 38,\n",
              " 'шрифтов': 13,\n",
              " 'шрифтовыми': 243,\n",
              " 'шрифты': 54,\n",
              " 'экрана': 16,\n",
              " 'элементов': 25,\n",
              " 'элементы': 97,\n",
              " 'этапе': 181,\n",
              " 'этим': 139,\n",
              " 'является': 88,\n",
              " 'являются': 247,\n",
              " '–': 159,\n",
              " '•': 26}"
            ]
          },
          "metadata": {
            "tags": []
          },
          "execution_count": 150
        }
      ]
    },
    {
      "cell_type": "markdown",
      "metadata": {
        "id": "s_nyPsVLNW-f"
      },
      "source": [
        "Преобразуем текст в числовое представление"
      ]
    },
    {
      "cell_type": "code",
      "metadata": {
        "id": "bMZ6e-zEJHr1"
      },
      "source": [
        "sequences = tokenizer.texts_to_sequences(tz)"
      ],
      "execution_count": 151,
      "outputs": []
    },
    {
      "cell_type": "markdown",
      "metadata": {
        "id": "aZ_NJ2SlNwMI"
      },
      "source": [
        "Просматриваем новости в числовом представлении"
      ]
    },
    {
      "cell_type": "code",
      "metadata": {
        "id": "xIUJvjguN0S0",
        "colab": {
          "base_uri": "https://localhost:8080/"
        },
        "outputId": "7f63b2ba-6659-47ad-be90-a635a1730ae2"
      },
      "source": [
        "index = 1\n",
        "print(tz[index])\n",
        "print(sequences[index])"
      ],
      "execution_count": 152,
      "outputs": [
        {
          "output_type": "stream",
          "text": [
            "Стиль оформления произвольный. Количество знаков заголовка и анонса не лимитировано. Заголовок новости является ссылкой. При нажатии на ссылку \n",
            "[80, 15, 81, 82, 83, 84, 3, 85, 10, 86, 30, 87, 88, 31, 32, 89, 2, 90]\n"
          ],
          "name": "stdout"
        }
      ]
    },
    {
      "cell_type": "code",
      "metadata": {
        "id": "sQn0O5kBtmyJ",
        "colab": {
          "base_uri": "https://localhost:8080/"
        },
        "outputId": "79f06992-9e4b-43a5-b72b-feb89e901c39"
      },
      "source": [
        "tokenizer.word_index['цвета']"
      ],
      "execution_count": 153,
      "outputs": [
        {
          "output_type": "execute_result",
          "data": {
            "text/plain": [
              "223"
            ]
          },
          "metadata": {
            "tags": []
          },
          "execution_count": 153
        }
      ]
    },
    {
      "cell_type": "markdown",
      "metadata": {
        "id": "neSZfrw3OYPx"
      },
      "source": [
        "Ограничиваем длину отзывов"
      ]
    },
    {
      "cell_type": "code",
      "metadata": {
        "id": "ZGLpcETkN3ex"
      },
      "source": [
        "x_tz = pad_sequences(sequences, maxlen=max_news_len)"
      ],
      "execution_count": 154,
      "outputs": []
    },
    {
      "cell_type": "code",
      "metadata": {
        "id": "mPW1VACmOrrm",
        "colab": {
          "base_uri": "https://localhost:8080/"
        },
        "outputId": "408e7cc9-af7c-4eaa-fa33-017b6040863e"
      },
      "source": [
        "x_tz[:5]"
      ],
      "execution_count": 155,
      "outputs": [
        {
          "output_type": "execute_result",
          "data": {
            "text/plain": [
              "array([[ 27,  61,   1,  62,  63,   5,  64,  65,   6,   5,  66,  67,  28,\n",
              "         68,  69,  70,  71,  72,   2,  73,  74,   9,  75,  76,  28,  77,\n",
              "         29,  78,  79,  27],\n",
              "       [  0,   0,   0,   0,   0,   0,   0,   0,   0,   0,   0,   0,  80,\n",
              "         15,  81,  82,  83,  84,   3,  85,  10,  86,  30,  87,  88,  31,\n",
              "         32,  89,   2,  90],\n",
              "       [  0,   0,   0,   0,   0,   0,   0,   0,   0,   0,   0,   0,   0,\n",
              "          0,   0,   0,   0,   0,   0,  91,  92,   5,  93,  94,  33,  95,\n",
              "         96,  34,  97,  98],\n",
              "       [  0,   0,   0,   0,  99, 100,  35, 101,  36,   1,  11, 102,   1,\n",
              "        103, 104,  16,  37,  38,   1,  11, 105,   1,  39,  11,   7, 106,\n",
              "        107, 108, 109, 110],\n",
              "       [  0,   0,   0,   0,   0,   0,   0,   0,   0,   0,   0,   0,   0,\n",
              "          0,   0,   0,   0,   0,   0,   0,   1,  40, 111,  41,  42,   2,\n",
              "        112, 113,   3, 114]], dtype=int32)"
            ]
          },
          "metadata": {
            "tags": []
          },
          "execution_count": 155
        }
      ]
    },
    {
      "cell_type": "markdown",
      "metadata": {
        "id": "ypBYfEwvO0c4"
      },
      "source": [
        "## Сверточная нейронная сеть"
      ]
    },
    {
      "cell_type": "code",
      "metadata": {
        "id": "8ETORhRkOtIn"
      },
      "source": [
        "model_cnn = Sequential()\n",
        "model_cnn.add(Embedding(num_words, 32, input_length=max_news_len))\n",
        "model_cnn.add(Conv1D(250, 5, padding='valid', activation='relu'))\n",
        "model_cnn.add(GlobalMaxPooling1D())\n",
        "model_cnn.add(Dense(128, activation='relu'))\n",
        "model_cnn.add(Dense(4, activation='softmax'))"
      ],
      "execution_count": 156,
      "outputs": []
    },
    {
      "cell_type": "code",
      "metadata": {
        "id": "rzds0iUgPLwS"
      },
      "source": [
        "model_cnn.compile(optimizer='adam', \n",
        "              loss='categorical_crossentropy', \n",
        "              metrics=['accuracy'])"
      ],
      "execution_count": 157,
      "outputs": []
    },
    {
      "cell_type": "code",
      "metadata": {
        "id": "wpVCjslL4En2",
        "colab": {
          "base_uri": "https://localhost:8080/"
        },
        "outputId": "4a3f495b-4e6f-4408-a81d-6e9c914c1049"
      },
      "source": [
        "model_cnn.summary()"
      ],
      "execution_count": 158,
      "outputs": [
        {
          "output_type": "stream",
          "text": [
            "Model: \"sequential_6\"\n",
            "_________________________________________________________________\n",
            "Layer (type)                 Output Shape              Param #   \n",
            "=================================================================\n",
            "embedding_6 (Embedding)      (None, 30, 32)            320000    \n",
            "_________________________________________________________________\n",
            "conv1d_2 (Conv1D)            (None, 26, 250)           40250     \n",
            "_________________________________________________________________\n",
            "global_max_pooling1d_2 (Glob (None, 250)               0         \n",
            "_________________________________________________________________\n",
            "dense_8 (Dense)              (None, 128)               32128     \n",
            "_________________________________________________________________\n",
            "dense_9 (Dense)              (None, 4)                 516       \n",
            "=================================================================\n",
            "Total params: 392,894\n",
            "Trainable params: 392,894\n",
            "Non-trainable params: 0\n",
            "_________________________________________________________________\n"
          ],
          "name": "stdout"
        }
      ]
    },
    {
      "cell_type": "markdown",
      "metadata": {
        "id": "GYw-jNpW9-40"
      },
      "source": [
        "Создаем callback для сохранения нейронной сети на каждой эпохе, если качество работы на проверочном наборе данных улучшилось. Сеть сохраняется в файл `best_model.h5`"
      ]
    },
    {
      "cell_type": "code",
      "metadata": {
        "id": "inD4DaNdWgpL"
      },
      "source": [
        "model_cnn_save_path = 'best_model_cnn.h5'\n",
        "checkpoint_callback_cnn = ModelCheckpoint(model_cnn_save_path, \n",
        "                                      monitor='val_accuracy',\n",
        "                                      save_best_only=True,\n",
        "                                      verbose=1)"
      ],
      "execution_count": 159,
      "outputs": []
    },
    {
      "cell_type": "code",
      "metadata": {
        "id": "3RjBsU8_PSqp",
        "colab": {
          "base_uri": "https://localhost:8080/"
        },
        "outputId": "ca9e5b72-e85d-49d1-8a6d-94530b0b9e6c"
      },
      "source": [
        "history_cnn = model_cnn.fit(x_tz, \n",
        "                            y_tz, \n",
        "                            epochs=50,\n",
        "                            batch_size=128,\n",
        "                            validation_split=0.1,\n",
        "                            callbacks=[checkpoint_callback_cnn])"
      ],
      "execution_count": 163,
      "outputs": [
        {
          "output_type": "stream",
          "text": [
            "Epoch 1/50\n",
            "1/1 [==============================] - 0s 73ms/step - loss: 0.0057 - accuracy: 1.0000 - val_loss: 0.7777 - val_accuracy: 0.5000\n",
            "\n",
            "Epoch 00001: val_accuracy did not improve from 1.00000\n",
            "Epoch 2/50\n",
            "1/1 [==============================] - 0s 40ms/step - loss: 0.0050 - accuracy: 1.0000 - val_loss: 0.7746 - val_accuracy: 0.5000\n",
            "\n",
            "Epoch 00002: val_accuracy did not improve from 1.00000\n",
            "Epoch 3/50\n",
            "1/1 [==============================] - 0s 38ms/step - loss: 0.0045 - accuracy: 1.0000 - val_loss: 0.7714 - val_accuracy: 0.5000\n",
            "\n",
            "Epoch 00003: val_accuracy did not improve from 1.00000\n",
            "Epoch 4/50\n",
            "1/1 [==============================] - 0s 35ms/step - loss: 0.0040 - accuracy: 1.0000 - val_loss: 0.7682 - val_accuracy: 0.5000\n",
            "\n",
            "Epoch 00004: val_accuracy did not improve from 1.00000\n",
            "Epoch 5/50\n",
            "1/1 [==============================] - 0s 41ms/step - loss: 0.0036 - accuracy: 1.0000 - val_loss: 0.7651 - val_accuracy: 0.5000\n",
            "\n",
            "Epoch 00005: val_accuracy did not improve from 1.00000\n",
            "Epoch 6/50\n",
            "1/1 [==============================] - 0s 39ms/step - loss: 0.0032 - accuracy: 1.0000 - val_loss: 0.7621 - val_accuracy: 0.5000\n",
            "\n",
            "Epoch 00006: val_accuracy did not improve from 1.00000\n",
            "Epoch 7/50\n",
            "1/1 [==============================] - 0s 47ms/step - loss: 0.0029 - accuracy: 1.0000 - val_loss: 0.7592 - val_accuracy: 0.5000\n",
            "\n",
            "Epoch 00007: val_accuracy did not improve from 1.00000\n",
            "Epoch 8/50\n",
            "1/1 [==============================] - 0s 41ms/step - loss: 0.0027 - accuracy: 1.0000 - val_loss: 0.7563 - val_accuracy: 0.5000\n",
            "\n",
            "Epoch 00008: val_accuracy did not improve from 1.00000\n",
            "Epoch 9/50\n",
            "1/1 [==============================] - 0s 44ms/step - loss: 0.0025 - accuracy: 1.0000 - val_loss: 0.7536 - val_accuracy: 0.5000\n",
            "\n",
            "Epoch 00009: val_accuracy did not improve from 1.00000\n",
            "Epoch 10/50\n",
            "1/1 [==============================] - 0s 38ms/step - loss: 0.0023 - accuracy: 1.0000 - val_loss: 0.7509 - val_accuracy: 0.5000\n",
            "\n",
            "Epoch 00010: val_accuracy did not improve from 1.00000\n",
            "Epoch 11/50\n",
            "1/1 [==============================] - 0s 38ms/step - loss: 0.0021 - accuracy: 1.0000 - val_loss: 0.7483 - val_accuracy: 0.5000\n",
            "\n",
            "Epoch 00011: val_accuracy did not improve from 1.00000\n",
            "Epoch 12/50\n",
            "1/1 [==============================] - 0s 40ms/step - loss: 0.0020 - accuracy: 1.0000 - val_loss: 0.7458 - val_accuracy: 0.5000\n",
            "\n",
            "Epoch 00012: val_accuracy did not improve from 1.00000\n",
            "Epoch 13/50\n",
            "1/1 [==============================] - 0s 38ms/step - loss: 0.0018 - accuracy: 1.0000 - val_loss: 0.7434 - val_accuracy: 0.5000\n",
            "\n",
            "Epoch 00013: val_accuracy did not improve from 1.00000\n",
            "Epoch 14/50\n",
            "1/1 [==============================] - 0s 39ms/step - loss: 0.0017 - accuracy: 1.0000 - val_loss: 0.7411 - val_accuracy: 0.5000\n",
            "\n",
            "Epoch 00014: val_accuracy did not improve from 1.00000\n",
            "Epoch 15/50\n",
            "1/1 [==============================] - 0s 44ms/step - loss: 0.0016 - accuracy: 1.0000 - val_loss: 0.7390 - val_accuracy: 0.5000\n",
            "\n",
            "Epoch 00015: val_accuracy did not improve from 1.00000\n",
            "Epoch 16/50\n",
            "1/1 [==============================] - 0s 44ms/step - loss: 0.0015 - accuracy: 1.0000 - val_loss: 0.7369 - val_accuracy: 0.5000\n",
            "\n",
            "Epoch 00016: val_accuracy did not improve from 1.00000\n",
            "Epoch 17/50\n",
            "1/1 [==============================] - 0s 36ms/step - loss: 0.0015 - accuracy: 1.0000 - val_loss: 0.7350 - val_accuracy: 0.5000\n",
            "\n",
            "Epoch 00017: val_accuracy did not improve from 1.00000\n",
            "Epoch 18/50\n",
            "1/1 [==============================] - 0s 42ms/step - loss: 0.0014 - accuracy: 1.0000 - val_loss: 0.7331 - val_accuracy: 0.5000\n",
            "\n",
            "Epoch 00018: val_accuracy did not improve from 1.00000\n",
            "Epoch 19/50\n",
            "1/1 [==============================] - 0s 37ms/step - loss: 0.0013 - accuracy: 1.0000 - val_loss: 0.7313 - val_accuracy: 0.5000\n",
            "\n",
            "Epoch 00019: val_accuracy did not improve from 1.00000\n",
            "Epoch 20/50\n",
            "1/1 [==============================] - 0s 39ms/step - loss: 0.0013 - accuracy: 1.0000 - val_loss: 0.7295 - val_accuracy: 0.5000\n",
            "\n",
            "Epoch 00020: val_accuracy did not improve from 1.00000\n",
            "Epoch 21/50\n",
            "1/1 [==============================] - 0s 40ms/step - loss: 0.0012 - accuracy: 1.0000 - val_loss: 0.7278 - val_accuracy: 0.5000\n",
            "\n",
            "Epoch 00021: val_accuracy did not improve from 1.00000\n",
            "Epoch 22/50\n",
            "1/1 [==============================] - 0s 39ms/step - loss: 0.0012 - accuracy: 1.0000 - val_loss: 0.7261 - val_accuracy: 0.5000\n",
            "\n",
            "Epoch 00022: val_accuracy did not improve from 1.00000\n",
            "Epoch 23/50\n",
            "1/1 [==============================] - 0s 37ms/step - loss: 0.0012 - accuracy: 1.0000 - val_loss: 0.7246 - val_accuracy: 0.5000\n",
            "\n",
            "Epoch 00023: val_accuracy did not improve from 1.00000\n",
            "Epoch 24/50\n",
            "1/1 [==============================] - 0s 37ms/step - loss: 0.0011 - accuracy: 1.0000 - val_loss: 0.7231 - val_accuracy: 0.5000\n",
            "\n",
            "Epoch 00024: val_accuracy did not improve from 1.00000\n",
            "Epoch 25/50\n",
            "1/1 [==============================] - 0s 37ms/step - loss: 0.0011 - accuracy: 1.0000 - val_loss: 0.7217 - val_accuracy: 0.5000\n",
            "\n",
            "Epoch 00025: val_accuracy did not improve from 1.00000\n",
            "Epoch 26/50\n",
            "1/1 [==============================] - 0s 37ms/step - loss: 0.0010 - accuracy: 1.0000 - val_loss: 0.7203 - val_accuracy: 0.5000\n",
            "\n",
            "Epoch 00026: val_accuracy did not improve from 1.00000\n",
            "Epoch 27/50\n",
            "1/1 [==============================] - 0s 51ms/step - loss: 0.0010 - accuracy: 1.0000 - val_loss: 0.7191 - val_accuracy: 0.5000\n",
            "\n",
            "Epoch 00027: val_accuracy did not improve from 1.00000\n",
            "Epoch 28/50\n",
            "1/1 [==============================] - 0s 37ms/step - loss: 9.9394e-04 - accuracy: 1.0000 - val_loss: 0.7179 - val_accuracy: 0.5000\n",
            "\n",
            "Epoch 00028: val_accuracy did not improve from 1.00000\n",
            "Epoch 29/50\n",
            "1/1 [==============================] - 0s 36ms/step - loss: 9.6946e-04 - accuracy: 1.0000 - val_loss: 0.7168 - val_accuracy: 0.5000\n",
            "\n",
            "Epoch 00029: val_accuracy did not improve from 1.00000\n",
            "Epoch 30/50\n",
            "1/1 [==============================] - 0s 42ms/step - loss: 9.4668e-04 - accuracy: 1.0000 - val_loss: 0.7157 - val_accuracy: 0.5000\n",
            "\n",
            "Epoch 00030: val_accuracy did not improve from 1.00000\n",
            "Epoch 31/50\n",
            "1/1 [==============================] - 0s 51ms/step - loss: 9.2556e-04 - accuracy: 1.0000 - val_loss: 0.7146 - val_accuracy: 0.5000\n",
            "\n",
            "Epoch 00031: val_accuracy did not improve from 1.00000\n",
            "Epoch 32/50\n",
            "1/1 [==============================] - 0s 39ms/step - loss: 9.0582e-04 - accuracy: 1.0000 - val_loss: 0.7135 - val_accuracy: 0.5000\n",
            "\n",
            "Epoch 00032: val_accuracy did not improve from 1.00000\n",
            "Epoch 33/50\n",
            "1/1 [==============================] - 0s 41ms/step - loss: 8.8730e-04 - accuracy: 1.0000 - val_loss: 0.7124 - val_accuracy: 0.5000\n",
            "\n",
            "Epoch 00033: val_accuracy did not improve from 1.00000\n",
            "Epoch 34/50\n",
            "1/1 [==============================] - 0s 40ms/step - loss: 8.6991e-04 - accuracy: 1.0000 - val_loss: 0.7113 - val_accuracy: 0.5000\n",
            "\n",
            "Epoch 00034: val_accuracy did not improve from 1.00000\n",
            "Epoch 35/50\n",
            "1/1 [==============================] - 0s 39ms/step - loss: 8.5355e-04 - accuracy: 1.0000 - val_loss: 0.7103 - val_accuracy: 0.5000\n",
            "\n",
            "Epoch 00035: val_accuracy did not improve from 1.00000\n",
            "Epoch 36/50\n",
            "1/1 [==============================] - 0s 40ms/step - loss: 8.3808e-04 - accuracy: 1.0000 - val_loss: 0.7092 - val_accuracy: 0.5000\n",
            "\n",
            "Epoch 00036: val_accuracy did not improve from 1.00000\n",
            "Epoch 37/50\n",
            "1/1 [==============================] - 0s 42ms/step - loss: 8.2343e-04 - accuracy: 1.0000 - val_loss: 0.7081 - val_accuracy: 0.5000\n",
            "\n",
            "Epoch 00037: val_accuracy did not improve from 1.00000\n",
            "Epoch 38/50\n",
            "1/1 [==============================] - 0s 38ms/step - loss: 8.0952e-04 - accuracy: 1.0000 - val_loss: 0.7070 - val_accuracy: 0.5000\n",
            "\n",
            "Epoch 00038: val_accuracy did not improve from 1.00000\n",
            "Epoch 39/50\n",
            "1/1 [==============================] - 0s 41ms/step - loss: 7.9630e-04 - accuracy: 1.0000 - val_loss: 0.7059 - val_accuracy: 0.5000\n",
            "\n",
            "Epoch 00039: val_accuracy did not improve from 1.00000\n",
            "Epoch 40/50\n",
            "1/1 [==============================] - 0s 41ms/step - loss: 7.8370e-04 - accuracy: 1.0000 - val_loss: 0.7048 - val_accuracy: 0.5000\n",
            "\n",
            "Epoch 00040: val_accuracy did not improve from 1.00000\n",
            "Epoch 41/50\n",
            "1/1 [==============================] - 0s 38ms/step - loss: 7.7165e-04 - accuracy: 1.0000 - val_loss: 0.7036 - val_accuracy: 0.5000\n",
            "\n",
            "Epoch 00041: val_accuracy did not improve from 1.00000\n",
            "Epoch 42/50\n",
            "1/1 [==============================] - 0s 41ms/step - loss: 7.6015e-04 - accuracy: 1.0000 - val_loss: 0.7024 - val_accuracy: 0.5000\n",
            "\n",
            "Epoch 00042: val_accuracy did not improve from 1.00000\n",
            "Epoch 43/50\n",
            "1/1 [==============================] - 0s 44ms/step - loss: 7.4910e-04 - accuracy: 1.0000 - val_loss: 0.7012 - val_accuracy: 0.5000\n",
            "\n",
            "Epoch 00043: val_accuracy did not improve from 1.00000\n",
            "Epoch 44/50\n",
            "1/1 [==============================] - 0s 47ms/step - loss: 7.3855e-04 - accuracy: 1.0000 - val_loss: 0.6999 - val_accuracy: 0.5000\n",
            "\n",
            "Epoch 00044: val_accuracy did not improve from 1.00000\n",
            "Epoch 45/50\n",
            "1/1 [==============================] - 0s 45ms/step - loss: 7.2837e-04 - accuracy: 1.0000 - val_loss: 0.6986 - val_accuracy: 0.5000\n",
            "\n",
            "Epoch 00045: val_accuracy did not improve from 1.00000\n",
            "Epoch 46/50\n",
            "1/1 [==============================] - 0s 39ms/step - loss: 7.1857e-04 - accuracy: 1.0000 - val_loss: 0.6974 - val_accuracy: 0.5000\n",
            "\n",
            "Epoch 00046: val_accuracy did not improve from 1.00000\n",
            "Epoch 47/50\n",
            "1/1 [==============================] - 0s 49ms/step - loss: 7.0916e-04 - accuracy: 1.0000 - val_loss: 0.6961 - val_accuracy: 0.5000\n",
            "\n",
            "Epoch 00047: val_accuracy did not improve from 1.00000\n",
            "Epoch 48/50\n",
            "1/1 [==============================] - 0s 39ms/step - loss: 7.0007e-04 - accuracy: 1.0000 - val_loss: 0.6949 - val_accuracy: 0.5000\n",
            "\n",
            "Epoch 00048: val_accuracy did not improve from 1.00000\n",
            "Epoch 49/50\n",
            "1/1 [==============================] - 0s 40ms/step - loss: 6.9128e-04 - accuracy: 1.0000 - val_loss: 0.6937 - val_accuracy: 0.5000\n",
            "\n",
            "Epoch 00049: val_accuracy did not improve from 1.00000\n",
            "Epoch 50/50\n",
            "1/1 [==============================] - 0s 42ms/step - loss: 6.8279e-04 - accuracy: 1.0000 - val_loss: 0.6925 - val_accuracy: 0.5000\n",
            "\n",
            "Epoch 00050: val_accuracy did not improve from 1.00000\n"
          ],
          "name": "stdout"
        }
      ]
    },
    {
      "cell_type": "code",
      "metadata": {
        "id": "D87iUZmNP0rk",
        "colab": {
          "base_uri": "https://localhost:8080/",
          "height": 279
        },
        "outputId": "ec8da3fe-2287-4972-9318-588ae53b681a"
      },
      "source": [
        "plt.plot(history_cnn.history['accuracy'], \n",
        "         label='Доля верных ответов на обучающем наборе')\n",
        "plt.plot(history_cnn.history['val_accuracy'], \n",
        "         label='Доля верных ответов на проверочном наборе')\n",
        "plt.xlabel('Эпоха обучения')\n",
        "plt.ylabel('Доля верных ответов')\n",
        "plt.legend()\n",
        "plt.show()"
      ],
      "execution_count": 161,
      "outputs": [
        {
          "output_type": "display_data",
          "data": {
            "image/png": "[encoded data removed]",
            "text/plain": [
              "<Figure size 432x288 with 1 Axes>"
            ]
          },
          "metadata": {
            "tags": [],
            "needs_background": "light"
          }
        }
      ]
    },
    {
      "cell_type": "markdown",
      "metadata": {
        "id": "VFUTMuKL8SNY"
      },
      "source": [
        "## Cеть LSTM"
      ]
    },
    {
      "cell_type": "code",
      "metadata": {
        "id": "s_ZqIgqS8SNa"
      },
      "source": [
        "model_lstm = Sequential()\n",
        "model_lstm.add(Embedding(num_words, 32, input_length=max_news_len))\n",
        "model_lstm.add(LSTM(16))\n",
        "model_lstm.add(Dense(4, activation='softmax'))"
      ],
      "execution_count": 99,
      "outputs": []
    },
    {
      "cell_type": "code",
      "metadata": {
        "id": "IoxJ8kNf8SNc"
      },
      "source": [
        "model_lstm.compile(optimizer='adam', \n",
        "              loss='categorical_crossentropy', \n",
        "              metrics=['accuracy'])"
      ],
      "execution_count": 100,
      "outputs": []
    },
    {
      "cell_type": "code",
      "metadata": {
        "id": "KNc2OK3j8SNe",
        "colab": {
          "base_uri": "https://localhost:8080/"
        },
        "outputId": "f451620b-152d-434b-b9ad-dcfb062270fa"
      },
      "source": [
        "model_lstm.summary()"
      ],
      "execution_count": 101,
      "outputs": [
        {
          "output_type": "stream",
          "text": [
            "Model: \"sequential_4\"\n",
            "_________________________________________________________________\n",
            "Layer (type)                 Output Shape              Param #   \n",
            "=================================================================\n",
            "embedding_4 (Embedding)      (None, 30, 32)            320000    \n",
            "_________________________________________________________________\n",
            "lstm_1 (LSTM)                (None, 16)                3136      \n",
            "_________________________________________________________________\n",
            "dense_6 (Dense)              (None, 4)                 68        \n",
            "=================================================================\n",
            "Total params: 323,204\n",
            "Trainable params: 323,204\n",
            "Non-trainable params: 0\n",
            "_________________________________________________________________\n"
          ],
          "name": "stdout"
        }
      ]
    },
    {
      "cell_type": "markdown",
      "metadata": {
        "id": "KzJtvcIa8SNh"
      },
      "source": [
        "Создаем callback для сохранения нейронной сети на каждой эпохе, если качество работы на проверочном наборе данных улучшилось. Сеть сохраняется в файл `best_model.h5`"
      ]
    },
    {
      "cell_type": "code",
      "metadata": {
        "id": "qCu0Xlyj8SNi"
      },
      "source": [
        "model_lstm_save_path = 'best_model_lstm.h5'\n",
        "checkpoint_callback_lstm = ModelCheckpoint(model_lstm_save_path, \n",
        "                                      monitor='val_accuracy',\n",
        "                                      save_best_only=True,\n",
        "                                      verbose=1)"
      ],
      "execution_count": 102,
      "outputs": []
    },
    {
      "cell_type": "code",
      "metadata": {
        "id": "znNeO0lO8SNk",
        "colab": {
          "base_uri": "https://localhost:8080/"
        },
        "outputId": "afacb637-32fb-4578-b085-8380a8c0603d"
      },
      "source": [
        "history_lstm = model_lstm.fit(x_tz, \n",
        "                              y_tz, \n",
        "                              epochs=5,\n",
        "                              batch_size=128,\n",
        "                              validation_split=0.1,\n",
        "                              callbacks=[checkpoint_callback_lstm])"
      ],
      "execution_count": 103,
      "outputs": [
        {
          "output_type": "stream",
          "text": [
            "Epoch 1/5\n",
            "1/1 [==============================] - 2s 2s/step - loss: 1.3850 - accuracy: 0.1111 - val_loss: 1.3941 - val_accuracy: 0.0000e+00\n",
            "\n",
            "Epoch 00001: val_accuracy improved from -inf to 0.00000, saving model to best_model_lstm.h5\n",
            "Epoch 2/5\n",
            "1/1 [==============================] - 0s 40ms/step - loss: 1.3798 - accuracy: 0.3333 - val_loss: 1.3909 - val_accuracy: 0.5000\n",
            "\n",
            "Epoch 00002: val_accuracy improved from 0.00000 to 0.50000, saving model to best_model_lstm.h5\n",
            "Epoch 3/5\n",
            "1/1 [==============================] - 0s 40ms/step - loss: 1.3746 - accuracy: 0.6667 - val_loss: 1.3878 - val_accuracy: 0.5000\n",
            "\n",
            "Epoch 00003: val_accuracy did not improve from 0.50000\n",
            "Epoch 4/5\n",
            "1/1 [==============================] - 0s 37ms/step - loss: 1.3694 - accuracy: 0.6667 - val_loss: 1.3846 - val_accuracy: 0.5000\n",
            "\n",
            "Epoch 00004: val_accuracy did not improve from 0.50000\n",
            "Epoch 5/5\n",
            "1/1 [==============================] - 0s 39ms/step - loss: 1.3640 - accuracy: 0.7222 - val_loss: 1.3814 - val_accuracy: 0.5000\n",
            "\n",
            "Epoch 00005: val_accuracy did not improve from 0.50000\n"
          ],
          "name": "stdout"
        }
      ]
    },
    {
      "cell_type": "code",
      "metadata": {
        "id": "iFTVTtcM8SNm",
        "colab": {
          "base_uri": "https://localhost:8080/",
          "height": 279
        },
        "outputId": "bf792067-e5a6-4f89-fbbd-da7c4b6a3b41"
      },
      "source": [
        "plt.plot(history_lstm.history['accuracy'], \n",
        "         label='Доля верных ответов на обучающем наборе')\n",
        "plt.plot(history_lstm.history['val_accuracy'], \n",
        "         label='Доля верных ответов на проверочном наборе')\n",
        "plt.xlabel('Эпоха обучения')\n",
        "plt.ylabel('Доля верных ответов')\n",
        "plt.legend()\n",
        "plt.show()"
      ],
      "execution_count": 104,
      "outputs": [
        {
          "output_type": "display_data",
          "data": {
            "image/png": "[encoded data removed]",
            "text/plain": [
              "<Figure size 432x288 with 1 Axes>"
            ]
          },
          "metadata": {
            "tags": [],
            "needs_background": "light"
          }
        }
      ]
    },
    {
      "cell_type": "markdown",
      "metadata": {
        "id": "rKlSelFd9N7X"
      },
      "source": [
        "## Cеть GRU"
      ]
    },
    {
      "cell_type": "code",
      "metadata": {
        "id": "cX6ixo129N7Y"
      },
      "source": [
        "model_gru = Sequential()\n",
        "model_gru.add(Embedding(num_words, 32, input_length=max_news_len))\n",
        "model_gru.add(GRU(16))\n",
        "model_gru.add(Dense(4, activation='softmax'))"
      ],
      "execution_count": 105,
      "outputs": []
    },
    {
      "cell_type": "code",
      "metadata": {
        "id": "x6jjohYc9N7a"
      },
      "source": [
        "model_gru.compile(optimizer='adam', \n",
        "              loss='categorical_crossentropy', \n",
        "              metrics=['accuracy'])"
      ],
      "execution_count": 106,
      "outputs": []
    },
    {
      "cell_type": "code",
      "metadata": {
        "id": "O5hVTQ389N7c",
        "colab": {
          "base_uri": "https://localhost:8080/"
        },
        "outputId": "45b86a26-59c3-404c-e32b-cd9507982f54"
      },
      "source": [
        "model_gru.summary()"
      ],
      "execution_count": 107,
      "outputs": [
        {
          "output_type": "stream",
          "text": [
            "Model: \"sequential_5\"\n",
            "_________________________________________________________________\n",
            "Layer (type)                 Output Shape              Param #   \n",
            "=================================================================\n",
            "embedding_5 (Embedding)      (None, 30, 32)            320000    \n",
            "_________________________________________________________________\n",
            "gru_1 (GRU)                  (None, 16)                2400      \n",
            "_________________________________________________________________\n",
            "dense_7 (Dense)              (None, 4)                 68        \n",
            "=================================================================\n",
            "Total params: 322,468\n",
            "Trainable params: 322,468\n",
            "Non-trainable params: 0\n",
            "_________________________________________________________________\n"
          ],
          "name": "stdout"
        }
      ]
    },
    {
      "cell_type": "markdown",
      "metadata": {
        "id": "fT4H-dh99N7f"
      },
      "source": [
        "Создаем callback для сохранения нейронной сети на каждой эпохе, если качество работы на проверочном наборе данных улучшилось. Сеть сохраняется в файл `best_model_gru.h5`"
      ]
    },
    {
      "cell_type": "code",
      "metadata": {
        "id": "gVkz3fpH9N7f"
      },
      "source": [
        "model_gru_save_path = 'best_model_gru.h5'\n",
        "checkpoint_callback_gru = ModelCheckpoint(model_gru_save_path, \n",
        "                                      monitor='val_accuracy',\n",
        "                                      save_best_only=True,\n",
        "                                      verbose=1)"
      ],
      "execution_count": 108,
      "outputs": []
    },
    {
      "cell_type": "code",
      "metadata": {
        "id": "RjIx2P-S9N7h",
        "colab": {
          "base_uri": "https://localhost:8080/"
        },
        "outputId": "f892b09b-3009-4065-9dc2-8917a8fdf6a4"
      },
      "source": [
        "history_gru = model_gru.fit(x_tz, \n",
        "                              y_tz, \n",
        "                              epochs=5,\n",
        "                              batch_size=128,\n",
        "                              validation_split=0.1,\n",
        "                              callbacks=[checkpoint_callback_gru])"
      ],
      "execution_count": 109,
      "outputs": [
        {
          "output_type": "stream",
          "text": [
            "Epoch 1/5\n",
            "1/1 [==============================] - 2s 2s/step - loss: 1.3876 - accuracy: 0.2222 - val_loss: 1.3698 - val_accuracy: 0.5000\n",
            "\n",
            "Epoch 00001: val_accuracy improved from -inf to 0.50000, saving model to best_model_gru.h5\n",
            "Epoch 2/5\n",
            "1/1 [==============================] - 0s 38ms/step - loss: 1.3799 - accuracy: 0.1667 - val_loss: 1.3637 - val_accuracy: 1.0000\n",
            "\n",
            "Epoch 00002: val_accuracy improved from 0.50000 to 1.00000, saving model to best_model_gru.h5\n",
            "Epoch 3/5\n",
            "1/1 [==============================] - 0s 44ms/step - loss: 1.3723 - accuracy: 0.2222 - val_loss: 1.3575 - val_accuracy: 1.0000\n",
            "\n",
            "Epoch 00003: val_accuracy did not improve from 1.00000\n",
            "Epoch 4/5\n",
            "1/1 [==============================] - 0s 38ms/step - loss: 1.3647 - accuracy: 0.2778 - val_loss: 1.3512 - val_accuracy: 1.0000\n",
            "\n",
            "Epoch 00004: val_accuracy did not improve from 1.00000\n",
            "Epoch 5/5\n",
            "1/1 [==============================] - 0s 39ms/step - loss: 1.3570 - accuracy: 0.4444 - val_loss: 1.3448 - val_accuracy: 1.0000\n",
            "\n",
            "Epoch 00005: val_accuracy did not improve from 1.00000\n"
          ],
          "name": "stdout"
        }
      ]
    },
    {
      "cell_type": "code",
      "metadata": {
        "id": "0ivAKvRU9N7j",
        "colab": {
          "base_uri": "https://localhost:8080/",
          "height": 279
        },
        "outputId": "2f62f58a-f331-4a03-b7d7-fa9a9145cd6d"
      },
      "source": [
        "plt.plot(history_gru.history['accuracy'], \n",
        "         label='Доля верных ответов на обучающем наборе')\n",
        "plt.plot(history_gru.history['val_accuracy'], \n",
        "         label='Доля верных ответов на проверочном наборе')\n",
        "plt.xlabel('Эпоха обучения')\n",
        "plt.ylabel('Доля верных ответов')\n",
        "plt.legend()\n",
        "plt.show()"
      ],
      "execution_count": 110,
      "outputs": [
        {
          "output_type": "display_data",
          "data": {
            "image/png": "[encoded data removed]",
            "text/plain": [
              "<Figure size 432x288 with 1 Axes>"
            ]
          },
          "metadata": {
            "tags": [],
            "needs_background": "light"
          }
        }
      ]
    },
    {
      "cell_type": "markdown",
      "metadata": {
        "id": "Ma51nugyR5Ct"
      },
      "source": [
        "## Загружаем набор данных для тестирования"
      ]
    },
    {
      "cell_type": "code",
      "metadata": {
        "id": "0OQ9iHYWYJ7G"
      },
      "source": [
        "test = pd.read_csv('test.csv', \n",
        "                    header=None, \n",
        "                    names=['class', 'text'])"
      ],
      "execution_count": 111,
      "outputs": []
    },
    {
      "cell_type": "code",
      "metadata": {
        "id": "4W8Exe9nYYC6",
        "colab": {
          "base_uri": "https://localhost:8080/",
          "height": 241
        },
        "outputId": "d2138de2-d1ae-41eb-bd8a-139ab434b9df"
      },
      "source": [
        "test"
      ],
      "execution_count": 112,
      "outputs": [
        {
          "output_type": "execute_result",
          "data": {
            "text/html": [
              "<div>\n",
              "<style scoped>\n",
              "    .dataframe tbody tr th:only-of-type {\n",
              "        vertical-align: middle;\n",
              "    }\n",
              "\n",
              "    .dataframe tbody tr th {\n",
              "        vertical-align: top;\n",
              "    }\n",
              "\n",
              "    .dataframe thead th {\n",
              "        text-align: right;\n",
              "    }\n",
              "</style>\n",
              "<table border=\"1\" class=\"dataframe\">\n",
              "  <thead>\n",
              "    <tr style=\"text-align: right;\">\n",
              "      <th></th>\n",
              "      <th>class</th>\n",
              "      <th>text</th>\n",
              "    </tr>\n",
              "  </thead>\n",
              "  <tbody>\n",
              "    <tr>\n",
              "      <th>1</th>\n",
              "      <td>Дизайн страниц выполняется в строгом соответст...</td>\n",
              "      <td>с пожеланиями клиента.Исполнитель предоставля...</td>\n",
              "    </tr>\n",
              "    <tr>\n",
              "      <th>2</th>\n",
              "      <td>Сайт разрабатывается под базовое разрешение эк...</td>\n",
              "      <td>NaN</td>\n",
              "    </tr>\n",
              "    <tr>\n",
              "      <th>3</th>\n",
              "      <td>По ссылке на заголовок тура пользователь перех...</td>\n",
              "      <td>где он может оформить заявку на выбранный им ...</td>\n",
              "    </tr>\n",
              "    <tr>\n",
              "      <th>4</th>\n",
              "      <td>«О компании» - содержит краткую информацию раз...</td>\n",
              "      <td>ведущую на раздел «О компании».</td>\n",
              "    </tr>\n",
              "  </tbody>\n",
              "</table>\n",
              "</div>"
            ],
            "text/plain": [
              "                                               class                                               text\n",
              "1  Дизайн страниц выполняется в строгом соответст...   с пожеланиями клиента.Исполнитель предоставля...\n",
              "2  Сайт разрабатывается под базовое разрешение эк...                                                NaN\n",
              "3  По ссылке на заголовок тура пользователь перех...   где он может оформить заявку на выбранный им ...\n",
              "4  «О компании» - содержит краткую информацию раз...                    ведущую на раздел «О компании»."
            ]
          },
          "metadata": {
            "tags": []
          },
          "execution_count": 112
        }
      ]
    },
    {
      "cell_type": "markdown",
      "metadata": {
        "id": "xgEjSpX5biaJ"
      },
      "source": [
        "Преобразуем новости в числовое представление\n",
        "\n",
        "Обратите внимание, что нужно использовать токенизатор, обученный на наборе данных train."
      ]
    },
    {
      "cell_type": "code",
      "metadata": {
        "id": "wE8JtIgybvLx",
        "outputId": "3d7f29d3-1f98-4a69-924b-d4c12d9d75c4",
        "colab": {
          "base_uri": "https://localhost:8080/",
          "height": 325
        }
      },
      "source": [
        "test_sequences = tokenizer.texts_to_sequences(test['text'])"
      ],
      "execution_count": 113,
      "outputs": [
        {
          "output_type": "error",
          "ename": "AttributeError",
          "evalue": "ignored",
          "traceback": [
            "\u001b[0;31m---------------------------------------------------------------------------\u001b[0m",
            "\u001b[0;31mAttributeError\u001b[0m                            Traceback (most recent call last)",
            "\u001b[0;32m<ipython-input-113-6919d67adc6c>\u001b[0m in \u001b[0;36m<module>\u001b[0;34m()\u001b[0m\n\u001b[0;32m----> 1\u001b[0;31m \u001b[0mtest_sequences\u001b[0m \u001b[0;34m=\u001b[0m \u001b[0mtokenizer\u001b[0m\u001b[0;34m.\u001b[0m\u001b[0mtexts_to_sequences\u001b[0m\u001b[0;34m(\u001b[0m\u001b[0mtest\u001b[0m\u001b[0;34m[\u001b[0m\u001b[0;34m'text'\u001b[0m\u001b[0;34m]\u001b[0m\u001b[0;34m)\u001b[0m\u001b[0;34m\u001b[0m\u001b[0;34m\u001b[0m\u001b[0m\n\u001b[0m",
            "\u001b[0;32m/usr/local/lib/python3.7/dist-packages/keras_preprocessing/text.py\u001b[0m in \u001b[0;36mtexts_to_sequences\u001b[0;34m(self, texts)\u001b[0m\n\u001b[1;32m    279\u001b[0m             \u001b[0mA\u001b[0m \u001b[0mlist\u001b[0m \u001b[0mof\u001b[0m \u001b[0msequences\u001b[0m\u001b[0;34m.\u001b[0m\u001b[0;34m\u001b[0m\u001b[0;34m\u001b[0m\u001b[0m\n\u001b[1;32m    280\u001b[0m         \"\"\"\n\u001b[0;32m--> 281\u001b[0;31m         \u001b[0;32mreturn\u001b[0m \u001b[0mlist\u001b[0m\u001b[0;34m(\u001b[0m\u001b[0mself\u001b[0m\u001b[0;34m.\u001b[0m\u001b[0mtexts_to_sequences_generator\u001b[0m\u001b[0;34m(\u001b[0m\u001b[0mtexts\u001b[0m\u001b[0;34m)\u001b[0m\u001b[0;34m)\u001b[0m\u001b[0;34m\u001b[0m\u001b[0;34m\u001b[0m\u001b[0m\n\u001b[0m\u001b[1;32m    282\u001b[0m \u001b[0;34m\u001b[0m\u001b[0m\n\u001b[1;32m    283\u001b[0m     \u001b[0;32mdef\u001b[0m \u001b[0mtexts_to_sequences_generator\u001b[0m\u001b[0;34m(\u001b[0m\u001b[0mself\u001b[0m\u001b[0;34m,\u001b[0m \u001b[0mtexts\u001b[0m\u001b[0;34m)\u001b[0m\u001b[0;34m:\u001b[0m\u001b[0;34m\u001b[0m\u001b[0;34m\u001b[0m\u001b[0m\n",
            "\u001b[0;32m/usr/local/lib/python3.7/dist-packages/keras_preprocessing/text.py\u001b[0m in \u001b[0;36mtexts_to_sequences_generator\u001b[0;34m(self, texts)\u001b[0m\n\u001b[1;32m    310\u001b[0m                                             \u001b[0mself\u001b[0m\u001b[0;34m.\u001b[0m\u001b[0mfilters\u001b[0m\u001b[0;34m,\u001b[0m\u001b[0;34m\u001b[0m\u001b[0;34m\u001b[0m\u001b[0m\n\u001b[1;32m    311\u001b[0m                                             \u001b[0mself\u001b[0m\u001b[0;34m.\u001b[0m\u001b[0mlower\u001b[0m\u001b[0;34m,\u001b[0m\u001b[0;34m\u001b[0m\u001b[0;34m\u001b[0m\u001b[0m\n\u001b[0;32m--> 312\u001b[0;31m                                             self.split)\n\u001b[0m\u001b[1;32m    313\u001b[0m             \u001b[0mvect\u001b[0m \u001b[0;34m=\u001b[0m \u001b[0;34m[\u001b[0m\u001b[0;34m]\u001b[0m\u001b[0;34m\u001b[0m\u001b[0;34m\u001b[0m\u001b[0m\n\u001b[1;32m    314\u001b[0m             \u001b[0;32mfor\u001b[0m \u001b[0mw\u001b[0m \u001b[0;32min\u001b[0m \u001b[0mseq\u001b[0m\u001b[0;34m:\u001b[0m\u001b[0;34m\u001b[0m\u001b[0;34m\u001b[0m\u001b[0m\n",
            "\u001b[0;32m/usr/local/lib/python3.7/dist-packages/keras_preprocessing/text.py\u001b[0m in \u001b[0;36mtext_to_word_sequence\u001b[0;34m(text, filters, lower, split)\u001b[0m\n\u001b[1;32m     41\u001b[0m     \"\"\"\n\u001b[1;32m     42\u001b[0m     \u001b[0;32mif\u001b[0m \u001b[0mlower\u001b[0m\u001b[0;34m:\u001b[0m\u001b[0;34m\u001b[0m\u001b[0;34m\u001b[0m\u001b[0m\n\u001b[0;32m---> 43\u001b[0;31m         \u001b[0mtext\u001b[0m \u001b[0;34m=\u001b[0m \u001b[0mtext\u001b[0m\u001b[0;34m.\u001b[0m\u001b[0mlower\u001b[0m\u001b[0;34m(\u001b[0m\u001b[0;34m)\u001b[0m\u001b[0;34m\u001b[0m\u001b[0;34m\u001b[0m\u001b[0m\n\u001b[0m\u001b[1;32m     44\u001b[0m \u001b[0;34m\u001b[0m\u001b[0m\n\u001b[1;32m     45\u001b[0m     \u001b[0;32mif\u001b[0m \u001b[0msys\u001b[0m\u001b[0;34m.\u001b[0m\u001b[0mversion_info\u001b[0m \u001b[0;34m<\u001b[0m \u001b[0;34m(\u001b[0m\u001b[0;36m3\u001b[0m\u001b[0;34m,\u001b[0m\u001b[0;34m)\u001b[0m\u001b[0;34m:\u001b[0m\u001b[0;34m\u001b[0m\u001b[0;34m\u001b[0m\u001b[0m\n",
            "\u001b[0;31mAttributeError\u001b[0m: 'float' object has no attribute 'lower'"
          ]
        }
      ]
    },
    {
      "cell_type": "code",
      "metadata": {
        "id": "haKQPtc-byBf"
      },
      "source": [
        "x_test = pad_sequences(test_sequences, maxlen=max_news_len)"
      ],
      "execution_count": null,
      "outputs": []
    },
    {
      "cell_type": "code",
      "metadata": {
        "id": "LQsqVZedb-Qf",
        "colab": {
          "base_uri": "https://localhost:8080/",
          "height": 274
        },
        "outputId": "0448ff71-9a29-4632-881c-dfda6ce41fea"
      },
      "source": [
        "x_test[:5]"
      ],
      "execution_count": null,
      "outputs": [
        {
          "output_type": "execute_result",
          "data": {
            "text/plain": [
              "array([[   0,    0,    0,    0,    0,    0,    0,    0,    0,    0,    0,\n",
              "           0,    0,    0, 2020, 3371,  449,   15, 6956,  252,   60,   33,\n",
              "          28,  289,   12, 9088, 2184,  371,  169, 9284],\n",
              "       [  92,  119,    4, 3472,    8,    1,  402,  134,   75, 5471, 1516,\n",
              "        1227,    2, 3436,    8, 2744, 5220,  230,  936,   20, 2148,  117,\n",
              "           1,   38,  561, 1974,    8,   14, 3957, 1218],\n",
              "       [   2,   52, 5787,   18,    2, 4914,   15,    1,  525,    4, 4586,\n",
              "         227,    2, 3922,    3, 1316,    2, 6888,    4, 2893,  576,   84,\n",
              "          33,  758, 6515,    4,    1, 1013, 5154,    4],\n",
              "       [9642, 1291,    6, 8714,   41,  671,   40, 2977,  177,    1,  108,\n",
              "          26, 1027, 7300,   26,  760,    5, 3356,   40, 1271, 2450,   26,\n",
              "        2170,   50, 3356,   26, 7415,    6, 9153,   26],\n",
              "       [   0,    0,    0,    0,    0,    0,   39,  493, 7343,  832,  400,\n",
              "         820,   28, 3827,    4,    1, 4474,   54, 9411,    1, 1273,   38,\n",
              "        1230,    3, 1365,  348, 3899,   23, 5065, 5091]], dtype=int32)"
            ]
          },
          "metadata": {
            "tags": []
          },
          "execution_count": 107
        }
      ]
    },
    {
      "cell_type": "markdown",
      "metadata": {
        "id": "afswW4zVcPfT"
      },
      "source": [
        "Правильные ответы"
      ]
    },
    {
      "cell_type": "code",
      "metadata": {
        "id": "tsdQdcvBcFsv"
      },
      "source": [
        "y_test = utils.to_categorical(test['class'] - 1, nb_classes)"
      ],
      "execution_count": null,
      "outputs": []
    },
    {
      "cell_type": "code",
      "metadata": {
        "id": "86TiWSg8cYkI",
        "colab": {
          "base_uri": "https://localhost:8080/",
          "height": 137
        },
        "outputId": "4e20b310-2b9d-427b-d129-ed49ee6eaef5"
      },
      "source": [
        "y_test"
      ],
      "execution_count": null,
      "outputs": [
        {
          "output_type": "execute_result",
          "data": {
            "text/plain": [
              "array([[0., 0., 1., 0.],\n",
              "       [0., 0., 0., 1.],\n",
              "       [0., 0., 0., 1.],\n",
              "       ...,\n",
              "       [0., 1., 0., 0.],\n",
              "       [0., 0., 1., 0.],\n",
              "       [0., 0., 1., 0.]], dtype=float32)"
            ]
          },
          "metadata": {
            "tags": []
          },
          "execution_count": 109
        }
      ]
    },
    {
      "cell_type": "markdown",
      "metadata": {
        "id": "3DJbzO3ucewV"
      },
      "source": [
        "## Оцениваем качество работы сети на тестовом наборе данных"
      ]
    },
    {
      "cell_type": "markdown",
      "metadata": {
        "id": "5XYdOGmL_szI"
      },
      "source": [
        "### Одномерная сверточная сеть "
      ]
    },
    {
      "cell_type": "code",
      "metadata": {
        "id": "-HUt8GsfAM4z"
      },
      "source": [
        "model_cnn.load_weights(model_cnn_save_path)"
      ],
      "execution_count": null,
      "outputs": []
    },
    {
      "cell_type": "code",
      "metadata": {
        "id": "MkFvNfFPcaPX",
        "colab": {
          "base_uri": "https://localhost:8080/",
          "height": 51
        },
        "outputId": "b9a0cb0c-fc9e-4377-ed4c-71e78e404947"
      },
      "source": [
        "model_cnn.evaluate(x_test, y_test, verbose=1)"
      ],
      "execution_count": null,
      "outputs": [
        {
          "output_type": "stream",
          "text": [
            "238/238 [==============================] - 1s 2ms/step - loss: 0.3241 - accuracy: 0.8891\n"
          ],
          "name": "stdout"
        },
        {
          "output_type": "execute_result",
          "data": {
            "text/plain": [
              "[0.32407426834106445, 0.8890789747238159]"
            ]
          },
          "metadata": {
            "tags": []
          },
          "execution_count": 111
        }
      ]
    },
    {
      "cell_type": "markdown",
      "metadata": {
        "id": "YHs8Q5vqAlqC"
      },
      "source": [
        "### Сеть LSTM"
      ]
    },
    {
      "cell_type": "code",
      "metadata": {
        "id": "OEzSL_M-ApHx"
      },
      "source": [
        "model_lstm.load_weights(model_lstm_save_path)"
      ],
      "execution_count": null,
      "outputs": []
    },
    {
      "cell_type": "code",
      "metadata": {
        "id": "fcGg4jA9AqN4",
        "colab": {
          "base_uri": "https://localhost:8080/",
          "height": 51
        },
        "outputId": "ccb7fb54-f5d4-4798-c0e2-72dffc589a28"
      },
      "source": [
        "model_lstm.evaluate(x_test, y_test, verbose=1)"
      ],
      "execution_count": null,
      "outputs": [
        {
          "output_type": "stream",
          "text": [
            "238/238 [==============================] - 1s 3ms/step - loss: 0.3240 - accuracy: 0.8916\n"
          ],
          "name": "stdout"
        },
        {
          "output_type": "execute_result",
          "data": {
            "text/plain": [
              "[0.32402247190475464, 0.8915789723396301]"
            ]
          },
          "metadata": {
            "tags": []
          },
          "execution_count": 113
        }
      ]
    },
    {
      "cell_type": "markdown",
      "metadata": {
        "id": "NiAwR86MA2_l"
      },
      "source": [
        "### Сеть GRU"
      ]
    },
    {
      "cell_type": "code",
      "metadata": {
        "id": "dbgVW71aA2_o"
      },
      "source": [
        "model_gru.load_weights(model_gru_save_path)"
      ],
      "execution_count": null,
      "outputs": []
    },
    {
      "cell_type": "code",
      "metadata": {
        "id": "oB-t_8fLA2_s",
        "colab": {
          "base_uri": "https://localhost:8080/",
          "height": 51
        },
        "outputId": "5ae247ba-d349-4c00-93c4-2f67084f5711"
      },
      "source": [
        "model_gru.evaluate(x_test, y_test, verbose=1)"
      ],
      "execution_count": null,
      "outputs": [
        {
          "output_type": "stream",
          "text": [
            "238/238 [==============================] - 1s 3ms/step - loss: 0.3164 - accuracy: 0.8957\n"
          ],
          "name": "stdout"
        },
        {
          "output_type": "execute_result",
          "data": {
            "text/plain": [
              "[0.31637880206108093, 0.8956578969955444]"
            ]
          },
          "metadata": {
            "tags": []
          },
          "execution_count": 115
        }
      ]
    },
    {
      "cell_type": "markdown",
      "metadata": {
        "id": "3xSOsTA1zq2U"
      },
      "source": [
        "## Полезные ссылки\n",
        "\n",
        "1. [Определение тональности текстов отзывов на сайте YELP одномерной сверточной нейросетью](https://colab.research.google.com/drive/1KWS-4MKKOIG7UhiCA58ZJcxwSLG5F6Wm).\n",
        "2. [Определение тональности текстов отзывов на сайте YELP сетью LSTM](https://colab.research.google.com/drive/19olgYyZ4N5fh8RIPtHxkso2N5HD1yg0X).\n",
        "3. [Использование командной строки Linux в Colab](https://colab.research.google.com/drive/1vFGZ2nDS0ukNGXPL-0avK097afYQILyq)."
      ]
    }
  ]
}