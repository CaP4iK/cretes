{
  "nbformat": 4,
  "nbformat_minor": 0,
  "metadata": {
    "colab": {
      "name": "Исправление ошибок.ipynb",
      "provenance": [],
      "toc_visible": true,
      "authorship_tag": "ABX9TyN8YJ/eMYNelXDg13As2nTr",
      "include_colab_link": true
    },
    "kernelspec": {
      "name": "python3",
      "display_name": "Python 3"
    },
    "language_info": {
      "name": "python"
    },
    "accelerator": "GPU"
  },
  "cells": [
    {
      "cell_type": "markdown",
      "metadata": {
        "id": "view-in-github",
        "colab_type": "text"
      },
      "source": [
        "<a href=\"https://colab.research.google.com/github/CaP4iK/cretes/blob/main/%D0%98%D1%81%D0%BF%D1%80%D0%B0%D0%B2%D0%BB%D0%B5%D0%BD%D0%B8%D0%B5_%D0%BE%D1%88%D0%B8%D0%B1%D0%BE%D0%BA.ipynb\" target=\"_parent\"><img src=\"https://colab.research.google.com/assets/colab-badge.svg\" alt=\"Open In Colab\"/></a>"
      ]
    },
    {
      "cell_type": "markdown",
      "metadata": {
        "id": "gpXC4pFZ_AlK"
      },
      "source": [
        "Устанавливаем pyenchant\n"
      ]
    },
    {
      "cell_type": "code",
      "metadata": {
        "colab": {
          "base_uri": "https://localhost:8080/"
        },
        "id": "IgKLQD0f-e5y",
        "outputId": "1d87311a-e27e-4c2e-c950-1d54e08a7dae"
      },
      "source": [
        "!apt install enchant"
      ],
      "execution_count": 16,
      "outputs": [
        {
          "output_type": "stream",
          "text": [
            "Reading package lists... Done\n",
            "Building dependency tree       \n",
            "Reading state information... Done\n",
            "enchant is already the newest version (1.6.0-11.1).\n",
            "0 upgraded, 0 newly installed, 0 to remove and 50 not upgraded.\n"
          ],
          "name": "stdout"
        }
      ]
    },
    {
      "cell_type": "code",
      "metadata": {
        "colab": {
          "base_uri": "https://localhost:8080/"
        },
        "id": "lqD4dhAML5mV",
        "outputId": "4ad3a2aa-5d4e-4551-c182-6cc6164733f0"
      },
      "source": [
        "!pip install pyenchant"
      ],
      "execution_count": 17,
      "outputs": [
        {
          "output_type": "stream",
          "text": [
            "Requirement already satisfied: pyenchant in /usr/local/lib/python3.7/dist-packages (3.2.0)\n"
          ],
          "name": "stdout"
        }
      ]
    },
    {
      "cell_type": "markdown",
      "metadata": {
        "id": "Nj-FLSKaBhhi"
      },
      "source": [
        "Импорт"
      ]
    },
    {
      "cell_type": "code",
      "metadata": {
        "colab": {
          "base_uri": "https://localhost:8080/"
        },
        "id": "cCwQKxcGBkMK",
        "outputId": "8f948161-a5e3-4bce-b7a6-c65dc8ebefe4"
      },
      "source": [
        "import enchant  # при импроте пишем именно enchant (не pyenchant)   \n",
        "dictionary = enchant.Dict(\"en_US\")\n",
        "print(dictionary.check(\"driver\"))"
      ],
      "execution_count": 18,
      "outputs": [
        {
          "output_type": "stream",
          "text": [
            "True\n"
          ],
          "name": "stdout"
        }
      ]
    },
    {
      "cell_type": "markdown",
      "metadata": {
        "id": "HlZm1MoHMMOU"
      },
      "source": [
        "Если вывел True, значит верно"
      ]
    },
    {
      "cell_type": "markdown",
      "metadata": {
        "id": "SkKMGWOXMXEu"
      },
      "source": [
        "Допустим ошибку в слове driver (опечатались, например)"
      ]
    },
    {
      "cell_type": "code",
      "metadata": {
        "colab": {
          "base_uri": "https://localhost:8080/"
        },
        "id": "t6u4GO0NMSao",
        "outputId": "6d968f25-0b33-4e1e-90bb-d3dc4c1c7d51"
      },
      "source": [
        "print(dictionary.check(\"draiver\"))"
      ],
      "execution_count": 19,
      "outputs": [
        {
          "output_type": "stream",
          "text": [
            "False\n"
          ],
          "name": "stdout"
        }
      ]
    },
    {
      "cell_type": "markdown",
      "metadata": {
        "id": "_CCNQJR4MkNn"
      },
      "source": [
        "Получили False ? - значит в библиотеке такое слово не нашлось, а значит лучше поправить его, как?\n",
        "\n",
        "Выведем предложения по исправлению"
      ]
    },
    {
      "cell_type": "code",
      "metadata": {
        "colab": {
          "base_uri": "https://localhost:8080/"
        },
        "id": "jvvdwYOKDDbj",
        "outputId": "bc7087f6-45d2-4f43-95c3-2d0fdc16ed16"
      },
      "source": [
        "print(dictionary.suggest(u\"draiver\"))"
      ],
      "execution_count": 20,
      "outputs": [
        {
          "output_type": "stream",
          "text": [
            "['driver', 'drainer', 'Rivera']\n"
          ],
          "name": "stdout"
        }
      ]
    },
    {
      "cell_type": "markdown",
      "metadata": {
        "id": "BYbU1tQ3ecJ1"
      },
      "source": [
        "Пора добавить Русский язык"
      ]
    },
    {
      "cell_type": "code",
      "metadata": {
        "colab": {
          "base_uri": "https://localhost:8080/"
        },
        "id": "ldDXzGFHee3J",
        "outputId": "6d875c33-df37-4845-8854-957f62f69202"
      },
      "source": [
        "!apt update\n",
        "!apt install hunspell-ru"
      ],
      "execution_count": 21,
      "outputs": [
        {
          "output_type": "stream",
          "text": [
            "Hit:1 https://cloud.r-project.org/bin/linux/ubuntu bionic-cran40/ InRelease\n",
            "Ign:2 https://developer.download.nvidia.com/compute/cuda/repos/ubuntu1804/x86_64  InRelease\n",
            "Ign:3 https://developer.download.nvidia.com/compute/machine-learning/repos/ubuntu1804/x86_64  InRelease\n",
            "Hit:4 https://developer.download.nvidia.com/compute/cuda/repos/ubuntu1804/x86_64  Release\n",
            "Hit:5 https://developer.download.nvidia.com/compute/machine-learning/repos/ubuntu1804/x86_64  Release\n",
            "Hit:6 http://ppa.launchpad.net/c2d4u.team/c2d4u4.0+/ubuntu bionic InRelease\n",
            "Get:7 http://security.ubuntu.com/ubuntu bionic-security InRelease [88.7 kB]\n",
            "Hit:8 http://archive.ubuntu.com/ubuntu bionic InRelease\n",
            "Get:10 http://archive.ubuntu.com/ubuntu bionic-updates InRelease [88.7 kB]\n",
            "Hit:12 http://ppa.launchpad.net/cran/libgit2/ubuntu bionic InRelease\n",
            "Hit:13 http://ppa.launchpad.net/deadsnakes/ppa/ubuntu bionic InRelease\n",
            "Get:14 http://archive.ubuntu.com/ubuntu bionic-backports InRelease [74.6 kB]\n",
            "Hit:15 http://ppa.launchpad.net/graphics-drivers/ppa/ubuntu bionic InRelease\n",
            "Fetched 252 kB in 2s (140 kB/s)\n",
            "Reading package lists... Done\n",
            "Building dependency tree       \n",
            "Reading state information... Done\n",
            "50 packages can be upgraded. Run 'apt list --upgradable' to see them.\n",
            "Reading package lists... Done\n",
            "Building dependency tree       \n",
            "Reading state information... Done\n",
            "hunspell-ru is already the newest version (1:6.0.3-3).\n",
            "0 upgraded, 0 newly installed, 0 to remove and 50 not upgraded.\n"
          ],
          "name": "stdout"
        }
      ]
    },
    {
      "cell_type": "code",
      "metadata": {
        "id": "m4C0H2eaekMI"
      },
      "source": [
        "dictionary = enchant.Dict(\"ru_RU\")"
      ],
      "execution_count": 22,
      "outputs": []
    },
    {
      "cell_type": "markdown",
      "metadata": {
        "id": "1lDPw7cgeo4X"
      },
      "source": [
        "Проверим правописание на русском языке"
      ]
    },
    {
      "cell_type": "code",
      "metadata": {
        "colab": {
          "base_uri": "https://localhost:8080/"
        },
        "id": "S9_EHQxcewKA",
        "outputId": "1a2a951a-ee49-4260-f1f7-252d0f8e3451"
      },
      "source": [
        "print(dictionary.check(\"Водитель\"))"
      ],
      "execution_count": 23,
      "outputs": [
        {
          "output_type": "stream",
          "text": [
            "True\n"
          ],
          "name": "stdout"
        }
      ]
    },
    {
      "cell_type": "code",
      "metadata": {
        "colab": {
          "base_uri": "https://localhost:8080/"
        },
        "id": "Uo28XSASexoM",
        "outputId": "12324749-9874-4565-82f5-db08f1cf89ea"
      },
      "source": [
        "print(dictionary.check(\"Водиьель\"))"
      ],
      "execution_count": 24,
      "outputs": [
        {
          "output_type": "stream",
          "text": [
            "False\n"
          ],
          "name": "stdout"
        }
      ]
    },
    {
      "cell_type": "code",
      "metadata": {
        "colab": {
          "base_uri": "https://localhost:8080/"
        },
        "id": "JW4y18p5fgBZ",
        "outputId": "cae7cdf6-8e29-4610-c548-0a2c28a77e37"
      },
      "source": [
        "print(dictionary.suggest(u\"Водиьель\"))"
      ],
      "execution_count": 28,
      "outputs": [
        {
          "output_type": "stream",
          "text": [
            "['Водитель']\n"
          ],
          "name": "stdout"
        }
      ]
    },
    {
      "cell_type": "markdown",
      "metadata": {
        "id": "saaxRF91f_UB"
      },
      "source": [
        "difflib, который позволяет сравнивать строковые последовательности. Попробуем выбрать из списка слово «Водитель»:"
      ]
    },
    {
      "cell_type": "code",
      "metadata": {
        "colab": {
          "base_uri": "https://localhost:8080/"
        },
        "id": "_vfPGPmugA-F",
        "outputId": "da9c3593-240a-4f7c-ebcf-9bfc7d55da59"
      },
      "source": [
        "import enchant\n",
        "import difflib\n",
        "\n",
        "woi = \"Водтель\" \n",
        "sim = dict() \n",
        "\n",
        "#dictionary = enchant.Dict(\"en_US\")\n",
        "dictionary = enchant.Dict(\"ru_RU\")\n",
        "suggestions = set(dictionary.suggest(woi))\n",
        "\n",
        "for word in suggestions:\n",
        "    measure = difflib.SequenceMatcher(None, woi, word).ratio()\n",
        "    sim[measure] = word\n",
        "\n",
        "print(\"Возможно вы имели ввиду:\", sim[max(sim.keys())])"
      ],
      "execution_count": 31,
      "outputs": [
        {
          "output_type": "stream",
          "text": [
            "Возможно вы имели ввиду: Водитель\n"
          ],
          "name": "stdout"
        }
      ]
    },
    {
      "cell_type": "markdown",
      "metadata": {
        "id": "L1xkAo67hWhK"
      },
      "source": [
        "В словаре sim будут храниться значения степеней сходства (диапазон от 0 до 1) предложенных методом suggest() класса Dict слов с искомым словом («draiver»). Данные значения мы получаем в цикле при вызове метода ratio() класса SequenceMatcher и записываем в словарь. В конце получаем слово, которое максимально близко к проверяемому."
      ]
    },
    {
      "cell_type": "markdown",
      "metadata": {
        "id": "qbQm_kZJhZpX"
      },
      "source": [
        "Выше мы работали с отдельными словами, но будет полезно разобраться, как работать с целыми блоками текста. Для этой задачи нужно использовать класс SpellChecker:"
      ]
    },
    {
      "cell_type": "code",
      "metadata": {
        "colab": {
          "base_uri": "https://localhost:8080/"
        },
        "id": "SuF6lkQBhcMS",
        "outputId": "a6f884b8-f4df-40a9-aa6f-789ab467e637"
      },
      "source": [
        "from enchant.checker import SpellChecker\n",
        "\n",
        "checker = SpellChecker(\"ru_RU\")\n",
        "checker.set_text(\"Я хосу научиться водмть.\")\n",
        "print([i.word for i in checker])"
      ],
      "execution_count": 32,
      "outputs": [
        {
          "output_type": "stream",
          "text": [
            "['хосу', 'водмть']\n"
          ],
          "name": "stdout"
        }
      ]
    },
    {
      "cell_type": "markdown",
      "metadata": {
        "id": "N-9l4yjihsJz"
      },
      "source": [
        "в итоге мы поймали неверно написанные слова (слова содержащие ошибки)"
      ]
    },
    {
      "cell_type": "markdown",
      "metadata": {
        "id": "aHCMdHZpiBJf"
      },
      "source": [
        "Как видно, это не сложнее работы с отдельными словами. Кроме того, класс SpellChecker предоставляет возможность использовать фильтры, которые будут игнорировать особые последовательности, не являющиеся ошибочными, например, адрес электронной почты. Для этого необходимо импортировать класс или классы фильтров, если их несколько, и передать список фильтров параметру filters классу SpellChecker:"
      ]
    },
    {
      "cell_type": "code",
      "metadata": {
        "colab": {
          "base_uri": "https://localhost:8080/"
        },
        "id": "y3I-dcV-h_8N",
        "outputId": "43fa7f3b-bf74-4838-9978-16e253adca57"
      },
      "source": [
        "from enchant.checker import SpellChecker\n",
        "from enchant.tokenize import EmailFilter, URLFilter\n",
        "\n",
        "checker_with_filters = SpellChecker(\"en_US\", filters=[EmailFilter])\n",
        "checker_with_filters.set_text(\"Приает! My neim is John and thiz is my email: johnnyhatesjazz@gmail.com.\")\n",
        "print([i.word for i in checker_with_filters])"
      ],
      "execution_count": 45,
      "outputs": [
        {
          "output_type": "stream",
          "text": [
            "['Приает', 'neim', 'thiz']\n"
          ],
          "name": "stdout"
        }
      ]
    },
    {
      "cell_type": "markdown",
      "metadata": {
        "id": "ln64SoBXkYTN"
      },
      "source": [
        "Отлично, а что делать если текст русский а в нем встечаются слова на English?"
      ]
    },
    {
      "cell_type": "code",
      "metadata": {
        "id": "5nviTEedkhE2",
        "outputId": "9f240ebf-abb6-479a-f7ab-aec7491e8181",
        "colab": {
          "base_uri": "https://localhost:8080/"
        }
      },
      "source": [
        "de = enchant.Dict(\"en_US\")\n",
        "dr = enchant.Dict(\"ru_RU\")\n",
        "\n",
        "de.check(\"Hellp\")\n"
      ],
      "execution_count": 36,
      "outputs": [
        {
          "output_type": "execute_result",
          "data": {
            "text/plain": [
              "False"
            ]
          },
          "metadata": {
            "tags": []
          },
          "execution_count": 36
        }
      ]
    },
    {
      "cell_type": "code",
      "metadata": {
        "id": "erK5t7J1lgEb",
        "outputId": "8a9c8b11-c0ca-4e37-92fd-bd8fa3853c06",
        "colab": {
          "base_uri": "https://localhost:8080/"
        }
      },
      "source": [
        "a = \"Привнт\"\n",
        "dr.check(a)"
      ],
      "execution_count": 42,
      "outputs": [
        {
          "output_type": "execute_result",
          "data": {
            "text/plain": [
              "False"
            ]
          },
          "metadata": {
            "tags": []
          },
          "execution_count": 42
        }
      ]
    },
    {
      "cell_type": "code",
      "metadata": {
        "id": "5zsI0TDklt4A",
        "outputId": "04bc3c78-a98c-406f-fe91-b705ba3671c7",
        "colab": {
          "base_uri": "https://localhost:8080/"
        }
      },
      "source": [
        "print(dr.suggest(a))"
      ],
      "execution_count": 43,
      "outputs": [
        {
          "output_type": "stream",
          "text": [
            "['Привит', 'Приват', 'Привет', 'Привинтит']\n"
          ],
          "name": "stdout"
        }
      ]
    },
    {
      "cell_type": "code",
      "metadata": {
        "id": "nwUJxjz2mGC9",
        "outputId": "0ad57a01-aff3-458b-b41c-1bacfe011944",
        "colab": {
          "base_uri": "https://localhost:8080/"
        }
      },
      "source": [
        "print(de.suggest(a))"
      ],
      "execution_count": 44,
      "outputs": [
        {
          "output_type": "stream",
          "text": [
            "[]\n"
          ],
          "name": "stdout"
        }
      ]
    },
    {
      "cell_type": "markdown",
      "metadata": {
        "id": "PVlutcIWmKsg"
      },
      "source": [
        "+/- так можно понять какой язык, "
      ]
    }
  ]
}