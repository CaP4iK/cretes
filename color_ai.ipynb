#импортируем в нашу программку библиотеку TnsorFlow с сокращением имени до tf :
import tensorflow as tf
# запускаем из библиотеки tf в экземпляре класса test метод gpu_device_name() тестируя присутствие устройства gpu (GPU):
tf.test.gpu_device_name()
