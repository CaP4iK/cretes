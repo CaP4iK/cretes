{
  "nbformat": 4,
  "nbformat_minor": 0,
  "metadata": {
    "colab": {
      "name": "color_ai.ipynb",
      "provenance": [],
      "mount_file_id": "https://github.com/CaP4iK/cretes/blob/main/color_ai.ipynb",
      "authorship_tag": "ABX9TyNChPzpic5LP9GJZSzgpg3K",
      "include_colab_link": true
    },
    "kernelspec": {
      "name": "python3",
      "display_name": "Python 3"
    },
    "accelerator": "TPU"
  },
  "cells": [
    {
      "cell_type": "markdown",
      "metadata": {
        "id": "view-in-github",
        "colab_type": "text"
      },
      "source": [
        "<a href=\"https://colab.research.google.com/github/CaP4iK/cretes/blob/main/color_ai.ipynb\" target=\"_parent\"><img src=\"https://colab.research.google.com/assets/colab-badge.svg\" alt=\"Open In Colab\"/></a>"
      ]
    },
    {
      "cell_type": "code",
      "metadata": {
        "colab": {
          "base_uri": "https://localhost:8080/",
          "height": 35
        },
        "id": "8GeuUOIUm2KH",
        "outputId": "e44ac53c-f103-4c3d-816d-18df19d9df68"
      },
      "source": [
        "#импортируем в нашу программку библиотеку TnsorFlow с сокращением имени до tf :\r\n",
        "import tensorflow as tf\r\n",
        "# запускаем из библиотеки tf в экземпляре класса test метод gpu_device_name() тестируя присутствие устройства gpu (GPU):\r\n",
        "tf.test.gpu_device_name()"
      ],
      "execution_count": 1,
      "outputs": [
        {
          "output_type": "execute_result",
          "data": {
            "application/vnd.google.colaboratory.intrinsic+json": {
              "type": "string"
            },
            "text/plain": [
              "''"
            ]
          },
          "metadata": {
            "tags": []
          },
          "execution_count": 1
        }
      ]
    },
    {
      "cell_type": "code",
      "metadata": {
        "id": "F9Mqqm7NsT4Q",
        "outputId": "d4f17aea-514d-4b5d-872d-c153a3984fab",
        "colab": {
          "base_uri": "https://localhost:8080/"
        }
      },
      "source": [
        "!ls \"/content/drive/My Drive/Colab Notebooks\""
      ],
      "execution_count": 2,
      "outputs": [
        {
          "output_type": "stream",
          "text": [
            " color_ai.ipynb\n",
            " download_lenta.py\n",
            " Lenta.Ru-News-Dataset-master.zip\n",
            "'Lenta.Ru-News-Dataset-master.zip (Unzipped Files)'\n",
            " Untitled0.ipynb\n",
            " Untitled1.ipynb\n",
            "'Копия блокнота \"fashion_mnist_prevent_overfitting.ipynb\"'\n",
            "'Копия блокнота \"multiclass.ipynb\"'\n"
          ],
          "name": "stdout"
        }
      ]
    },
    {
      "cell_type": "code",
      "metadata": {
        "id": "f4YEm9NZtrqh",
        "outputId": "80c3ac8f-d90e-46a7-bbdb-ff21fb0f1012",
        "colab": {
          "base_uri": "https://localhost:8080/"
        }
      },
      "source": [
        "!pip install aiohttp"
      ],
      "execution_count": 3,
      "outputs": [
        {
          "output_type": "stream",
          "text": [
            "Collecting aiohttp\n",
            "\u001b[?25l  Downloading https://files.pythonhosted.org/packages/5b/a6/d36302eba284f4f427dc288f6b3ecd7f89d739cfca206b80311d3158f6d9/aiohttp-3.7.4-cp37-cp37m-manylinux2014_x86_64.whl (1.3MB)\n",
            "\u001b[K     |████████████████████████████████| 1.3MB 6.8MB/s \n",
            "\u001b[?25hCollecting multidict<7.0,>=4.5\n",
            "\u001b[?25l  Downloading https://files.pythonhosted.org/packages/7c/a6/4123b8165acbe773d1a8dc8e3f0d1edea16d29f7de018eda769abb56bd30/multidict-5.1.0-cp37-cp37m-manylinux2014_x86_64.whl (142kB)\n",
            "\u001b[K     |████████████████████████████████| 143kB 31.4MB/s \n",
            "\u001b[?25hRequirement already satisfied: attrs>=17.3.0 in /usr/local/lib/python3.7/dist-packages (from aiohttp) (20.3.0)\n",
            "Requirement already satisfied: typing-extensions>=3.6.5 in /usr/local/lib/python3.7/dist-packages (from aiohttp) (3.7.4.3)\n",
            "Collecting yarl<2.0,>=1.0\n",
            "\u001b[?25l  Downloading https://files.pythonhosted.org/packages/f1/62/046834c5fc998c88ab2ef722f5d42122230a632212c8afa76418324f53ff/yarl-1.6.3-cp37-cp37m-manylinux2014_x86_64.whl (294kB)\n",
            "\u001b[K     |████████████████████████████████| 296kB 36.3MB/s \n",
            "\u001b[?25hCollecting async-timeout<4.0,>=3.0\n",
            "  Downloading https://files.pythonhosted.org/packages/e1/1e/5a4441be21b0726c4464f3f23c8b19628372f606755a9d2e46c187e65ec4/async_timeout-3.0.1-py3-none-any.whl\n",
            "Requirement already satisfied: chardet<4.0,>=2.0 in /usr/local/lib/python3.7/dist-packages (from aiohttp) (3.0.4)\n",
            "Requirement already satisfied: idna>=2.0 in /usr/local/lib/python3.7/dist-packages (from yarl<2.0,>=1.0->aiohttp) (2.10)\n",
            "Installing collected packages: multidict, yarl, async-timeout, aiohttp\n",
            "Successfully installed aiohttp-3.7.4 async-timeout-3.0.1 multidict-5.1.0 yarl-1.6.3\n"
          ],
          "name": "stdout"
        }
      ]
    },
    {
      "cell_type": "code",
      "metadata": {
        "id": "cFQeuekusax8",
        "outputId": "8a4191a4-fb94-450c-c9e6-1092e4f4cfa6",
        "colab": {
          "base_uri": "https://localhost:8080/"
        }
      },
      "source": [
        "!python3 \"/content/drive/My Drive/Colab Notebooks/download_lenta.py\""
      ],
      "execution_count": null,
      "outputs": [
        {
          "output_type": "stream",
          "text": [
            "04-03-2021 23:27:26 - asyncio - DEBUG @ Using selector: EpollSelector\n",
            "04-03-2021 23:27:26 - LentaParser - INFO @ News not found at https://lenta.ru/news/1999/08/30.\n",
            "04-03-2021 23:27:26 - LentaParser - INFO @ https://lenta.ru/news/1999/08/30 processed (0 news). 0 news saved totally.\n",
            "04-03-2021 23:27:29 - LentaParser - INFO @ https://lenta.ru/news/1999/08/31 processed (11 news). 11 news saved totally.\n",
            "04-03-2021 23:27:31 - LentaParser - INFO @ https://lenta.ru/news/1999/09/01 processed (21 news). 32 news saved totally.\n",
            "04-03-2021 23:27:33 - LentaParser - INFO @ https://lenta.ru/news/1999/09/02 processed (18 news). 50 news saved totally.\n",
            "04-03-2021 23:27:35 - LentaParser - INFO @ https://lenta.ru/news/1999/09/03 processed (23 news). 73 news saved totally.\n",
            "04-03-2021 23:27:36 - LentaParser - INFO @ https://lenta.ru/news/1999/09/04 processed (2 news). 75 news saved totally.\n",
            "04-03-2021 23:27:37 - LentaParser - INFO @ News not found at https://lenta.ru/news/1999/09/05.\n",
            "04-03-2021 23:27:37 - LentaParser - INFO @ https://lenta.ru/news/1999/09/05 processed (0 news). 75 news saved totally.\n",
            "04-03-2021 23:27:38 - LentaParser - INFO @ https://lenta.ru/news/1999/09/06 processed (22 news). 97 news saved totally.\n",
            "04-03-2021 23:27:40 - LentaParser - INFO @ https://lenta.ru/news/1999/09/07 processed (11 news). 108 news saved totally.\n",
            "04-03-2021 23:27:42 - LentaParser - INFO @ https://lenta.ru/news/1999/09/08 processed (15 news). 123 news saved totally.\n",
            "04-03-2021 23:27:44 - LentaParser - INFO @ https://lenta.ru/news/1999/09/09 processed (33 news). 156 news saved totally.\n",
            "04-03-2021 23:27:47 - LentaParser - INFO @ https://lenta.ru/news/1999/09/10 processed (18 news). 174 news saved totally.\n",
            "04-03-2021 23:27:48 - LentaParser - INFO @ https://lenta.ru/news/1999/09/11 processed (7 news). 181 news saved totally.\n",
            "04-03-2021 23:27:48 - LentaParser - INFO @ News not found at https://lenta.ru/news/1999/09/12.\n",
            "04-03-2021 23:27:48 - LentaParser - INFO @ https://lenta.ru/news/1999/09/12 processed (0 news). 181 news saved totally.\n",
            "04-03-2021 23:27:50 - LentaParser - INFO @ https://lenta.ru/news/1999/09/13 processed (17 news). 198 news saved totally.\n",
            "04-03-2021 23:27:53 - LentaParser - INFO @ https://lenta.ru/news/1999/09/14 processed (30 news). 228 news saved totally.\n",
            "04-03-2021 23:27:57 - LentaParser - INFO @ https://lenta.ru/news/1999/09/15 processed (28 news). 256 news saved totally.\n",
            "04-03-2021 23:28:00 - LentaParser - INFO @ https://lenta.ru/news/1999/09/16 processed (28 news). 284 news saved totally.\n",
            "04-03-2021 23:28:02 - LentaParser - INFO @ https://lenta.ru/news/1999/09/17 processed (26 news). 310 news saved totally.\n",
            "04-03-2021 23:28:04 - LentaParser - INFO @ https://lenta.ru/news/1999/09/18 processed (5 news). 315 news saved totally.\n",
            "04-03-2021 23:28:04 - LentaParser - INFO @ News not found at https://lenta.ru/news/1999/09/19.\n",
            "04-03-2021 23:28:04 - LentaParser - INFO @ https://lenta.ru/news/1999/09/19 processed (0 news). 315 news saved totally.\n",
            "04-03-2021 23:28:05 - LentaParser - INFO @ https://lenta.ru/news/1999/09/20 processed (21 news). 336 news saved totally.\n",
            "04-03-2021 23:28:07 - LentaParser - INFO @ https://lenta.ru/news/1999/09/21 processed (29 news). 365 news saved totally.\n",
            "04-03-2021 23:28:10 - LentaParser - INFO @ https://lenta.ru/news/1999/09/22 processed (39 news). 404 news saved totally.\n",
            "04-03-2021 23:28:13 - LentaParser - INFO @ https://lenta.ru/news/1999/09/23 processed (28 news). 432 news saved totally.\n",
            "04-03-2021 23:28:15 - LentaParser - INFO @ https://lenta.ru/news/1999/09/24 processed (30 news). 462 news saved totally.\n",
            "04-03-2021 23:28:17 - LentaParser - INFO @ https://lenta.ru/news/1999/09/25 processed (10 news). 472 news saved totally.\n",
            "04-03-2021 23:28:17 - LentaParser - INFO @ News not found at https://lenta.ru/news/1999/09/26.\n",
            "04-03-2021 23:28:17 - LentaParser - INFO @ https://lenta.ru/news/1999/09/26 processed (0 news). 472 news saved totally.\n",
            "04-03-2021 23:28:19 - LentaParser - INFO @ https://lenta.ru/news/1999/09/27 processed (23 news). 495 news saved totally.\n",
            "04-03-2021 23:28:21 - LentaParser - INFO @ https://lenta.ru/news/1999/09/28 processed (31 news). 526 news saved totally.\n",
            "04-03-2021 23:28:24 - LentaParser - INFO @ https://lenta.ru/news/1999/09/29 processed (33 news). 559 news saved totally.\n",
            "04-03-2021 23:28:26 - LentaParser - INFO @ https://lenta.ru/news/1999/09/30 processed (30 news). 589 news saved totally.\n",
            "04-03-2021 23:28:29 - LentaParser - INFO @ https://lenta.ru/news/1999/10/01 processed (28 news). 617 news saved totally.\n",
            "04-03-2021 23:28:30 - LentaParser - INFO @ https://lenta.ru/news/1999/10/02 processed (3 news). 620 news saved totally.\n",
            "04-03-2021 23:28:31 - LentaParser - INFO @ https://lenta.ru/news/1999/10/03 processed (1 news). 621 news saved totally.\n",
            "04-03-2021 23:28:32 - LentaParser - INFO @ https://lenta.ru/news/1999/10/04 processed (23 news). 644 news saved totally.\n",
            "04-03-2021 23:28:35 - LentaParser - INFO @ https://lenta.ru/news/1999/10/05 processed (28 news). 672 news saved totally.\n",
            "04-03-2021 23:28:38 - LentaParser - INFO @ https://lenta.ru/news/1999/10/06 processed (36 news). 708 news saved totally.\n",
            "04-03-2021 23:28:42 - LentaParser - INFO @ https://lenta.ru/news/1999/10/07 processed (35 news). 743 news saved totally.\n",
            "04-03-2021 23:28:44 - LentaParser - INFO @ https://lenta.ru/news/1999/10/08 processed (28 news). 771 news saved totally.\n",
            "04-03-2021 23:28:46 - LentaParser - INFO @ https://lenta.ru/news/1999/10/09 processed (5 news). 776 news saved totally.\n",
            "04-03-2021 23:28:46 - LentaParser - INFO @ News not found at https://lenta.ru/news/1999/10/10.\n",
            "04-03-2021 23:28:46 - LentaParser - INFO @ https://lenta.ru/news/1999/10/10 processed (0 news). 776 news saved totally.\n",
            "04-03-2021 23:28:49 - LentaParser - INFO @ https://lenta.ru/news/1999/10/11 processed (36 news). 812 news saved totally.\n",
            "04-03-2021 23:28:52 - LentaParser - INFO @ https://lenta.ru/news/1999/10/12 processed (32 news). 844 news saved totally.\n",
            "04-03-2021 23:28:55 - LentaParser - INFO @ https://lenta.ru/news/1999/10/13 processed (42 news). 886 news saved totally.\n",
            "04-03-2021 23:28:58 - LentaParser - INFO @ https://lenta.ru/news/1999/10/14 processed (28 news). 914 news saved totally.\n",
            "04-03-2021 23:29:02 - LentaParser - INFO @ https://lenta.ru/news/1999/10/15 processed (31 news). 945 news saved totally.\n",
            "04-03-2021 23:29:03 - LentaParser - INFO @ https://lenta.ru/news/1999/10/16 processed (1 news). 946 news saved totally.\n",
            "04-03-2021 23:29:03 - LentaParser - INFO @ News not found at https://lenta.ru/news/1999/10/17.\n",
            "04-03-2021 23:29:03 - LentaParser - INFO @ https://lenta.ru/news/1999/10/17 processed (0 news). 946 news saved totally.\n",
            "04-03-2021 23:29:05 - LentaParser - INFO @ https://lenta.ru/news/1999/10/18 processed (22 news). 968 news saved totally.\n",
            "04-03-2021 23:29:07 - LentaParser - INFO @ https://lenta.ru/news/1999/10/19 processed (33 news). 1001 news saved totally.\n",
            "04-03-2021 23:29:10 - LentaParser - INFO @ https://lenta.ru/news/1999/10/20 processed (37 news). 1038 news saved totally.\n",
            "04-03-2021 23:29:13 - LentaParser - INFO @ https://lenta.ru/news/1999/10/21 processed (41 news). 1079 news saved totally.\n",
            "04-03-2021 23:29:16 - LentaParser - INFO @ https://lenta.ru/news/1999/10/22 processed (36 news). 1115 news saved totally.\n",
            "04-03-2021 23:29:19 - LentaParser - INFO @ https://lenta.ru/news/1999/10/23 processed (12 news). 1127 news saved totally.\n",
            "04-03-2021 23:29:22 - LentaParser - INFO @ https://lenta.ru/news/1999/10/24 processed (1 news). 1128 news saved totally.\n",
            "04-03-2021 23:29:24 - LentaParser - INFO @ https://lenta.ru/news/1999/10/25 processed (32 news). 1160 news saved totally.\n",
            "04-03-2021 23:29:27 - LentaParser - INFO @ https://lenta.ru/news/1999/10/26 processed (37 news). 1197 news saved totally.\n",
            "04-03-2021 23:29:33 - LentaParser - INFO @ https://lenta.ru/news/1999/10/27 processed (38 news). 1235 news saved totally.\n",
            "04-03-2021 23:29:35 - LentaParser - INFO @ https://lenta.ru/news/1999/10/28 processed (27 news). 1262 news saved totally.\n",
            "04-03-2021 23:29:39 - LentaParser - INFO @ https://lenta.ru/news/1999/10/29 processed (47 news). 1309 news saved totally.\n",
            "04-03-2021 23:29:41 - LentaParser - INFO @ https://lenta.ru/news/1999/10/30 processed (7 news). 1316 news saved totally.\n",
            "04-03-2021 23:29:42 - LentaParser - INFO @ News not found at https://lenta.ru/news/1999/10/31.\n",
            "04-03-2021 23:29:42 - LentaParser - INFO @ https://lenta.ru/news/1999/10/31 processed (0 news). 1316 news saved totally.\n",
            "04-03-2021 23:29:44 - LentaParser - INFO @ https://lenta.ru/news/1999/11/01 processed (39 news). 1355 news saved totally.\n",
            "04-03-2021 23:29:47 - LentaParser - INFO @ https://lenta.ru/news/1999/11/02 processed (43 news). 1398 news saved totally.\n",
            "04-03-2021 23:29:51 - LentaParser - INFO @ https://lenta.ru/news/1999/11/03 processed (30 news). 1428 news saved totally.\n",
            "04-03-2021 23:29:54 - LentaParser - INFO @ https://lenta.ru/news/1999/11/04 processed (30 news). 1458 news saved totally.\n",
            "04-03-2021 23:29:57 - LentaParser - INFO @ https://lenta.ru/news/1999/11/05 processed (35 news). 1493 news saved totally.\n",
            "04-03-2021 23:29:58 - LentaParser - INFO @ https://lenta.ru/news/1999/11/06 processed (4 news). 1497 news saved totally.\n",
            "04-03-2021 23:30:00 - LentaParser - INFO @ https://lenta.ru/news/1999/11/07 processed (5 news). 1502 news saved totally.\n",
            "04-03-2021 23:30:00 - LentaParser - INFO @ News not found at https://lenta.ru/news/1999/11/08.\n",
            "04-03-2021 23:30:00 - LentaParser - INFO @ https://lenta.ru/news/1999/11/08 processed (0 news). 1502 news saved totally.\n",
            "04-03-2021 23:30:03 - LentaParser - INFO @ https://lenta.ru/news/1999/11/09 processed (37 news). 1539 news saved totally.\n",
            "04-03-2021 23:30:06 - LentaParser - INFO @ https://lenta.ru/news/1999/11/10 processed (36 news). 1575 news saved totally.\n",
            "04-03-2021 23:30:09 - LentaParser - INFO @ https://lenta.ru/news/1999/11/11 processed (36 news). 1611 news saved totally.\n",
            "04-03-2021 23:30:12 - LentaParser - INFO @ https://lenta.ru/news/1999/11/12 processed (41 news). 1652 news saved totally.\n",
            "04-03-2021 23:30:14 - LentaParser - INFO @ https://lenta.ru/news/1999/11/13 processed (6 news). 1658 news saved totally.\n",
            "04-03-2021 23:30:15 - LentaParser - INFO @ https://lenta.ru/news/1999/11/14 processed (1 news). 1659 news saved totally.\n",
            "04-03-2021 23:30:17 - LentaParser - INFO @ https://lenta.ru/news/1999/11/15 processed (35 news). 1694 news saved totally.\n",
            "04-03-2021 23:30:21 - LentaParser - INFO @ https://lenta.ru/news/1999/11/16 processed (50 news). 1744 news saved totally.\n",
            "04-03-2021 23:30:25 - LentaParser - INFO @ https://lenta.ru/news/1999/11/17 processed (46 news). 1790 news saved totally.\n",
            "04-03-2021 23:30:28 - LentaParser - INFO @ https://lenta.ru/news/1999/11/18 processed (30 news). 1820 news saved totally.\n",
            "04-03-2021 23:30:35 - LentaParser - INFO @ https://lenta.ru/news/1999/11/19 processed (37 news). 1857 news saved totally.\n",
            "04-03-2021 23:30:37 - LentaParser - INFO @ https://lenta.ru/news/1999/11/20 processed (9 news). 1866 news saved totally.\n",
            "04-03-2021 23:30:37 - LentaParser - INFO @ News not found at https://lenta.ru/news/1999/11/21.\n",
            "04-03-2021 23:30:37 - LentaParser - INFO @ https://lenta.ru/news/1999/11/21 processed (0 news). 1866 news saved totally.\n",
            "04-03-2021 23:30:40 - LentaParser - INFO @ https://lenta.ru/news/1999/11/22 processed (40 news). 1906 news saved totally.\n",
            "04-03-2021 23:30:42 - LentaParser - INFO @ https://lenta.ru/news/1999/11/23 processed (28 news). 1934 news saved totally.\n",
            "04-03-2021 23:30:46 - LentaParser - INFO @ https://lenta.ru/news/1999/11/24 processed (55 news). 1989 news saved totally.\n",
            "04-03-2021 23:30:49 - LentaParser - INFO @ https://lenta.ru/news/1999/11/25 processed (41 news). 2030 news saved totally.\n",
            "04-03-2021 23:30:54 - LentaParser - INFO @ https://lenta.ru/news/1999/11/26 processed (43 news). 2073 news saved totally.\n",
            "04-03-2021 23:30:56 - LentaParser - INFO @ https://lenta.ru/news/1999/11/27 processed (12 news). 2085 news saved totally.\n",
            "04-03-2021 23:30:56 - LentaParser - INFO @ News not found at https://lenta.ru/news/1999/11/28.\n",
            "04-03-2021 23:30:56 - LentaParser - INFO @ https://lenta.ru/news/1999/11/28 processed (0 news). 2085 news saved totally.\n",
            "04-03-2021 23:30:59 - LentaParser - INFO @ https://lenta.ru/news/1999/11/29 processed (32 news). 2117 news saved totally.\n",
            "04-03-2021 23:31:04 - LentaParser - INFO @ https://lenta.ru/news/1999/11/30 processed (49 news). 2166 news saved totally.\n",
            "04-03-2021 23:31:07 - LentaParser - INFO @ https://lenta.ru/news/1999/12/01 processed (30 news). 2196 news saved totally.\n",
            "04-03-2021 23:31:10 - LentaParser - INFO @ https://lenta.ru/news/1999/12/02 processed (41 news). 2237 news saved totally.\n",
            "04-03-2021 23:31:13 - LentaParser - INFO @ https://lenta.ru/news/1999/12/03 processed (35 news). 2272 news saved totally.\n",
            "04-03-2021 23:31:15 - LentaParser - INFO @ https://lenta.ru/news/1999/12/04 processed (12 news). 2284 news saved totally.\n",
            "04-03-2021 23:31:16 - LentaParser - INFO @ https://lenta.ru/news/1999/12/05 processed (3 news). 2287 news saved totally.\n",
            "04-03-2021 23:31:19 - LentaParser - INFO @ https://lenta.ru/news/1999/12/06 processed (32 news). 2319 news saved totally.\n",
            "04-03-2021 23:31:22 - LentaParser - INFO @ https://lenta.ru/news/1999/12/07 processed (33 news). 2352 news saved totally.\n",
            "04-03-2021 23:31:25 - LentaParser - INFO @ https://lenta.ru/news/1999/12/08 processed (41 news). 2393 news saved totally.\n",
            "04-03-2021 23:31:27 - LentaParser - INFO @ https://lenta.ru/news/1999/12/09 processed (28 news). 2421 news saved totally.\n",
            "04-03-2021 23:31:31 - LentaParser - INFO @ https://lenta.ru/news/1999/12/10 processed (31 news). 2452 news saved totally.\n",
            "04-03-2021 23:31:34 - LentaParser - INFO @ https://lenta.ru/news/1999/12/11 processed (28 news). 2480 news saved totally.\n",
            "04-03-2021 23:31:35 - LentaParser - INFO @ https://lenta.ru/news/1999/12/12 processed (6 news). 2486 news saved totally.\n",
            "04-03-2021 23:31:37 - LentaParser - INFO @ https://lenta.ru/news/1999/12/13 processed (14 news). 2500 news saved totally.\n",
            "04-03-2021 23:31:39 - LentaParser - INFO @ https://lenta.ru/news/1999/12/14 processed (41 news). 2541 news saved totally.\n",
            "04-03-2021 23:31:42 - LentaParser - INFO @ https://lenta.ru/news/1999/12/15 processed (34 news). 2575 news saved totally.\n",
            "04-03-2021 23:31:45 - LentaParser - INFO @ https://lenta.ru/news/1999/12/16 processed (43 news). 2618 news saved totally.\n",
            "04-03-2021 23:31:48 - LentaParser - INFO @ https://lenta.ru/news/1999/12/17 processed (28 news). 2646 news saved totally.\n",
            "04-03-2021 23:31:51 - LentaParser - INFO @ https://lenta.ru/news/1999/12/18 processed (40 news). 2686 news saved totally.\n",
            "04-03-2021 23:31:54 - LentaParser - INFO @ https://lenta.ru/news/1999/12/19 processed (24 news). 2710 news saved totally.\n",
            "04-03-2021 23:31:56 - LentaParser - INFO @ https://lenta.ru/news/1999/12/20 processed (18 news). 2728 news saved totally.\n",
            "04-03-2021 23:32:00 - LentaParser - INFO @ https://lenta.ru/news/1999/12/21 processed (57 news). 2785 news saved totally.\n",
            "04-03-2021 23:32:04 - LentaParser - INFO @ https://lenta.ru/news/1999/12/22 processed (34 news). 2819 news saved totally.\n",
            "04-03-2021 23:32:07 - LentaParser - INFO @ https://lenta.ru/news/1999/12/23 processed (41 news). 2860 news saved totally.\n",
            "04-03-2021 23:32:09 - LentaParser - INFO @ https://lenta.ru/news/1999/12/24 processed (29 news). 2889 news saved totally.\n",
            "04-03-2021 23:32:12 - LentaParser - INFO @ https://lenta.ru/news/1999/12/25 processed (24 news). 2913 news saved totally.\n",
            "04-03-2021 23:32:12 - LentaParser - INFO @ News not found at https://lenta.ru/news/1999/12/26.\n",
            "04-03-2021 23:32:12 - LentaParser - INFO @ https://lenta.ru/news/1999/12/26 processed (0 news). 2913 news saved totally.\n",
            "04-03-2021 23:32:15 - LentaParser - INFO @ https://lenta.ru/news/1999/12/27 processed (27 news). 2940 news saved totally.\n",
            "04-03-2021 23:32:17 - LentaParser - INFO @ https://lenta.ru/news/1999/12/28 processed (41 news). 2981 news saved totally.\n",
            "04-03-2021 23:32:20 - LentaParser - INFO @ https://lenta.ru/news/1999/12/29 processed (36 news). 3017 news saved totally.\n",
            "04-03-2021 23:32:25 - LentaParser - INFO @ https://lenta.ru/news/1999/12/30 processed (39 news). 3056 news saved totally.\n",
            "04-03-2021 23:32:27 - LentaParser - INFO @ https://lenta.ru/news/1999/12/31 processed (23 news). 3079 news saved totally.\n",
            "04-03-2021 23:32:29 - LentaParser - INFO @ https://lenta.ru/news/2000/01/01 processed (2 news). 3081 news saved totally.\n",
            "04-03-2021 23:32:31 - LentaParser - INFO @ https://lenta.ru/news/2000/01/02 processed (8 news). 3089 news saved totally.\n",
            "04-03-2021 23:32:32 - LentaParser - INFO @ https://lenta.ru/news/2000/01/03 processed (10 news). 3099 news saved totally.\n",
            "04-03-2021 23:32:34 - LentaParser - INFO @ https://lenta.ru/news/2000/01/04 processed (8 news). 3107 news saved totally.\n",
            "04-03-2021 23:32:35 - LentaParser - INFO @ https://lenta.ru/news/2000/01/05 processed (11 news). 3118 news saved totally.\n",
            "04-03-2021 23:32:37 - LentaParser - INFO @ https://lenta.ru/news/2000/01/06 processed (15 news). 3133 news saved totally.\n",
            "04-03-2021 23:32:37 - LentaParser - INFO @ News not found at https://lenta.ru/news/2000/01/07.\n",
            "04-03-2021 23:32:37 - LentaParser - INFO @ https://lenta.ru/news/2000/01/07 processed (0 news). 3133 news saved totally.\n",
            "04-03-2021 23:32:38 - LentaParser - INFO @ https://lenta.ru/news/2000/01/08 processed (2 news). 3135 news saved totally.\n",
            "04-03-2021 23:32:39 - LentaParser - INFO @ News not found at https://lenta.ru/news/2000/01/09.\n",
            "04-03-2021 23:32:39 - LentaParser - INFO @ https://lenta.ru/news/2000/01/09 processed (0 news). 3135 news saved totally.\n",
            "04-03-2021 23:32:43 - LentaParser - INFO @ https://lenta.ru/news/2000/01/10 processed (26 news). 3161 news saved totally.\n",
            "04-03-2021 23:32:46 - LentaParser - INFO @ https://lenta.ru/news/2000/01/11 processed (43 news). 3204 news saved totally.\n",
            "04-03-2021 23:32:48 - LentaParser - INFO @ https://lenta.ru/news/2000/01/12 processed (26 news). 3230 news saved totally.\n",
            "04-03-2021 23:32:51 - LentaParser - INFO @ https://lenta.ru/news/2000/01/13 processed (41 news). 3271 news saved totally.\n",
            "04-03-2021 23:32:54 - LentaParser - INFO @ https://lenta.ru/news/2000/01/14 processed (27 news). 3298 news saved totally.\n",
            "04-03-2021 23:32:56 - LentaParser - INFO @ https://lenta.ru/news/2000/01/15 processed (19 news). 3317 news saved totally.\n",
            "04-03-2021 23:32:57 - LentaParser - INFO @ https://lenta.ru/news/2000/01/16 processed (3 news). 3320 news saved totally.\n",
            "04-03-2021 23:32:58 - LentaParser - INFO @ https://lenta.ru/news/2000/01/17 processed (9 news). 3329 news saved totally.\n",
            "04-03-2021 23:33:04 - LentaParser - INFO @ https://lenta.ru/news/2000/01/18 processed (70 news). 3399 news saved totally.\n",
            "04-03-2021 23:33:07 - LentaParser - INFO @ https://lenta.ru/news/2000/01/19 processed (40 news). 3439 news saved totally.\n",
            "04-03-2021 23:33:10 - LentaParser - INFO @ https://lenta.ru/news/2000/01/20 processed (39 news). 3478 news saved totally.\n",
            "04-03-2021 23:33:13 - LentaParser - INFO @ https://lenta.ru/news/2000/01/21 processed (39 news). 3517 news saved totally.\n",
            "04-03-2021 23:33:15 - LentaParser - INFO @ https://lenta.ru/news/2000/01/22 processed (15 news). 3532 news saved totally.\n",
            "04-03-2021 23:33:19 - LentaParser - INFO @ https://lenta.ru/news/2000/01/23 processed (3 news). 3535 news saved totally.\n",
            "04-03-2021 23:33:21 - LentaParser - INFO @ https://lenta.ru/news/2000/01/24 processed (11 news). 3546 news saved totally.\n",
            "04-03-2021 23:33:24 - LentaParser - INFO @ https://lenta.ru/news/2000/01/25 processed (40 news). 3586 news saved totally.\n",
            "04-03-2021 23:33:26 - LentaParser - INFO @ https://lenta.ru/news/2000/01/26 processed (23 news). 3609 news saved totally.\n",
            "04-03-2021 23:33:29 - LentaParser - INFO @ https://lenta.ru/news/2000/01/27 processed (31 news). 3640 news saved totally.\n",
            "04-03-2021 23:33:33 - LentaParser - INFO @ https://lenta.ru/news/2000/01/28 processed (49 news). 3689 news saved totally.\n",
            "04-03-2021 23:33:35 - LentaParser - INFO @ https://lenta.ru/news/2000/01/29 processed (22 news). 3711 news saved totally.\n",
            "04-03-2021 23:33:37 - LentaParser - INFO @ https://lenta.ru/news/2000/01/30 processed (3 news). 3714 news saved totally.\n",
            "04-03-2021 23:33:39 - LentaParser - INFO @ https://lenta.ru/news/2000/01/31 processed (40 news). 3754 news saved totally.\n",
            "04-03-2021 23:33:42 - LentaParser - INFO @ https://lenta.ru/news/2000/02/01 processed (38 news). 3792 news saved totally.\n",
            "04-03-2021 23:33:45 - LentaParser - INFO @ https://lenta.ru/news/2000/02/02 processed (31 news). 3823 news saved totally.\n",
            "04-03-2021 23:33:49 - LentaParser - INFO @ https://lenta.ru/news/2000/02/03 processed (55 news). 3878 news saved totally.\n",
            "04-03-2021 23:33:51 - LentaParser - INFO @ https://lenta.ru/news/2000/02/04 processed (32 news). 3910 news saved totally.\n",
            "04-03-2021 23:33:55 - LentaParser - INFO @ https://lenta.ru/news/2000/02/05 processed (23 news). 3933 news saved totally.\n",
            "04-03-2021 23:33:55 - LentaParser - INFO @ News not found at https://lenta.ru/news/2000/02/06.\n",
            "04-03-2021 23:33:55 - LentaParser - INFO @ https://lenta.ru/news/2000/02/06 processed (0 news). 3933 news saved totally.\n",
            "04-03-2021 23:33:58 - LentaParser - INFO @ https://lenta.ru/news/2000/02/07 processed (23 news). 3956 news saved totally.\n",
            "04-03-2021 23:34:01 - LentaParser - INFO @ https://lenta.ru/news/2000/02/08 processed (35 news). 3991 news saved totally.\n",
            "04-03-2021 23:34:05 - LentaParser - INFO @ https://lenta.ru/news/2000/02/09 processed (45 news). 4036 news saved totally.\n",
            "04-03-2021 23:34:08 - LentaParser - INFO @ https://lenta.ru/news/2000/02/10 processed (37 news). 4073 news saved totally.\n",
            "04-03-2021 23:34:12 - LentaParser - INFO @ https://lenta.ru/news/2000/02/11 processed (48 news). 4121 news saved totally.\n",
            "04-03-2021 23:34:14 - LentaParser - INFO @ https://lenta.ru/news/2000/02/12 processed (24 news). 4145 news saved totally.\n",
            "04-03-2021 23:34:15 - LentaParser - INFO @ News not found at https://lenta.ru/news/2000/02/13.\n",
            "04-03-2021 23:34:15 - LentaParser - INFO @ https://lenta.ru/news/2000/02/13 processed (0 news). 4145 news saved totally.\n",
            "04-03-2021 23:34:17 - LentaParser - INFO @ https://lenta.ru/news/2000/02/14 processed (26 news). 4171 news saved totally.\n",
            "04-03-2021 23:34:20 - LentaParser - INFO @ https://lenta.ru/news/2000/02/15 processed (32 news). 4203 news saved totally.\n",
            "04-03-2021 23:34:26 - LentaParser - INFO @ https://lenta.ru/news/2000/02/16 processed (66 news). 4269 news saved totally.\n",
            "04-03-2021 23:34:29 - LentaParser - INFO @ https://lenta.ru/news/2000/02/17 processed (32 news). 4301 news saved totally.\n",
            "04-03-2021 23:34:34 - LentaParser - INFO @ https://lenta.ru/news/2000/02/18 processed (67 news). 4368 news saved totally.\n",
            "04-03-2021 23:34:36 - LentaParser - INFO @ https://lenta.ru/news/2000/02/19 processed (27 news). 4395 news saved totally.\n",
            "04-03-2021 23:34:38 - LentaParser - INFO @ https://lenta.ru/news/2000/02/20 processed (3 news). 4398 news saved totally.\n",
            "04-03-2021 23:34:40 - LentaParser - INFO @ https://lenta.ru/news/2000/02/21 processed (39 news). 4437 news saved totally.\n",
            "04-03-2021 23:34:44 - LentaParser - INFO @ https://lenta.ru/news/2000/02/22 processed (50 news). 4487 news saved totally.\n",
            "04-03-2021 23:34:48 - LentaParser - INFO @ https://lenta.ru/news/2000/02/23 processed (69 news). 4556 news saved totally.\n",
            "04-03-2021 23:34:50 - LentaParser - INFO @ https://lenta.ru/news/2000/02/24 processed (30 news). 4586 news saved totally.\n",
            "04-03-2021 23:34:54 - LentaParser - INFO @ https://lenta.ru/news/2000/02/25 processed (58 news). 4644 news saved totally.\n",
            "04-03-2021 23:34:57 - LentaParser - INFO @ https://lenta.ru/news/2000/02/26 processed (30 news). 4674 news saved totally.\n",
            "04-03-2021 23:34:58 - LentaParser - INFO @ News not found at https://lenta.ru/news/2000/02/27.\n",
            "04-03-2021 23:34:58 - LentaParser - INFO @ https://lenta.ru/news/2000/02/27 processed (0 news). 4674 news saved totally.\n",
            "04-03-2021 23:35:00 - LentaParser - INFO @ https://lenta.ru/news/2000/02/28 processed (48 news). 4722 news saved totally.\n",
            "04-03-2021 23:35:05 - LentaParser - INFO @ https://lenta.ru/news/2000/02/29 processed (44 news). 4766 news saved totally.\n",
            "04-03-2021 23:35:08 - LentaParser - INFO @ https://lenta.ru/news/2000/03/01 processed (48 news). 4814 news saved totally.\n",
            "04-03-2021 23:35:12 - LentaParser - INFO @ https://lenta.ru/news/2000/03/02 processed (39 news). 4853 news saved totally.\n",
            "04-03-2021 23:35:17 - LentaParser - INFO @ https://lenta.ru/news/2000/03/03 processed (50 news). 4903 news saved totally.\n",
            "04-03-2021 23:35:20 - LentaParser - INFO @ https://lenta.ru/news/2000/03/04 processed (16 news). 4919 news saved totally.\n",
            "04-03-2021 23:35:21 - LentaParser - INFO @ https://lenta.ru/news/2000/03/05 processed (4 news). 4923 news saved totally.\n",
            "04-03-2021 23:35:25 - LentaParser - INFO @ https://lenta.ru/news/2000/03/06 processed (47 news). 4970 news saved totally.\n",
            "04-03-2021 23:35:28 - LentaParser - INFO @ https://lenta.ru/news/2000/03/07 processed (43 news). 5013 news saved totally.\n",
            "04-03-2021 23:35:32 - LentaParser - INFO @ https://lenta.ru/news/2000/03/08 processed (26 news). 5039 news saved totally.\n",
            "04-03-2021 23:35:37 - LentaParser - INFO @ https://lenta.ru/news/2000/03/09 processed (43 news). 5082 news saved totally.\n",
            "04-03-2021 23:35:40 - LentaParser - INFO @ https://lenta.ru/news/2000/03/10 processed (46 news). 5128 news saved totally.\n",
            "04-03-2021 23:35:43 - LentaParser - INFO @ https://lenta.ru/news/2000/03/11 processed (21 news). 5149 news saved totally.\n",
            "04-03-2021 23:35:44 - LentaParser - INFO @ https://lenta.ru/news/2000/03/12 processed (4 news). 5153 news saved totally.\n",
            "04-03-2021 23:35:46 - LentaParser - INFO @ https://lenta.ru/news/2000/03/13 processed (32 news). 5185 news saved totally.\n",
            "04-03-2021 23:35:51 - LentaParser - INFO @ https://lenta.ru/news/2000/03/14 processed (50 news). 5235 news saved totally.\n",
            "04-03-2021 23:35:54 - LentaParser - INFO @ https://lenta.ru/news/2000/03/15 processed (47 news). 5282 news saved totally.\n",
            "04-03-2021 23:35:57 - LentaParser - INFO @ https://lenta.ru/news/2000/03/16 processed (48 news). 5330 news saved totally.\n",
            "04-03-2021 23:36:01 - LentaParser - INFO @ https://lenta.ru/news/2000/03/17 processed (53 news). 5383 news saved totally.\n",
            "04-03-2021 23:36:03 - LentaParser - INFO @ https://lenta.ru/news/2000/03/18 processed (16 news). 5399 news saved totally.\n",
            "04-03-2021 23:36:05 - LentaParser - INFO @ https://lenta.ru/news/2000/03/19 processed (3 news). 5402 news saved totally.\n",
            "04-03-2021 23:36:09 - LentaParser - INFO @ https://lenta.ru/news/2000/03/20 processed (51 news). 5453 news saved totally.\n",
            "04-03-2021 23:36:12 - LentaParser - INFO @ https://lenta.ru/news/2000/03/21 processed (44 news). 5497 news saved totally.\n",
            "04-03-2021 23:36:15 - LentaParser - INFO @ https://lenta.ru/news/2000/03/22 processed (45 news). 5542 news saved totally.\n",
            "04-03-2021 23:36:19 - LentaParser - INFO @ https://lenta.ru/news/2000/03/23 processed (59 news). 5601 news saved totally.\n",
            "04-03-2021 23:36:23 - LentaParser - INFO @ https://lenta.ru/news/2000/03/24 processed (60 news). 5661 news saved totally.\n",
            "04-03-2021 23:36:25 - LentaParser - INFO @ https://lenta.ru/news/2000/03/25 processed (29 news). 5690 news saved totally.\n",
            "04-03-2021 23:36:28 - LentaParser - INFO @ https://lenta.ru/news/2000/03/26 processed (23 news). 5713 news saved totally.\n",
            "04-03-2021 23:36:31 - LentaParser - INFO @ https://lenta.ru/news/2000/03/27 processed (36 news). 5749 news saved totally.\n",
            "04-03-2021 23:36:35 - LentaParser - INFO @ https://lenta.ru/news/2000/03/28 processed (63 news). 5812 news saved totally.\n",
            "04-03-2021 23:36:39 - LentaParser - INFO @ https://lenta.ru/news/2000/03/29 processed (62 news). 5874 news saved totally.\n",
            "04-03-2021 23:36:42 - LentaParser - INFO @ https://lenta.ru/news/2000/03/30 processed (57 news). 5931 news saved totally.\n",
            "04-03-2021 23:36:46 - LentaParser - INFO @ https://lenta.ru/news/2000/03/31 processed (59 news). 5990 news saved totally.\n",
            "04-03-2021 23:36:49 - LentaParser - INFO @ https://lenta.ru/news/2000/04/01 processed (16 news). 6006 news saved totally.\n",
            "04-03-2021 23:36:51 - LentaParser - INFO @ https://lenta.ru/news/2000/04/02 processed (4 news). 6010 news saved totally.\n",
            "04-03-2021 23:36:53 - LentaParser - INFO @ https://lenta.ru/news/2000/04/03 processed (36 news). 6046 news saved totally.\n",
            "04-03-2021 23:36:57 - LentaParser - INFO @ https://lenta.ru/news/2000/04/04 processed (52 news). 6098 news saved totally.\n",
            "04-03-2021 23:37:00 - LentaParser - INFO @ https://lenta.ru/news/2000/04/05 processed (45 news). 6143 news saved totally.\n",
            "04-03-2021 23:37:04 - LentaParser - INFO @ https://lenta.ru/news/2000/04/06 processed (52 news). 6195 news saved totally.\n",
            "04-03-2021 23:37:09 - LentaParser - INFO @ https://lenta.ru/news/2000/04/07 processed (57 news). 6252 news saved totally.\n",
            "04-03-2021 23:37:11 - LentaParser - INFO @ https://lenta.ru/news/2000/04/08 processed (24 news). 6276 news saved totally.\n",
            "04-03-2021 23:37:12 - LentaParser - INFO @ https://lenta.ru/news/2000/04/09 processed (2 news). 6278 news saved totally.\n",
            "04-03-2021 23:37:16 - LentaParser - INFO @ https://lenta.ru/news/2000/04/10 processed (52 news). 6330 news saved totally.\n",
            "04-03-2021 23:37:19 - LentaParser - INFO @ https://lenta.ru/news/2000/04/11 processed (57 news). 6387 news saved totally.\n",
            "04-03-2021 23:37:23 - LentaParser - INFO @ https://lenta.ru/news/2000/04/12 processed (65 news). 6452 news saved totally.\n",
            "04-03-2021 23:37:28 - LentaParser - INFO @ https://lenta.ru/news/2000/04/13 processed (61 news). 6513 news saved totally.\n",
            "04-03-2021 23:37:32 - LentaParser - INFO @ https://lenta.ru/news/2000/04/14 processed (56 news). 6569 news saved totally.\n"
          ],
          "name": "stdout"
        }
      ]
    },
    {
      "cell_type": "code",
      "metadata": {
        "id": "jCIDrFsuylSj"
      },
      "source": [
        "data.shape"
      ],
      "execution_count": null,
      "outputs": []
    },
    {
      "cell_type": "code",
      "metadata": {
        "id": "koP7z-m3yUVa",
        "outputId": "ca9f95b8-24a0-434d-eb62-2cdc1c68fb8e",
        "colab": {
          "base_uri": "https://localhost:8080/",
          "height": 182
        }
      },
      "source": [
        "data = data[:100000]\r\n",
        "data.head(5)"
      ],
      "execution_count": 6,
      "outputs": [
        {
          "output_type": "error",
          "ename": "NameError",
          "evalue": "ignored",
          "traceback": [
            "\u001b[0;31m---------------------------------------------------------------------------\u001b[0m",
            "\u001b[0;31mNameError\u001b[0m                                 Traceback (most recent call last)",
            "\u001b[0;32m<ipython-input-6-5e7097f870a3>\u001b[0m in \u001b[0;36m<module>\u001b[0;34m()\u001b[0m\n\u001b[0;32m----> 1\u001b[0;31m \u001b[0mdata\u001b[0m \u001b[0;34m=\u001b[0m \u001b[0mdata\u001b[0m\u001b[0;34m[\u001b[0m\u001b[0;34m:\u001b[0m\u001b[0;36m100000\u001b[0m\u001b[0;34m]\u001b[0m\u001b[0;34m\u001b[0m\u001b[0;34m\u001b[0m\u001b[0m\n\u001b[0m\u001b[1;32m      2\u001b[0m \u001b[0mdata\u001b[0m\u001b[0;34m.\u001b[0m\u001b[0mhead\u001b[0m\u001b[0;34m(\u001b[0m\u001b[0;36m5\u001b[0m\u001b[0;34m)\u001b[0m\u001b[0;34m\u001b[0m\u001b[0;34m\u001b[0m\u001b[0m\n",
            "\u001b[0;31mNameError\u001b[0m: name 'data' is not defined"
          ]
        }
      ]
    }
  ]
}