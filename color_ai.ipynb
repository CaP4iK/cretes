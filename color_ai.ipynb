{
  "nbformat": 4,
  "nbformat_minor": 0,
  "metadata": {
    "colab": {
      "name": "color_ai.ipynb",
      "provenance": [],
      "mount_file_id": "https://github.com/CaP4iK/cretes/blob/main/color_ai.ipynb",
      "authorship_tag": "ABX9TyPkNva5KQ0U+jOs/fNBEu68",
      "include_colab_link": true
    },
    "kernelspec": {
      "name": "python3",
      "display_name": "Python 3"
    },
    "accelerator": "TPU",
    "widgets": {
      "application/vnd.jupyter.widget-state+json": {
        "2587ec9788a14bbc902394cdb791754f": {
          "model_module": "@jupyter-widgets/controls",
          "model_name": "HBoxModel",
          "state": {
            "_view_name": "HBoxView",
            "_dom_classes": [],
            "_model_name": "HBoxModel",
            "_view_module": "@jupyter-widgets/controls",
            "_model_module_version": "1.5.0",
            "_view_count": null,
            "_view_module_version": "1.5.0",
            "box_style": "",
            "layout": "IPY_MODEL_ce56b61947204eca8b7e1164b62e3a3d",
            "_model_module": "@jupyter-widgets/controls",
            "children": [
              "IPY_MODEL_7faaff79eed3440796ea9919bc24f101",
              "IPY_MODEL_48d43998ec464a75a5d462733d4d8fc7"
            ]
          }
        },
        "ce56b61947204eca8b7e1164b62e3a3d": {
          "model_module": "@jupyter-widgets/base",
          "model_name": "LayoutModel",
          "state": {
            "_view_name": "LayoutView",
            "grid_template_rows": null,
            "right": null,
            "justify_content": null,
            "_view_module": "@jupyter-widgets/base",
            "overflow": null,
            "_model_module_version": "1.2.0",
            "_view_count": null,
            "flex_flow": null,
            "width": null,
            "min_width": null,
            "border": null,
            "align_items": null,
            "bottom": null,
            "_model_module": "@jupyter-widgets/base",
            "top": null,
            "grid_column": null,
            "overflow_y": null,
            "overflow_x": null,
            "grid_auto_flow": null,
            "grid_area": null,
            "grid_template_columns": null,
            "flex": null,
            "_model_name": "LayoutModel",
            "justify_items": null,
            "grid_row": null,
            "max_height": null,
            "align_content": null,
            "visibility": null,
            "align_self": null,
            "height": null,
            "min_height": null,
            "padding": null,
            "grid_auto_rows": null,
            "grid_gap": null,
            "max_width": null,
            "order": null,
            "_view_module_version": "1.2.0",
            "grid_template_areas": null,
            "object_position": null,
            "object_fit": null,
            "grid_auto_columns": null,
            "margin": null,
            "display": null,
            "left": null
          }
        },
        "7faaff79eed3440796ea9919bc24f101": {
          "model_module": "@jupyter-widgets/controls",
          "model_name": "FloatProgressModel",
          "state": {
            "_view_name": "ProgressView",
            "style": "IPY_MODEL_e87195dd53334a069cbdfd0ced08a87c",
            "_dom_classes": [],
            "description": "100%",
            "_model_name": "FloatProgressModel",
            "bar_style": "success",
            "max": 5,
            "_view_module": "@jupyter-widgets/controls",
            "_model_module_version": "1.5.0",
            "value": 5,
            "_view_count": null,
            "_view_module_version": "1.5.0",
            "orientation": "horizontal",
            "min": 0,
            "description_tooltip": null,
            "_model_module": "@jupyter-widgets/controls",
            "layout": "IPY_MODEL_c62147b47b794264828285493bce1468"
          }
        },
        "48d43998ec464a75a5d462733d4d8fc7": {
          "model_module": "@jupyter-widgets/controls",
          "model_name": "HTMLModel",
          "state": {
            "_view_name": "HTMLView",
            "style": "IPY_MODEL_5d937c910014467f91065894a8f0e681",
            "_dom_classes": [],
            "description": "",
            "_model_name": "HTMLModel",
            "placeholder": "​",
            "_view_module": "@jupyter-widgets/controls",
            "_model_module_version": "1.5.0",
            "value": " 5/5 [00:00&lt;00:00, 76.59it/s]",
            "_view_count": null,
            "_view_module_version": "1.5.0",
            "description_tooltip": null,
            "_model_module": "@jupyter-widgets/controls",
            "layout": "IPY_MODEL_6dc2e578536d49ef95b3d0e6f5bf8a87"
          }
        },
        "e87195dd53334a069cbdfd0ced08a87c": {
          "model_module": "@jupyter-widgets/controls",
          "model_name": "ProgressStyleModel",
          "state": {
            "_view_name": "StyleView",
            "_model_name": "ProgressStyleModel",
            "description_width": "initial",
            "_view_module": "@jupyter-widgets/base",
            "_model_module_version": "1.5.0",
            "_view_count": null,
            "_view_module_version": "1.2.0",
            "bar_color": null,
            "_model_module": "@jupyter-widgets/controls"
          }
        },
        "c62147b47b794264828285493bce1468": {
          "model_module": "@jupyter-widgets/base",
          "model_name": "LayoutModel",
          "state": {
            "_view_name": "LayoutView",
            "grid_template_rows": null,
            "right": null,
            "justify_content": null,
            "_view_module": "@jupyter-widgets/base",
            "overflow": null,
            "_model_module_version": "1.2.0",
            "_view_count": null,
            "flex_flow": null,
            "width": null,
            "min_width": null,
            "border": null,
            "align_items": null,
            "bottom": null,
            "_model_module": "@jupyter-widgets/base",
            "top": null,
            "grid_column": null,
            "overflow_y": null,
            "overflow_x": null,
            "grid_auto_flow": null,
            "grid_area": null,
            "grid_template_columns": null,
            "flex": null,
            "_model_name": "LayoutModel",
            "justify_items": null,
            "grid_row": null,
            "max_height": null,
            "align_content": null,
            "visibility": null,
            "align_self": null,
            "height": null,
            "min_height": null,
            "padding": null,
            "grid_auto_rows": null,
            "grid_gap": null,
            "max_width": null,
            "order": null,
            "_view_module_version": "1.2.0",
            "grid_template_areas": null,
            "object_position": null,
            "object_fit": null,
            "grid_auto_columns": null,
            "margin": null,
            "display": null,
            "left": null
          }
        },
        "5d937c910014467f91065894a8f0e681": {
          "model_module": "@jupyter-widgets/controls",
          "model_name": "DescriptionStyleModel",
          "state": {
            "_view_name": "StyleView",
            "_model_name": "DescriptionStyleModel",
            "description_width": "",
            "_view_module": "@jupyter-widgets/base",
            "_model_module_version": "1.5.0",
            "_view_count": null,
            "_view_module_version": "1.2.0",
            "_model_module": "@jupyter-widgets/controls"
          }
        },
        "6dc2e578536d49ef95b3d0e6f5bf8a87": {
          "model_module": "@jupyter-widgets/base",
          "model_name": "LayoutModel",
          "state": {
            "_view_name": "LayoutView",
            "grid_template_rows": null,
            "right": null,
            "justify_content": null,
            "_view_module": "@jupyter-widgets/base",
            "overflow": null,
            "_model_module_version": "1.2.0",
            "_view_count": null,
            "flex_flow": null,
            "width": null,
            "min_width": null,
            "border": null,
            "align_items": null,
            "bottom": null,
            "_model_module": "@jupyter-widgets/base",
            "top": null,
            "grid_column": null,
            "overflow_y": null,
            "overflow_x": null,
            "grid_auto_flow": null,
            "grid_area": null,
            "grid_template_columns": null,
            "flex": null,
            "_model_name": "LayoutModel",
            "justify_items": null,
            "grid_row": null,
            "max_height": null,
            "align_content": null,
            "visibility": null,
            "align_self": null,
            "height": null,
            "min_height": null,
            "padding": null,
            "grid_auto_rows": null,
            "grid_gap": null,
            "max_width": null,
            "order": null,
            "_view_module_version": "1.2.0",
            "grid_template_areas": null,
            "object_position": null,
            "object_fit": null,
            "grid_auto_columns": null,
            "margin": null,
            "display": null,
            "left": null
          }
        }
      }
    }
  },
  "cells": [
    {
      "cell_type": "markdown",
      "metadata": {
        "id": "view-in-github",
        "colab_type": "text"
      },
      "source": [
        "<a href=\"https://colab.research.google.com/github/CaP4iK/cretes/blob/main/color_ai.ipynb\" target=\"_parent\"><img src=\"https://colab.research.google.com/assets/colab-badge.svg\" alt=\"Open In Colab\"/></a>"
      ]
    },
    {
      "cell_type": "code",
      "metadata": {
        "colab": {
          "base_uri": "https://localhost:8080/",
          "height": 35
        },
        "id": "8GeuUOIUm2KH",
        "outputId": "b70a1b5b-d0bc-434d-9f24-78fbc09e3956"
      },
      "source": [
        "#импортируем в нашу программку библиотеку TnsorFlow с сокращением имени до tf :\r\n",
        "import tensorflow as tf\r\n",
        "# запускаем из библиотеки tf в экземпляре класса test метод gpu_device_name() тестируя присутствие устройства gpu (GPU):\r\n",
        "tf.test.gpu_device_name()"
      ],
      "execution_count": 7,
      "outputs": [
        {
          "output_type": "execute_result",
          "data": {
            "application/vnd.google.colaboratory.intrinsic+json": {
              "type": "string"
            },
            "text/plain": [
              "''"
            ]
          },
          "metadata": {
            "tags": []
          },
          "execution_count": 7
        }
      ]
    },
    {
      "cell_type": "code",
      "metadata": {
        "id": "F9Mqqm7NsT4Q",
        "colab": {
          "base_uri": "https://localhost:8080/"
        },
        "outputId": "40eb7980-498b-4ad3-b272-f1bbdca890df"
      },
      "source": [
        "!ls \"/content/drive/MyDrive/Colab Notebooks/\" "
      ],
      "execution_count": 3,
      "outputs": [
        {
          "output_type": "stream",
          "text": [
            " color_ai.ipynb\n",
            " download_lenta.py\n",
            " Lenta.Ru-News-Dataset-master.zip\n",
            " Untitled0.ipynb\n",
            " Untitled1.ipynb\n",
            "'Копия блокнота \"color_ai.ipynb\"'\n",
            "'Копия блокнота \"fashion_mnist_prevent_overfitting.ipynb\"'\n",
            "'Копия блокнота \"multiclass.ipynb\"'\n"
          ],
          "name": "stdout"
        }
      ]
    },
    {
      "cell_type": "code",
      "metadata": {
        "id": "CYbt2QAs7VhB",
        "outputId": "f3b02497-7fac-44f4-b606-717c58d4ffc5",
        "colab": {
          "base_uri": "https://localhost:8080/"
        }
      },
      "source": [
        "!unzip \"/content/drive/MyDrive/Colab Notebooks/Lenta.Ru-News-Dataset-master.zip\" -d lenta-text"
      ],
      "execution_count": 6,
      "outputs": [
        {
          "output_type": "stream",
          "text": [
            "Archive:  /content/drive/MyDrive/Colab Notebooks/Lenta.Ru-News-Dataset-master.zip\n",
            "600b08aac69113d8bbe8f45c3dc9d733668368c1\n",
            "   creating: lenta-text/Lenta.Ru-News-Dataset-master/\n",
            " extracting: lenta-text/Lenta.Ru-News-Dataset-master/.gitignore  \n",
            "  inflating: lenta-text/Lenta.Ru-News-Dataset-master/README.md  \n",
            "  inflating: lenta-text/Lenta.Ru-News-Dataset-master/download_lenta.py  \n",
            " extracting: lenta-text/Lenta.Ru-News-Dataset-master/requirements.txt  \n"
          ],
          "name": "stdout"
        }
      ]
    },
    {
      "cell_type": "code",
      "metadata": {
        "id": "f4YEm9NZtrqh",
        "colab": {
          "base_uri": "https://localhost:8080/"
        },
        "outputId": "418680e1-93fb-41fd-83ea-03b03cdbac94"
      },
      "source": [
        "!pip install aiohttp"
      ],
      "execution_count": 8,
      "outputs": [
        {
          "output_type": "stream",
          "text": [
            "Collecting aiohttp\n",
            "\u001b[?25l  Downloading https://files.pythonhosted.org/packages/5b/a6/d36302eba284f4f427dc288f6b3ecd7f89d739cfca206b80311d3158f6d9/aiohttp-3.7.4-cp37-cp37m-manylinux2014_x86_64.whl (1.3MB)\n",
            "\u001b[K     |████████████████████████████████| 1.3MB 6.2MB/s \n",
            "\u001b[?25hRequirement already satisfied: chardet<4.0,>=2.0 in /usr/local/lib/python3.7/dist-packages (from aiohttp) (3.0.4)\n",
            "Requirement already satisfied: typing-extensions>=3.6.5 in /usr/local/lib/python3.7/dist-packages (from aiohttp) (3.7.4.3)\n",
            "Collecting yarl<2.0,>=1.0\n",
            "\u001b[?25l  Downloading https://files.pythonhosted.org/packages/f1/62/046834c5fc998c88ab2ef722f5d42122230a632212c8afa76418324f53ff/yarl-1.6.3-cp37-cp37m-manylinux2014_x86_64.whl (294kB)\n",
            "\u001b[K     |████████████████████████████████| 296kB 29.6MB/s \n",
            "\u001b[?25hCollecting async-timeout<4.0,>=3.0\n",
            "  Downloading https://files.pythonhosted.org/packages/e1/1e/5a4441be21b0726c4464f3f23c8b19628372f606755a9d2e46c187e65ec4/async_timeout-3.0.1-py3-none-any.whl\n",
            "Requirement already satisfied: attrs>=17.3.0 in /usr/local/lib/python3.7/dist-packages (from aiohttp) (20.3.0)\n",
            "Collecting multidict<7.0,>=4.5\n",
            "\u001b[?25l  Downloading https://files.pythonhosted.org/packages/7c/a6/4123b8165acbe773d1a8dc8e3f0d1edea16d29f7de018eda769abb56bd30/multidict-5.1.0-cp37-cp37m-manylinux2014_x86_64.whl (142kB)\n",
            "\u001b[K     |████████████████████████████████| 143kB 29.7MB/s \n",
            "\u001b[?25hRequirement already satisfied: idna>=2.0 in /usr/local/lib/python3.7/dist-packages (from yarl<2.0,>=1.0->aiohttp) (2.10)\n",
            "Installing collected packages: multidict, yarl, async-timeout, aiohttp\n",
            "Successfully installed aiohttp-3.7.4 async-timeout-3.0.1 multidict-5.1.0 yarl-1.6.3\n"
          ],
          "name": "stdout"
        }
      ]
    },
    {
      "cell_type": "code",
      "metadata": {
        "id": "SGwlXs77-EVz",
        "outputId": "e011f2eb-0dd8-40cd-cf88-2d1e7af176ad",
        "colab": {
          "base_uri": "https://localhost:8080/"
        }
      },
      "source": [
        "%tensorflow_version 2.x\r\n",
        "import tensorflow as tf\r\n",
        "print(\"Tensorflow version \" + tf.__version__)\r\n",
        "\r\n",
        "try:\r\n",
        "  tpu = tf.distribute.cluster_resolver.TPUClusterResolver()  # TPU detection\r\n",
        "  print('Running on TPU ', tpu.cluster_spec().as_dict()['worker'])\r\n",
        "except ValueError:\r\n",
        "  raise BaseException('ERROR: Not connected to a TPU runtime; please see the previous cell in this notebook for instructions!')\r\n",
        "\r\n",
        "tf.config.experimental_connect_to_cluster(tpu)\r\n",
        "tf.tpu.experimental.initialize_tpu_system(tpu)\r\n",
        "tpu_strategy = tf.distribute.experimental.TPUStrategy(tpu)"
      ],
      "execution_count": 10,
      "outputs": [
        {
          "output_type": "stream",
          "text": [
            "Tensorflow version 2.4.1\n",
            "Running on TPU  ['10.48.213.34:8470']\n",
            "INFO:tensorflow:Initializing the TPU system: grpc://10.48.213.34:8470\n"
          ],
          "name": "stdout"
        },
        {
          "output_type": "stream",
          "text": [
            "INFO:tensorflow:Initializing the TPU system: grpc://10.48.213.34:8470\n"
          ],
          "name": "stderr"
        },
        {
          "output_type": "stream",
          "text": [
            "INFO:tensorflow:Clearing out eager caches\n"
          ],
          "name": "stdout"
        },
        {
          "output_type": "stream",
          "text": [
            "INFO:tensorflow:Clearing out eager caches\n"
          ],
          "name": "stderr"
        },
        {
          "output_type": "stream",
          "text": [
            "INFO:tensorflow:Finished initializing TPU system.\n"
          ],
          "name": "stdout"
        },
        {
          "output_type": "stream",
          "text": [
            "INFO:tensorflow:Finished initializing TPU system.\n",
            "WARNING:absl:`tf.distribute.experimental.TPUStrategy` is deprecated, please use  the non experimental symbol `tf.distribute.TPUStrategy` instead.\n"
          ],
          "name": "stderr"
        },
        {
          "output_type": "stream",
          "text": [
            "INFO:tensorflow:Found TPU system:\n"
          ],
          "name": "stdout"
        },
        {
          "output_type": "stream",
          "text": [
            "INFO:tensorflow:Found TPU system:\n"
          ],
          "name": "stderr"
        },
        {
          "output_type": "stream",
          "text": [
            "INFO:tensorflow:*** Num TPU Cores: 8\n"
          ],
          "name": "stdout"
        },
        {
          "output_type": "stream",
          "text": [
            "INFO:tensorflow:*** Num TPU Cores: 8\n"
          ],
          "name": "stderr"
        },
        {
          "output_type": "stream",
          "text": [
            "INFO:tensorflow:*** Num TPU Workers: 1\n"
          ],
          "name": "stdout"
        },
        {
          "output_type": "stream",
          "text": [
            "INFO:tensorflow:*** Num TPU Workers: 1\n"
          ],
          "name": "stderr"
        },
        {
          "output_type": "stream",
          "text": [
            "INFO:tensorflow:*** Num TPU Cores Per Worker: 8\n"
          ],
          "name": "stdout"
        },
        {
          "output_type": "stream",
          "text": [
            "INFO:tensorflow:*** Num TPU Cores Per Worker: 8\n"
          ],
          "name": "stderr"
        },
        {
          "output_type": "stream",
          "text": [
            "INFO:tensorflow:*** Available Device: _DeviceAttributes(/job:localhost/replica:0/task:0/device:CPU:0, CPU, 0, 0)\n"
          ],
          "name": "stdout"
        },
        {
          "output_type": "stream",
          "text": [
            "INFO:tensorflow:*** Available Device: _DeviceAttributes(/job:localhost/replica:0/task:0/device:CPU:0, CPU, 0, 0)\n"
          ],
          "name": "stderr"
        },
        {
          "output_type": "stream",
          "text": [
            "INFO:tensorflow:*** Available Device: _DeviceAttributes(/job:worker/replica:0/task:0/device:CPU:0, CPU, 0, 0)\n"
          ],
          "name": "stdout"
        },
        {
          "output_type": "stream",
          "text": [
            "INFO:tensorflow:*** Available Device: _DeviceAttributes(/job:worker/replica:0/task:0/device:CPU:0, CPU, 0, 0)\n"
          ],
          "name": "stderr"
        },
        {
          "output_type": "stream",
          "text": [
            "INFO:tensorflow:*** Available Device: _DeviceAttributes(/job:worker/replica:0/task:0/device:TPU:0, TPU, 0, 0)\n"
          ],
          "name": "stdout"
        },
        {
          "output_type": "stream",
          "text": [
            "INFO:tensorflow:*** Available Device: _DeviceAttributes(/job:worker/replica:0/task:0/device:TPU:0, TPU, 0, 0)\n"
          ],
          "name": "stderr"
        },
        {
          "output_type": "stream",
          "text": [
            "INFO:tensorflow:*** Available Device: _DeviceAttributes(/job:worker/replica:0/task:0/device:TPU:1, TPU, 0, 0)\n"
          ],
          "name": "stdout"
        },
        {
          "output_type": "stream",
          "text": [
            "INFO:tensorflow:*** Available Device: _DeviceAttributes(/job:worker/replica:0/task:0/device:TPU:1, TPU, 0, 0)\n"
          ],
          "name": "stderr"
        },
        {
          "output_type": "stream",
          "text": [
            "INFO:tensorflow:*** Available Device: _DeviceAttributes(/job:worker/replica:0/task:0/device:TPU:2, TPU, 0, 0)\n"
          ],
          "name": "stdout"
        },
        {
          "output_type": "stream",
          "text": [
            "INFO:tensorflow:*** Available Device: _DeviceAttributes(/job:worker/replica:0/task:0/device:TPU:2, TPU, 0, 0)\n"
          ],
          "name": "stderr"
        },
        {
          "output_type": "stream",
          "text": [
            "INFO:tensorflow:*** Available Device: _DeviceAttributes(/job:worker/replica:0/task:0/device:TPU:3, TPU, 0, 0)\n"
          ],
          "name": "stdout"
        },
        {
          "output_type": "stream",
          "text": [
            "INFO:tensorflow:*** Available Device: _DeviceAttributes(/job:worker/replica:0/task:0/device:TPU:3, TPU, 0, 0)\n"
          ],
          "name": "stderr"
        },
        {
          "output_type": "stream",
          "text": [
            "INFO:tensorflow:*** Available Device: _DeviceAttributes(/job:worker/replica:0/task:0/device:TPU:4, TPU, 0, 0)\n"
          ],
          "name": "stdout"
        },
        {
          "output_type": "stream",
          "text": [
            "INFO:tensorflow:*** Available Device: _DeviceAttributes(/job:worker/replica:0/task:0/device:TPU:4, TPU, 0, 0)\n"
          ],
          "name": "stderr"
        },
        {
          "output_type": "stream",
          "text": [
            "INFO:tensorflow:*** Available Device: _DeviceAttributes(/job:worker/replica:0/task:0/device:TPU:5, TPU, 0, 0)\n"
          ],
          "name": "stdout"
        },
        {
          "output_type": "stream",
          "text": [
            "INFO:tensorflow:*** Available Device: _DeviceAttributes(/job:worker/replica:0/task:0/device:TPU:5, TPU, 0, 0)\n"
          ],
          "name": "stderr"
        },
        {
          "output_type": "stream",
          "text": [
            "INFO:tensorflow:*** Available Device: _DeviceAttributes(/job:worker/replica:0/task:0/device:TPU:6, TPU, 0, 0)\n"
          ],
          "name": "stdout"
        },
        {
          "output_type": "stream",
          "text": [
            "INFO:tensorflow:*** Available Device: _DeviceAttributes(/job:worker/replica:0/task:0/device:TPU:6, TPU, 0, 0)\n"
          ],
          "name": "stderr"
        },
        {
          "output_type": "stream",
          "text": [
            "INFO:tensorflow:*** Available Device: _DeviceAttributes(/job:worker/replica:0/task:0/device:TPU:7, TPU, 0, 0)\n"
          ],
          "name": "stdout"
        },
        {
          "output_type": "stream",
          "text": [
            "INFO:tensorflow:*** Available Device: _DeviceAttributes(/job:worker/replica:0/task:0/device:TPU:7, TPU, 0, 0)\n"
          ],
          "name": "stderr"
        },
        {
          "output_type": "stream",
          "text": [
            "INFO:tensorflow:*** Available Device: _DeviceAttributes(/job:worker/replica:0/task:0/device:TPU_SYSTEM:0, TPU_SYSTEM, 0, 0)\n"
          ],
          "name": "stdout"
        },
        {
          "output_type": "stream",
          "text": [
            "INFO:tensorflow:*** Available Device: _DeviceAttributes(/job:worker/replica:0/task:0/device:TPU_SYSTEM:0, TPU_SYSTEM, 0, 0)\n"
          ],
          "name": "stderr"
        },
        {
          "output_type": "stream",
          "text": [
            "INFO:tensorflow:*** Available Device: _DeviceAttributes(/job:worker/replica:0/task:0/device:XLA_CPU:0, XLA_CPU, 0, 0)\n"
          ],
          "name": "stdout"
        },
        {
          "output_type": "stream",
          "text": [
            "INFO:tensorflow:*** Available Device: _DeviceAttributes(/job:worker/replica:0/task:0/device:XLA_CPU:0, XLA_CPU, 0, 0)\n"
          ],
          "name": "stderr"
        }
      ]
    },
    {
      "cell_type": "code",
      "metadata": {
        "id": "cFQeuekusax8",
        "colab": {
          "base_uri": "https://localhost:8080/"
        },
        "outputId": "79224163-c573-435c-b6d6-3cfc7421dada"
      },
      "source": [
        "!python3 \"/content/drive/My Drive/Colab Notebooks/download_lenta.py\""
      ],
      "execution_count": 11,
      "outputs": [
        {
          "output_type": "stream",
          "text": [
            "05-03-2021 04:56:39 - asyncio - DEBUG @ Using selector: EpollSelector\n",
            "05-03-2021 04:56:58 - LentaParser - INFO @ https://lenta.ru/news/2019/08/30 processed (235 news). 235 news saved totally.\n",
            "05-03-2021 04:57:05 - LentaParser - INFO @ https://lenta.ru/news/2019/08/31 processed (92 news). 327 news saved totally.\n",
            "05-03-2021 04:57:11 - LentaParser - INFO @ https://lenta.ru/news/2019/09/01 processed (91 news). 418 news saved totally.\n",
            "05-03-2021 04:57:25 - LentaParser - INFO @ https://lenta.ru/news/2019/09/02 processed (256 news). 674 news saved totally.\n",
            "05-03-2021 04:57:39 - LentaParser - INFO @ https://lenta.ru/news/2019/09/03 processed (231 news). 905 news saved totally.\n",
            "05-03-2021 04:57:53 - LentaParser - INFO @ https://lenta.ru/news/2019/09/04 processed (254 news). 1159 news saved totally.\n",
            "05-03-2021 04:58:09 - LentaParser - INFO @ https://lenta.ru/news/2019/09/05 processed (261 news). 1420 news saved totally.\n",
            "05-03-2021 04:58:23 - LentaParser - INFO @ https://lenta.ru/news/2019/09/06 processed (229 news). 1649 news saved totally.\n",
            "05-03-2021 04:58:31 - LentaParser - INFO @ https://lenta.ru/news/2019/09/07 processed (84 news). 1733 news saved totally.\n",
            "05-03-2021 04:58:40 - LentaParser - INFO @ https://lenta.ru/news/2019/09/08 processed (122 news). 1855 news saved totally.\n",
            "05-03-2021 04:58:54 - LentaParser - INFO @ https://lenta.ru/news/2019/09/09 processed (229 news). 2084 news saved totally.\n",
            "05-03-2021 04:59:09 - LentaParser - INFO @ https://lenta.ru/news/2019/09/10 processed (256 news). 2340 news saved totally.\n",
            "05-03-2021 04:59:22 - LentaParser - INFO @ https://lenta.ru/news/2019/09/11 processed (222 news). 2562 news saved totally.\n",
            "05-03-2021 04:59:39 - LentaParser - INFO @ https://lenta.ru/news/2019/09/12 processed (247 news). 2809 news saved totally.\n",
            "05-03-2021 04:59:55 - LentaParser - INFO @ https://lenta.ru/news/2019/09/13 processed (248 news). 3057 news saved totally.\n",
            "05-03-2021 05:00:04 - LentaParser - INFO @ https://lenta.ru/news/2019/09/14 processed (91 news). 3148 news saved totally.\n",
            "05-03-2021 05:00:11 - LentaParser - INFO @ https://lenta.ru/news/2019/09/15 processed (90 news). 3238 news saved totally.\n",
            "05-03-2021 05:00:26 - LentaParser - INFO @ https://lenta.ru/news/2019/09/16 processed (235 news). 3473 news saved totally.\n",
            "05-03-2021 05:00:42 - LentaParser - INFO @ https://lenta.ru/news/2019/09/17 processed (240 news). 3713 news saved totally.\n",
            "05-03-2021 05:00:58 - LentaParser - INFO @ https://lenta.ru/news/2019/09/18 processed (257 news). 3970 news saved totally.\n",
            "05-03-2021 05:01:15 - LentaParser - INFO @ https://lenta.ru/news/2019/09/19 processed (255 news). 4225 news saved totally.\n",
            "05-03-2021 05:01:30 - LentaParser - INFO @ https://lenta.ru/news/2019/09/20 processed (236 news). 4461 news saved totally.\n",
            "05-03-2021 05:01:38 - LentaParser - INFO @ https://lenta.ru/news/2019/09/21 processed (89 news). 4550 news saved totally.\n",
            "05-03-2021 05:01:44 - LentaParser - INFO @ https://lenta.ru/news/2019/09/22 processed (90 news). 4640 news saved totally.\n",
            "05-03-2021 05:02:01 - LentaParser - INFO @ https://lenta.ru/news/2019/09/23 processed (233 news). 4873 news saved totally.\n",
            "05-03-2021 05:02:17 - LentaParser - INFO @ https://lenta.ru/news/2019/09/24 processed (258 news). 5131 news saved totally.\n",
            "05-03-2021 05:02:34 - LentaParser - INFO @ https://lenta.ru/news/2019/09/25 processed (256 news). 5387 news saved totally.\n",
            "05-03-2021 05:02:51 - LentaParser - INFO @ https://lenta.ru/news/2019/09/26 processed (243 news). 5630 news saved totally.\n",
            "05-03-2021 05:03:06 - LentaParser - INFO @ https://lenta.ru/news/2019/09/27 processed (219 news). 5849 news saved totally.\n",
            "05-03-2021 05:03:14 - LentaParser - INFO @ https://lenta.ru/news/2019/09/28 processed (93 news). 5942 news saved totally.\n",
            "05-03-2021 05:03:21 - LentaParser - INFO @ https://lenta.ru/news/2019/09/29 processed (90 news). 6032 news saved totally.\n",
            "05-03-2021 05:03:35 - LentaParser - INFO @ https://lenta.ru/news/2019/09/30 processed (223 news). 6255 news saved totally.\n",
            "05-03-2021 05:03:52 - LentaParser - INFO @ https://lenta.ru/news/2019/10/01 processed (230 news). 6485 news saved totally.\n",
            "05-03-2021 05:04:08 - LentaParser - INFO @ https://lenta.ru/news/2019/10/02 processed (240 news). 6725 news saved totally.\n",
            "05-03-2021 05:04:26 - LentaParser - INFO @ https://lenta.ru/news/2019/10/03 processed (251 news). 6976 news saved totally.\n",
            "05-03-2021 05:04:42 - LentaParser - INFO @ https://lenta.ru/news/2019/10/04 processed (218 news). 7194 news saved totally.\n",
            "05-03-2021 05:04:49 - LentaParser - INFO @ https://lenta.ru/news/2019/10/05 processed (88 news). 7282 news saved totally.\n",
            "05-03-2021 05:04:55 - LentaParser - INFO @ https://lenta.ru/news/2019/10/06 processed (98 news). 7380 news saved totally.\n",
            "05-03-2021 05:05:11 - LentaParser - INFO @ https://lenta.ru/news/2019/10/07 processed (223 news). 7603 news saved totally.\n",
            "05-03-2021 05:05:29 - LentaParser - INFO @ https://lenta.ru/news/2019/10/08 processed (259 news). 7862 news saved totally.\n",
            "05-03-2021 05:05:49 - LentaParser - INFO @ https://lenta.ru/news/2019/10/09 processed (272 news). 8134 news saved totally.\n",
            "05-03-2021 05:06:07 - LentaParser - INFO @ https://lenta.ru/news/2019/10/10 processed (250 news). 8384 news saved totally.\n",
            "05-03-2021 05:06:23 - LentaParser - INFO @ https://lenta.ru/news/2019/10/11 processed (237 news). 8621 news saved totally.\n",
            "05-03-2021 05:06:31 - LentaParser - INFO @ https://lenta.ru/news/2019/10/12 processed (87 news). 8708 news saved totally.\n",
            "05-03-2021 05:06:38 - LentaParser - INFO @ https://lenta.ru/news/2019/10/13 processed (83 news). 8791 news saved totally.\n",
            "05-03-2021 05:06:53 - LentaParser - INFO @ https://lenta.ru/news/2019/10/14 processed (254 news). 9045 news saved totally.\n",
            "05-03-2021 05:07:10 - LentaParser - INFO @ https://lenta.ru/news/2019/10/15 processed (266 news). 9311 news saved totally.\n",
            "05-03-2021 05:07:28 - LentaParser - INFO @ https://lenta.ru/news/2019/10/16 processed (262 news). 9573 news saved totally.\n",
            "05-03-2021 05:07:44 - LentaParser - INFO @ https://lenta.ru/news/2019/10/17 processed (248 news). 9821 news saved totally.\n",
            "05-03-2021 05:08:01 - LentaParser - INFO @ https://lenta.ru/news/2019/10/18 processed (256 news). 10077 news saved totally.\n",
            "05-03-2021 05:08:08 - LentaParser - INFO @ https://lenta.ru/news/2019/10/19 processed (96 news). 10173 news saved totally.\n",
            "05-03-2021 05:08:15 - LentaParser - INFO @ https://lenta.ru/news/2019/10/20 processed (80 news). 10253 news saved totally.\n",
            "05-03-2021 05:08:30 - LentaParser - INFO @ https://lenta.ru/news/2019/10/21 processed (235 news). 10488 news saved totally.\n",
            "05-03-2021 05:08:47 - LentaParser - INFO @ https://lenta.ru/news/2019/10/22 processed (262 news). 10750 news saved totally.\n",
            "05-03-2021 05:09:04 - LentaParser - INFO @ https://lenta.ru/news/2019/10/23 processed (248 news). 10998 news saved totally.\n",
            "05-03-2021 05:09:22 - LentaParser - INFO @ https://lenta.ru/news/2019/10/24 processed (257 news). 11255 news saved totally.\n",
            "05-03-2021 05:09:37 - LentaParser - INFO @ https://lenta.ru/news/2019/10/25 processed (244 news). 11499 news saved totally.\n",
            "05-03-2021 05:09:44 - LentaParser - INFO @ https://lenta.ru/news/2019/10/26 processed (92 news). 11591 news saved totally.\n",
            "05-03-2021 05:09:51 - LentaParser - INFO @ https://lenta.ru/news/2019/10/27 processed (113 news). 11704 news saved totally.\n",
            "05-03-2021 05:10:08 - LentaParser - INFO @ https://lenta.ru/news/2019/10/28 processed (247 news). 11951 news saved totally.\n",
            "05-03-2021 05:10:24 - LentaParser - INFO @ https://lenta.ru/news/2019/10/29 processed (260 news). 12211 news saved totally.\n",
            "05-03-2021 05:10:41 - LentaParser - INFO @ https://lenta.ru/news/2019/10/30 processed (269 news). 12480 news saved totally.\n",
            "05-03-2021 05:10:59 - LentaParser - INFO @ https://lenta.ru/news/2019/10/31 processed (261 news). 12741 news saved totally.\n",
            "05-03-2021 05:11:16 - LentaParser - INFO @ https://lenta.ru/news/2019/11/01 processed (264 news). 13005 news saved totally.\n",
            "05-03-2021 05:11:28 - LentaParser - INFO @ https://lenta.ru/news/2019/11/02 processed (104 news). 13109 news saved totally.\n",
            "05-03-2021 05:11:34 - LentaParser - INFO @ https://lenta.ru/news/2019/11/03 processed (91 news). 13200 news saved totally.\n",
            "05-03-2021 05:11:42 - LentaParser - INFO @ https://lenta.ru/news/2019/11/04 processed (110 news). 13310 news saved totally.\n",
            "05-03-2021 05:11:58 - LentaParser - INFO @ https://lenta.ru/news/2019/11/05 processed (248 news). 13558 news saved totally.\n",
            "05-03-2021 05:12:14 - LentaParser - INFO @ https://lenta.ru/news/2019/11/06 processed (250 news). 13808 news saved totally.\n",
            "05-03-2021 05:12:28 - LentaParser - INFO @ https://lenta.ru/news/2019/11/07 processed (235 news). 14043 news saved totally.\n",
            "05-03-2021 05:12:45 - LentaParser - INFO @ https://lenta.ru/news/2019/11/08 processed (257 news). 14300 news saved totally.\n",
            "05-03-2021 05:12:53 - LentaParser - INFO @ https://lenta.ru/news/2019/11/09 processed (104 news). 14404 news saved totally.\n",
            "05-03-2021 05:13:00 - LentaParser - INFO @ https://lenta.ru/news/2019/11/10 processed (100 news). 14504 news saved totally.\n",
            "05-03-2021 05:13:15 - LentaParser - INFO @ https://lenta.ru/news/2019/11/11 processed (247 news). 14751 news saved totally.\n",
            "05-03-2021 05:13:31 - LentaParser - INFO @ https://lenta.ru/news/2019/11/12 processed (250 news). 15001 news saved totally.\n",
            "05-03-2021 05:13:46 - LentaParser - INFO @ https://lenta.ru/news/2019/11/13 processed (253 news). 15254 news saved totally.\n",
            "05-03-2021 05:14:01 - LentaParser - INFO @ https://lenta.ru/news/2019/11/14 processed (246 news). 15500 news saved totally.\n",
            "05-03-2021 05:14:21 - LentaParser - INFO @ https://lenta.ru/news/2019/11/15 processed (240 news). 15740 news saved totally.\n",
            "05-03-2021 05:14:28 - LentaParser - INFO @ https://lenta.ru/news/2019/11/16 processed (102 news). 15842 news saved totally.\n",
            "05-03-2021 05:14:34 - LentaParser - INFO @ https://lenta.ru/news/2019/11/17 processed (92 news). 15934 news saved totally.\n",
            "05-03-2021 05:14:48 - LentaParser - INFO @ https://lenta.ru/news/2019/11/18 processed (229 news). 16163 news saved totally.\n",
            "05-03-2021 05:15:06 - LentaParser - INFO @ https://lenta.ru/news/2019/11/19 processed (256 news). 16419 news saved totally.\n",
            "05-03-2021 05:15:22 - LentaParser - INFO @ https://lenta.ru/news/2019/11/20 processed (257 news). 16676 news saved totally.\n",
            "05-03-2021 05:15:38 - LentaParser - INFO @ https://lenta.ru/news/2019/11/21 processed (245 news). 16921 news saved totally.\n",
            "05-03-2021 05:15:54 - LentaParser - INFO @ https://lenta.ru/news/2019/11/22 processed (241 news). 17162 news saved totally.\n",
            "05-03-2021 05:16:01 - LentaParser - INFO @ https://lenta.ru/news/2019/11/23 processed (109 news). 17271 news saved totally.\n",
            "05-03-2021 05:16:10 - LentaParser - INFO @ https://lenta.ru/news/2019/11/24 processed (104 news). 17375 news saved totally.\n",
            "05-03-2021 05:16:25 - LentaParser - INFO @ https://lenta.ru/news/2019/11/25 processed (227 news). 17602 news saved totally.\n",
            "05-03-2021 05:16:42 - LentaParser - INFO @ https://lenta.ru/news/2019/11/26 processed (271 news). 17873 news saved totally.\n",
            "05-03-2021 05:16:59 - LentaParser - INFO @ https://lenta.ru/news/2019/11/27 processed (262 news). 18135 news saved totally.\n",
            "05-03-2021 05:17:16 - LentaParser - INFO @ https://lenta.ru/news/2019/11/28 processed (254 news). 18389 news saved totally.\n",
            "05-03-2021 05:17:31 - LentaParser - INFO @ https://lenta.ru/news/2019/11/29 processed (219 news). 18608 news saved totally.\n",
            "05-03-2021 05:17:38 - LentaParser - INFO @ https://lenta.ru/news/2019/11/30 processed (105 news). 18713 news saved totally.\n",
            "05-03-2021 05:17:44 - LentaParser - INFO @ https://lenta.ru/news/2019/12/01 processed (85 news). 18798 news saved totally.\n",
            "05-03-2021 05:17:59 - LentaParser - INFO @ https://lenta.ru/news/2019/12/02 processed (249 news). 19047 news saved totally.\n",
            "05-03-2021 05:18:16 - LentaParser - INFO @ https://lenta.ru/news/2019/12/03 processed (266 news). 19313 news saved totally.\n",
            "05-03-2021 05:18:36 - LentaParser - INFO @ https://lenta.ru/news/2019/12/04 processed (269 news). 19582 news saved totally.\n",
            "05-03-2021 05:18:53 - LentaParser - INFO @ https://lenta.ru/news/2019/12/05 processed (287 news). 19869 news saved totally.\n",
            "05-03-2021 05:19:06 - LentaParser - INFO @ https://lenta.ru/news/2019/12/06 processed (236 news). 20105 news saved totally.\n",
            "05-03-2021 05:19:14 - LentaParser - INFO @ https://lenta.ru/news/2019/12/07 processed (108 news). 20213 news saved totally.\n",
            "05-03-2021 05:19:24 - LentaParser - INFO @ https://lenta.ru/news/2019/12/08 processed (104 news). 20317 news saved totally.\n",
            "05-03-2021 05:19:40 - LentaParser - INFO @ https://lenta.ru/news/2019/12/09 processed (257 news). 20574 news saved totally.\n",
            "05-03-2021 05:19:56 - LentaParser - INFO @ https://lenta.ru/news/2019/12/10 processed (280 news). 20854 news saved totally.\n",
            "05-03-2021 05:20:12 - LentaParser - INFO @ https://lenta.ru/news/2019/12/11 processed (253 news). 21107 news saved totally.\n",
            "05-03-2021 05:20:28 - LentaParser - INFO @ https://lenta.ru/news/2019/12/12 processed (267 news). 21374 news saved totally.\n",
            "05-03-2021 05:20:43 - LentaParser - INFO @ https://lenta.ru/news/2019/12/13 processed (244 news). 21618 news saved totally.\n",
            "05-03-2021 05:20:50 - LentaParser - INFO @ https://lenta.ru/news/2019/12/14 processed (122 news). 21740 news saved totally.\n",
            "05-03-2021 05:20:58 - LentaParser - INFO @ https://lenta.ru/news/2019/12/15 processed (111 news). 21851 news saved totally.\n",
            "05-03-2021 05:21:14 - LentaParser - INFO @ https://lenta.ru/news/2019/12/16 processed (236 news). 22087 news saved totally.\n",
            "05-03-2021 05:21:28 - LentaParser - INFO @ https://lenta.ru/news/2019/12/17 processed (245 news). 22332 news saved totally.\n",
            "05-03-2021 05:21:45 - LentaParser - INFO @ https://lenta.ru/news/2019/12/18 processed (258 news). 22590 news saved totally.\n",
            "05-03-2021 05:22:01 - LentaParser - INFO @ https://lenta.ru/news/2019/12/19 processed (266 news). 22856 news saved totally.\n",
            "05-03-2021 05:22:17 - LentaParser - INFO @ https://lenta.ru/news/2019/12/20 processed (249 news). 23105 news saved totally.\n",
            "05-03-2021 05:22:27 - LentaParser - INFO @ https://lenta.ru/news/2019/12/21 processed (110 news). 23215 news saved totally.\n",
            "05-03-2021 05:22:33 - LentaParser - INFO @ https://lenta.ru/news/2019/12/22 processed (95 news). 23310 news saved totally.\n",
            "05-03-2021 05:22:49 - LentaParser - INFO @ https://lenta.ru/news/2019/12/23 processed (258 news). 23568 news saved totally.\n",
            "05-03-2021 05:23:05 - LentaParser - INFO @ https://lenta.ru/news/2019/12/24 processed (258 news). 23826 news saved totally.\n",
            "05-03-2021 05:23:19 - LentaParser - INFO @ https://lenta.ru/news/2019/12/25 processed (240 news). 24066 news saved totally.\n",
            "05-03-2021 05:23:34 - LentaParser - INFO @ https://lenta.ru/news/2019/12/26 processed (259 news). 24325 news saved totally.\n",
            "05-03-2021 05:23:53 - LentaParser - INFO @ https://lenta.ru/news/2019/12/27 processed (238 news). 24563 news saved totally.\n",
            "05-03-2021 05:24:00 - LentaParser - INFO @ https://lenta.ru/news/2019/12/28 processed (105 news). 24668 news saved totally.\n",
            "05-03-2021 05:24:07 - LentaParser - INFO @ https://lenta.ru/news/2019/12/29 processed (94 news). 24762 news saved totally.\n",
            "05-03-2021 05:24:20 - LentaParser - INFO @ https://lenta.ru/news/2019/12/30 processed (217 news). 24979 news saved totally.\n",
            "05-03-2021 05:24:32 - LentaParser - INFO @ https://lenta.ru/news/2019/12/31 processed (166 news). 25145 news saved totally.\n",
            "05-03-2021 05:24:39 - LentaParser - INFO @ https://lenta.ru/news/2020/01/01 processed (82 news). 25227 news saved totally.\n",
            "05-03-2021 05:24:44 - LentaParser - INFO @ https://lenta.ru/news/2020/01/02 processed (90 news). 25317 news saved totally.\n",
            "05-03-2021 05:24:50 - LentaParser - INFO @ https://lenta.ru/news/2020/01/03 processed (97 news). 25414 news saved totally.\n",
            "05-03-2021 05:24:57 - LentaParser - INFO @ https://lenta.ru/news/2020/01/04 processed (100 news). 25514 news saved totally.\n",
            "05-03-2021 05:25:05 - LentaParser - INFO @ https://lenta.ru/news/2020/01/05 processed (95 news). 25609 news saved totally.\n",
            "05-03-2021 05:25:12 - LentaParser - INFO @ https://lenta.ru/news/2020/01/06 processed (102 news). 25711 news saved totally.\n",
            "05-03-2021 05:25:18 - LentaParser - INFO @ https://lenta.ru/news/2020/01/07 processed (102 news). 25813 news saved totally.\n",
            "05-03-2021 05:25:26 - LentaParser - INFO @ https://lenta.ru/news/2020/01/08 processed (153 news). 25966 news saved totally.\n",
            "05-03-2021 05:25:46 - LentaParser - INFO @ https://lenta.ru/news/2020/01/09 processed (230 news). 26196 news saved totally.\n",
            "05-03-2021 05:26:00 - LentaParser - INFO @ https://lenta.ru/news/2020/01/10 processed (237 news). 26433 news saved totally.\n",
            "05-03-2021 05:26:08 - LentaParser - INFO @ https://lenta.ru/news/2020/01/11 processed (119 news). 26552 news saved totally.\n",
            "05-03-2021 05:26:17 - LentaParser - INFO @ https://lenta.ru/news/2020/01/12 processed (103 news). 26655 news saved totally.\n",
            "05-03-2021 05:26:29 - LentaParser - INFO @ https://lenta.ru/news/2020/01/13 processed (224 news). 26879 news saved totally.\n",
            "05-03-2021 05:26:43 - LentaParser - INFO @ https://lenta.ru/news/2020/01/14 processed (244 news). 27123 news saved totally.\n",
            "05-03-2021 05:26:58 - LentaParser - INFO @ https://lenta.ru/news/2020/01/15 processed (260 news). 27383 news saved totally.\n",
            "05-03-2021 05:27:13 - LentaParser - INFO @ https://lenta.ru/news/2020/01/16 processed (257 news). 27640 news saved totally.\n",
            "05-03-2021 05:27:26 - LentaParser - INFO @ https://lenta.ru/news/2020/01/17 processed (236 news). 27876 news saved totally.\n",
            "05-03-2021 05:27:34 - LentaParser - INFO @ https://lenta.ru/news/2020/01/18 processed (102 news). 27978 news saved totally.\n",
            "05-03-2021 05:27:42 - LentaParser - INFO @ https://lenta.ru/news/2020/01/19 processed (93 news). 28071 news saved totally.\n",
            "05-03-2021 05:27:57 - LentaParser - INFO @ https://lenta.ru/news/2020/01/20 processed (244 news). 28315 news saved totally.\n",
            "05-03-2021 05:28:13 - LentaParser - INFO @ https://lenta.ru/news/2020/01/21 processed (269 news). 28584 news saved totally.\n",
            "05-03-2021 05:28:29 - LentaParser - INFO @ https://lenta.ru/news/2020/01/22 processed (269 news). 28853 news saved totally.\n",
            "05-03-2021 05:28:43 - LentaParser - INFO @ https://lenta.ru/news/2020/01/23 processed (241 news). 29094 news saved totally.\n",
            "05-03-2021 05:28:57 - LentaParser - INFO @ https://lenta.ru/news/2020/01/24 processed (260 news). 29354 news saved totally.\n",
            "05-03-2021 05:29:04 - LentaParser - INFO @ https://lenta.ru/news/2020/01/25 processed (99 news). 29453 news saved totally.\n",
            "05-03-2021 05:29:13 - LentaParser - INFO @ https://lenta.ru/news/2020/01/26 processed (107 news). 29560 news saved totally.\n",
            "05-03-2021 05:29:27 - LentaParser - INFO @ https://lenta.ru/news/2020/01/27 processed (249 news). 29809 news saved totally.\n",
            "05-03-2021 05:29:42 - LentaParser - INFO @ https://lenta.ru/news/2020/01/28 processed (256 news). 30065 news saved totally.\n",
            "05-03-2021 05:29:57 - LentaParser - INFO @ https://lenta.ru/news/2020/01/29 processed (259 news). 30324 news saved totally.\n",
            "05-03-2021 05:30:12 - LentaParser - INFO @ https://lenta.ru/news/2020/01/30 processed (259 news). 30583 news saved totally.\n",
            "05-03-2021 05:30:27 - LentaParser - INFO @ https://lenta.ru/news/2020/01/31 processed (256 news). 30839 news saved totally.\n",
            "05-03-2021 05:30:34 - LentaParser - INFO @ https://lenta.ru/news/2020/02/01 processed (119 news). 30958 news saved totally.\n",
            "05-03-2021 05:30:41 - LentaParser - INFO @ https://lenta.ru/news/2020/02/02 processed (92 news). 31050 news saved totally.\n",
            "05-03-2021 05:30:55 - LentaParser - INFO @ https://lenta.ru/news/2020/02/03 processed (243 news). 31293 news saved totally.\n",
            "05-03-2021 05:31:09 - LentaParser - INFO @ https://lenta.ru/news/2020/02/04 processed (233 news). 31526 news saved totally.\n",
            "05-03-2021 05:31:25 - LentaParser - INFO @ https://lenta.ru/news/2020/02/05 processed (254 news). 31780 news saved totally.\n",
            "05-03-2021 05:31:38 - LentaParser - INFO @ https://lenta.ru/news/2020/02/06 processed (239 news). 32019 news saved totally.\n",
            "05-03-2021 05:31:52 - LentaParser - INFO @ https://lenta.ru/news/2020/02/07 processed (242 news). 32261 news saved totally.\n",
            "05-03-2021 05:31:58 - LentaParser - INFO @ https://lenta.ru/news/2020/02/08 processed (101 news). 32362 news saved totally.\n",
            "05-03-2021 05:32:04 - LentaParser - INFO @ https://lenta.ru/news/2020/02/09 processed (93 news). 32455 news saved totally.\n",
            "05-03-2021 05:32:20 - LentaParser - INFO @ https://lenta.ru/news/2020/02/10 processed (244 news). 32699 news saved totally.\n",
            "05-03-2021 05:32:34 - LentaParser - INFO @ https://lenta.ru/news/2020/02/11 processed (243 news). 32942 news saved totally.\n",
            "05-03-2021 05:32:48 - LentaParser - INFO @ https://lenta.ru/news/2020/02/12 processed (241 news). 33183 news saved totally.\n",
            "05-03-2021 05:33:02 - LentaParser - INFO @ https://lenta.ru/news/2020/02/13 processed (243 news). 33426 news saved totally.\n",
            "05-03-2021 05:33:15 - LentaParser - INFO @ https://lenta.ru/news/2020/02/14 processed (231 news). 33657 news saved totally.\n",
            "05-03-2021 05:33:23 - LentaParser - INFO @ https://lenta.ru/news/2020/02/15 processed (105 news). 33762 news saved totally.\n",
            "05-03-2021 05:33:30 - LentaParser - INFO @ https://lenta.ru/news/2020/02/16 processed (99 news). 33861 news saved totally.\n",
            "05-03-2021 05:33:44 - LentaParser - INFO @ https://lenta.ru/news/2020/02/17 processed (248 news). 34109 news saved totally.\n",
            "05-03-2021 05:33:59 - LentaParser - INFO @ https://lenta.ru/news/2020/02/18 processed (266 news). 34375 news saved totally.\n",
            "05-03-2021 05:34:13 - LentaParser - INFO @ https://lenta.ru/news/2020/02/19 processed (248 news). 34623 news saved totally.\n",
            "05-03-2021 05:34:29 - LentaParser - INFO @ https://lenta.ru/news/2020/02/20 processed (246 news). 34869 news saved totally.\n",
            "05-03-2021 05:34:42 - LentaParser - INFO @ https://lenta.ru/news/2020/02/21 processed (225 news). 35094 news saved totally.\n",
            "05-03-2021 05:34:50 - LentaParser - INFO @ https://lenta.ru/news/2020/02/22 processed (121 news). 35215 news saved totally.\n",
            "05-03-2021 05:34:58 - LentaParser - INFO @ https://lenta.ru/news/2020/02/23 processed (107 news). 35322 news saved totally.\n",
            "05-03-2021 05:35:04 - LentaParser - INFO @ https://lenta.ru/news/2020/02/24 processed (105 news). 35427 news saved totally.\n",
            "05-03-2021 05:35:17 - LentaParser - INFO @ https://lenta.ru/news/2020/02/25 processed (226 news). 35653 news saved totally.\n",
            "05-03-2021 05:35:31 - LentaParser - INFO @ https://lenta.ru/news/2020/02/26 processed (243 news). 35896 news saved totally.\n",
            "05-03-2021 05:35:46 - LentaParser - INFO @ https://lenta.ru/news/2020/02/27 processed (244 news). 36140 news saved totally.\n",
            "05-03-2021 05:35:59 - LentaParser - INFO @ https://lenta.ru/news/2020/02/28 processed (221 news). 36361 news saved totally.\n",
            "05-03-2021 05:36:06 - LentaParser - INFO @ https://lenta.ru/news/2020/02/29 processed (108 news). 36469 news saved totally.\n",
            "05-03-2021 05:36:13 - LentaParser - INFO @ https://lenta.ru/news/2020/03/01 processed (104 news). 36573 news saved totally.\n",
            "05-03-2021 05:36:29 - LentaParser - INFO @ https://lenta.ru/news/2020/03/02 processed (253 news). 36826 news saved totally.\n",
            "05-03-2021 05:36:43 - LentaParser - INFO @ https://lenta.ru/news/2020/03/03 processed (248 news). 37074 news saved totally.\n",
            "05-03-2021 05:37:00 - LentaParser - INFO @ https://lenta.ru/news/2020/03/04 processed (239 news). 37313 news saved totally.\n",
            "05-03-2021 05:37:16 - LentaParser - INFO @ https://lenta.ru/news/2020/03/05 processed (255 news). 37568 news saved totally.\n",
            "05-03-2021 05:37:30 - LentaParser - INFO @ https://lenta.ru/news/2020/03/06 processed (237 news). 37805 news saved totally.\n",
            "05-03-2021 05:37:37 - LentaParser - INFO @ https://lenta.ru/news/2020/03/07 processed (118 news). 37923 news saved totally.\n",
            "05-03-2021 05:37:44 - LentaParser - INFO @ https://lenta.ru/news/2020/03/08 processed (102 news). 38025 news saved totally.\n",
            "05-03-2021 05:37:51 - LentaParser - INFO @ https://lenta.ru/news/2020/03/09 processed (110 news). 38135 news saved totally.\n",
            "05-03-2021 05:38:05 - LentaParser - INFO @ https://lenta.ru/news/2020/03/10 processed (238 news). 38373 news saved totally.\n",
            "05-03-2021 05:38:19 - LentaParser - INFO @ https://lenta.ru/news/2020/03/11 processed (258 news). 38631 news saved totally.\n",
            "05-03-2021 05:38:34 - LentaParser - INFO @ https://lenta.ru/news/2020/03/12 processed (252 news). 38883 news saved totally.\n",
            "05-03-2021 05:38:48 - LentaParser - INFO @ https://lenta.ru/news/2020/03/13 processed (245 news). 39128 news saved totally.\n",
            "05-03-2021 05:38:55 - LentaParser - INFO @ https://lenta.ru/news/2020/03/14 processed (108 news). 39236 news saved totally.\n",
            "05-03-2021 05:39:01 - LentaParser - INFO @ https://lenta.ru/news/2020/03/15 processed (101 news). 39337 news saved totally.\n",
            "05-03-2021 05:39:16 - LentaParser - INFO @ https://lenta.ru/news/2020/03/16 processed (262 news). 39599 news saved totally.\n",
            "05-03-2021 05:39:33 - LentaParser - INFO @ https://lenta.ru/news/2020/03/17 processed (291 news). 39890 news saved totally.\n",
            "05-03-2021 05:39:50 - LentaParser - INFO @ https://lenta.ru/news/2020/03/18 processed (294 news). 40184 news saved totally.\n",
            "05-03-2021 05:40:07 - LentaParser - INFO @ https://lenta.ru/news/2020/03/19 processed (280 news). 40464 news saved totally.\n",
            "05-03-2021 05:40:23 - LentaParser - INFO @ https://lenta.ru/news/2020/03/20 processed (250 news). 40714 news saved totally.\n",
            "05-03-2021 05:40:31 - LentaParser - INFO @ https://lenta.ru/news/2020/03/21 processed (114 news). 40828 news saved totally.\n",
            "05-03-2021 05:40:41 - LentaParser - INFO @ https://lenta.ru/news/2020/03/22 processed (110 news). 40938 news saved totally.\n",
            "05-03-2021 05:40:58 - LentaParser - INFO @ https://lenta.ru/news/2020/03/23 processed (271 news). 41209 news saved totally.\n",
            "05-03-2021 05:41:15 - LentaParser - INFO @ https://lenta.ru/news/2020/03/24 processed (299 news). 41508 news saved totally.\n",
            "05-03-2021 05:41:34 - LentaParser - INFO @ https://lenta.ru/news/2020/03/25 processed (302 news). 41810 news saved totally.\n",
            "05-03-2021 05:41:52 - LentaParser - INFO @ https://lenta.ru/news/2020/03/26 processed (306 news). 42116 news saved totally.\n",
            "05-03-2021 05:42:08 - LentaParser - INFO @ https://lenta.ru/news/2020/03/27 processed (269 news). 42385 news saved totally.\n",
            "05-03-2021 05:42:16 - LentaParser - INFO @ https://lenta.ru/news/2020/03/28 processed (121 news). 42506 news saved totally.\n",
            "05-03-2021 05:42:24 - LentaParser - INFO @ https://lenta.ru/news/2020/03/29 processed (119 news). 42625 news saved totally.\n",
            "05-03-2021 05:42:42 - LentaParser - INFO @ https://lenta.ru/news/2020/03/30 processed (296 news). 42921 news saved totally.\n",
            "05-03-2021 05:43:01 - LentaParser - INFO @ https://lenta.ru/news/2020/03/31 processed (305 news). 43226 news saved totally.\n",
            "05-03-2021 05:43:23 - LentaParser - INFO @ https://lenta.ru/news/2020/04/01 processed (300 news). 43526 news saved totally.\n",
            "05-03-2021 05:43:40 - LentaParser - INFO @ https://lenta.ru/news/2020/04/02 processed (292 news). 43818 news saved totally.\n",
            "05-03-2021 05:44:00 - LentaParser - INFO @ https://lenta.ru/news/2020/04/03 processed (280 news). 44098 news saved totally.\n",
            "05-03-2021 05:44:08 - LentaParser - INFO @ https://lenta.ru/news/2020/04/04 processed (117 news). 44215 news saved totally.\n",
            "05-03-2021 05:44:15 - LentaParser - INFO @ https://lenta.ru/news/2020/04/05 processed (108 news). 44323 news saved totally.\n",
            "05-03-2021 05:44:31 - LentaParser - INFO @ https://lenta.ru/news/2020/04/06 processed (277 news). 44600 news saved totally.\n",
            "05-03-2021 05:44:47 - LentaParser - INFO @ https://lenta.ru/news/2020/04/07 processed (283 news). 44883 news saved totally.\n",
            "05-03-2021 05:45:04 - LentaParser - INFO @ https://lenta.ru/news/2020/04/08 processed (316 news). 45199 news saved totally.\n",
            "05-03-2021 05:45:20 - LentaParser - INFO @ https://lenta.ru/news/2020/04/09 processed (314 news). 45513 news saved totally.\n",
            "05-03-2021 05:45:39 - LentaParser - INFO @ https://lenta.ru/news/2020/04/10 processed (316 news). 45829 news saved totally.\n",
            "05-03-2021 05:45:46 - LentaParser - INFO @ https://lenta.ru/news/2020/04/11 processed (120 news). 45949 news saved totally.\n",
            "05-03-2021 05:45:54 - LentaParser - INFO @ https://lenta.ru/news/2020/04/12 processed (112 news). 46061 news saved totally.\n",
            "05-03-2021 05:46:11 - LentaParser - INFO @ https://lenta.ru/news/2020/04/13 processed (290 news). 46351 news saved totally.\n",
            "05-03-2021 05:46:32 - LentaParser - INFO @ https://lenta.ru/news/2020/04/14 processed (291 news). 46642 news saved totally.\n",
            "05-03-2021 05:46:51 - LentaParser - INFO @ https://lenta.ru/news/2020/04/15 processed (310 news). 46952 news saved totally.\n",
            "05-03-2021 05:47:08 - LentaParser - INFO @ https://lenta.ru/news/2020/04/16 processed (304 news). 47256 news saved totally.\n",
            "05-03-2021 05:47:15 - LentaParser - ERROR @ Cannot fetch https://lenta.ru/news/2020/04/17/coronavirusnewinfo/: 404, message='Not Found', url=URL('https://lenta.ru/news/2020/04/17/coronavirusnewinfo/')\n",
            "05-03-2021 05:47:26 - LentaParser - INFO @ https://lenta.ru/news/2020/04/17 processed (308 news). 47564 news saved totally.\n",
            "05-03-2021 05:47:29 - LentaParser - ERROR @ Cannot fetch https://lenta.ru/news/2020/04/18/coronavirusnewinfo/: 404, message='Not Found', url=URL('https://lenta.ru/news/2020/04/18/coronavirusnewinfo/')\n",
            "05-03-2021 05:47:35 - LentaParser - INFO @ https://lenta.ru/news/2020/04/18 processed (124 news). 47688 news saved totally.\n",
            "05-03-2021 05:47:39 - LentaParser - ERROR @ Cannot fetch https://lenta.ru/news/2020/04/19/coronavirusnewinfo/: 404, message='Not Found', url=URL('https://lenta.ru/news/2020/04/19/coronavirusnewinfo/')\n",
            "05-03-2021 05:47:42 - LentaParser - INFO @ https://lenta.ru/news/2020/04/19 processed (110 news). 47798 news saved totally.\n",
            "05-03-2021 05:47:48 - LentaParser - ERROR @ Cannot fetch https://lenta.ru/news/2020/04/20/coronavirusnewinfo/: 404, message='Not Found', url=URL('https://lenta.ru/news/2020/04/20/coronavirusnewinfo/')\n",
            "05-03-2021 05:47:58 - LentaParser - INFO @ https://lenta.ru/news/2020/04/20 processed (279 news). 48077 news saved totally.\n",
            "05-03-2021 05:48:16 - LentaParser - INFO @ https://lenta.ru/news/2020/04/21 processed (310 news). 48387 news saved totally.\n",
            "05-03-2021 05:48:22 - LentaParser - ERROR @ Cannot fetch https://lenta.ru/news/2020/04/22/coronavirusnewinfo/: 404, message='Not Found', url=URL('https://lenta.ru/news/2020/04/22/coronavirusnewinfo/')\n",
            "05-03-2021 05:48:33 - LentaParser - INFO @ https://lenta.ru/news/2020/04/22 processed (303 news). 48690 news saved totally.\n",
            "05-03-2021 05:48:50 - LentaParser - INFO @ https://lenta.ru/news/2020/04/23 processed (301 news). 48991 news saved totally.\n",
            "05-03-2021 05:49:07 - LentaParser - INFO @ https://lenta.ru/news/2020/04/24 processed (301 news). 49292 news saved totally.\n",
            "05-03-2021 05:49:14 - LentaParser - INFO @ https://lenta.ru/news/2020/04/25 processed (125 news). 49417 news saved totally.\n",
            "05-03-2021 05:49:21 - LentaParser - INFO @ https://lenta.ru/news/2020/04/26 processed (110 news). 49527 news saved totally.\n",
            "05-03-2021 05:49:36 - LentaParser - INFO @ https://lenta.ru/news/2020/04/27 processed (292 news). 49819 news saved totally.\n",
            "05-03-2021 05:49:54 - LentaParser - INFO @ https://lenta.ru/news/2020/04/28 processed (319 news). 50138 news saved totally.\n",
            "05-03-2021 05:50:12 - LentaParser - INFO @ https://lenta.ru/news/2020/04/29 processed (304 news). 50442 news saved totally.\n",
            "05-03-2021 05:50:37 - LentaParser - INFO @ https://lenta.ru/news/2020/04/30 processed (332 news). 50774 news saved totally.\n",
            "05-03-2021 05:50:42 - LentaParser - ERROR @ Cannot fetch https://lenta.ru/news/2020/05/01/coronavirusnewinfo/: 404, message='Not Found', url=URL('https://lenta.ru/news/2020/05/01/coronavirusnewinfo/')\n",
            "05-03-2021 05:50:45 - LentaParser - INFO @ https://lenta.ru/news/2020/05/01 processed (125 news). 50899 news saved totally.\n",
            "05-03-2021 05:50:55 - LentaParser - INFO @ https://lenta.ru/news/2020/05/02 processed (122 news). 51021 news saved totally.\n",
            "05-03-2021 05:50:58 - LentaParser - ERROR @ Cannot fetch https://lenta.ru/news/2020/05/03/coronavirusnewinfo/: 404, message='Not Found', url=URL('https://lenta.ru/news/2020/05/03/coronavirusnewinfo/')\n",
            "05-03-2021 05:51:02 - LentaParser - INFO @ https://lenta.ru/news/2020/05/03 processed (125 news). 51146 news saved totally.\n",
            "05-03-2021 05:51:04 - LentaParser - ERROR @ Cannot fetch https://lenta.ru/news/2020/05/04/coronavirusnewinfo/: 404, message='Not Found', url=URL('https://lenta.ru/news/2020/05/04/coronavirusnewinfo/')\n",
            "05-03-2021 05:51:08 - LentaParser - INFO @ https://lenta.ru/news/2020/05/04 processed (119 news). 51265 news saved totally.\n",
            "05-03-2021 05:51:12 - LentaParser - ERROR @ Cannot fetch https://lenta.ru/news/2020/05/05/coronavirusnewinfo/: 404, message='Not Found', url=URL('https://lenta.ru/news/2020/05/05/coronavirusnewinfo/')\n",
            "05-03-2021 05:51:16 - LentaParser - INFO @ https://lenta.ru/news/2020/05/05 processed (130 news). 51395 news saved totally.\n",
            "05-03-2021 05:51:34 - LentaParser - INFO @ https://lenta.ru/news/2020/05/06 processed (305 news). 51700 news saved totally.\n",
            "05-03-2021 05:51:51 - LentaParser - INFO @ https://lenta.ru/news/2020/05/07 processed (307 news). 52007 news saved totally.\n",
            "05-03-2021 05:52:09 - LentaParser - INFO @ https://lenta.ru/news/2020/05/08 processed (290 news). 52297 news saved totally.\n",
            "05-03-2021 05:52:17 - LentaParser - INFO @ https://lenta.ru/news/2020/05/09 processed (126 news). 52423 news saved totally.\n",
            "05-03-2021 05:52:24 - LentaParser - INFO @ https://lenta.ru/news/2020/05/10 processed (133 news). 52556 news saved totally.\n",
            "05-03-2021 05:52:34 - LentaParser - INFO @ https://lenta.ru/news/2020/05/11 processed (127 news). 52683 news saved totally.\n",
            "05-03-2021 05:52:50 - LentaParser - INFO @ https://lenta.ru/news/2020/05/12 processed (298 news). 52981 news saved totally.\n",
            "05-03-2021 05:53:10 - LentaParser - INFO @ https://lenta.ru/news/2020/05/13 processed (313 news). 53294 news saved totally.\n",
            "05-03-2021 05:53:28 - LentaParser - INFO @ https://lenta.ru/news/2020/05/14 processed (318 news). 53612 news saved totally.\n",
            "05-03-2021 05:53:45 - LentaParser - INFO @ https://lenta.ru/news/2020/05/15 processed (303 news). 53915 news saved totally.\n",
            "05-03-2021 05:53:56 - LentaParser - INFO @ https://lenta.ru/news/2020/05/16 processed (134 news). 54049 news saved totally.\n",
            "05-03-2021 05:54:03 - LentaParser - INFO @ https://lenta.ru/news/2020/05/17 processed (128 news). 54177 news saved totally.\n",
            "05-03-2021 05:54:24 - LentaParser - INFO @ https://lenta.ru/news/2020/05/18 processed (338 news). 54515 news saved totally.\n",
            "05-03-2021 05:54:42 - LentaParser - INFO @ https://lenta.ru/news/2020/05/19 processed (308 news). 54823 news saved totally.\n",
            "05-03-2021 05:55:01 - LentaParser - INFO @ https://lenta.ru/news/2020/05/20 processed (324 news). 55147 news saved totally.\n",
            "05-03-2021 05:55:21 - LentaParser - INFO @ https://lenta.ru/news/2020/05/21 processed (326 news). 55473 news saved totally.\n",
            "05-03-2021 05:55:39 - LentaParser - INFO @ https://lenta.ru/news/2020/05/22 processed (310 news). 55783 news saved totally.\n",
            "05-03-2021 05:55:47 - LentaParser - INFO @ https://lenta.ru/news/2020/05/23 processed (138 news). 55921 news saved totally.\n",
            "05-03-2021 05:55:55 - LentaParser - INFO @ https://lenta.ru/news/2020/05/24 processed (131 news). 56052 news saved totally.\n",
            "05-03-2021 05:56:13 - LentaParser - INFO @ https://lenta.ru/news/2020/05/25 processed (304 news). 56356 news saved totally.\n",
            "05-03-2021 05:56:33 - LentaParser - INFO @ https://lenta.ru/news/2020/05/26 processed (328 news). 56684 news saved totally.\n",
            "05-03-2021 05:56:51 - LentaParser - INFO @ https://lenta.ru/news/2020/05/27 processed (326 news). 57010 news saved totally.\n",
            "05-03-2021 05:57:14 - LentaParser - INFO @ https://lenta.ru/news/2020/05/28 processed (332 news). 57342 news saved totally.\n",
            "05-03-2021 05:57:31 - LentaParser - INFO @ https://lenta.ru/news/2020/05/29 processed (288 news). 57630 news saved totally.\n",
            "05-03-2021 05:57:41 - LentaParser - INFO @ https://lenta.ru/news/2020/05/30 processed (128 news). 57758 news saved totally.\n",
            "05-03-2021 05:57:48 - LentaParser - INFO @ https://lenta.ru/news/2020/05/31 processed (119 news). 57877 news saved totally.\n",
            "05-03-2021 05:58:06 - LentaParser - INFO @ https://lenta.ru/news/2020/06/01 processed (313 news). 58190 news saved totally.\n",
            "05-03-2021 05:58:24 - LentaParser - INFO @ https://lenta.ru/news/2020/06/02 processed (307 news). 58497 news saved totally.\n",
            "05-03-2021 05:58:44 - LentaParser - INFO @ https://lenta.ru/news/2020/06/03 processed (320 news). 58817 news saved totally.\n",
            "05-03-2021 05:59:02 - LentaParser - INFO @ https://lenta.ru/news/2020/06/04 processed (308 news). 59125 news saved totally.\n",
            "05-03-2021 05:59:19 - LentaParser - INFO @ https://lenta.ru/news/2020/06/05 processed (303 news). 59428 news saved totally.\n",
            "05-03-2021 05:59:27 - LentaParser - INFO @ https://lenta.ru/news/2020/06/06 processed (138 news). 59566 news saved totally.\n",
            "05-03-2021 05:59:34 - LentaParser - INFO @ https://lenta.ru/news/2020/06/07 processed (115 news). 59681 news saved totally.\n",
            "05-03-2021 05:59:53 - LentaParser - INFO @ https://lenta.ru/news/2020/06/08 processed (295 news). 59976 news saved totally.\n",
            "05-03-2021 06:00:13 - LentaParser - INFO @ https://lenta.ru/news/2020/06/09 processed (340 news). 60316 news saved totally.\n",
            "05-03-2021 06:00:33 - LentaParser - INFO @ https://lenta.ru/news/2020/06/10 processed (308 news). 60624 news saved totally.\n",
            "05-03-2021 06:00:54 - LentaParser - INFO @ https://lenta.ru/news/2020/06/11 processed (299 news). 60923 news saved totally.\n",
            "05-03-2021 06:01:02 - LentaParser - INFO @ https://lenta.ru/news/2020/06/12 processed (137 news). 61060 news saved totally.\n",
            "05-03-2021 06:01:09 - LentaParser - INFO @ https://lenta.ru/news/2020/06/13 processed (123 news). 61183 news saved totally.\n",
            "05-03-2021 06:01:20 - LentaParser - INFO @ https://lenta.ru/news/2020/06/14 processed (126 news). 61309 news saved totally.\n",
            "05-03-2021 06:01:43 - LentaParser - INFO @ https://lenta.ru/news/2020/06/15 processed (318 news). 61627 news saved totally.\n",
            "05-03-2021 06:02:01 - LentaParser - INFO @ https://lenta.ru/news/2020/06/16 processed (298 news). 61925 news saved totally.\n",
            "05-03-2021 06:02:23 - LentaParser - INFO @ https://lenta.ru/news/2020/06/17 processed (319 news). 62244 news saved totally.\n",
            "05-03-2021 06:02:44 - LentaParser - INFO @ https://lenta.ru/news/2020/06/18 processed (370 news). 62614 news saved totally.\n",
            "05-03-2021 06:03:02 - LentaParser - INFO @ https://lenta.ru/news/2020/06/19 processed (314 news). 62928 news saved totally.\n",
            "05-03-2021 06:03:12 - LentaParser - INFO @ https://lenta.ru/news/2020/06/20 processed (124 news). 63052 news saved totally.\n",
            "05-03-2021 06:03:21 - LentaParser - INFO @ https://lenta.ru/news/2020/06/21 processed (146 news). 63198 news saved totally.\n",
            "05-03-2021 06:03:39 - LentaParser - INFO @ https://lenta.ru/news/2020/06/22 processed (315 news). 63513 news saved totally.\n",
            "05-03-2021 06:03:58 - LentaParser - INFO @ https://lenta.ru/news/2020/06/23 processed (313 news). 63826 news saved totally.\n",
            "05-03-2021 06:04:09 - LentaParser - INFO @ https://lenta.ru/news/2020/06/24 processed (180 news). 64006 news saved totally.\n",
            "05-03-2021 06:04:30 - LentaParser - INFO @ https://lenta.ru/news/2020/06/25 processed (313 news). 64319 news saved totally.\n",
            "05-03-2021 06:04:50 - LentaParser - INFO @ https://lenta.ru/news/2020/06/26 processed (304 news). 64623 news saved totally.\n",
            "05-03-2021 06:05:01 - LentaParser - INFO @ https://lenta.ru/news/2020/06/27 processed (138 news). 64761 news saved totally.\n",
            "05-03-2021 06:05:10 - LentaParser - INFO @ https://lenta.ru/news/2020/06/28 processed (126 news). 64887 news saved totally.\n",
            "05-03-2021 06:05:26 - LentaParser - INFO @ https://lenta.ru/news/2020/06/29 processed (286 news). 65173 news saved totally.\n",
            "05-03-2021 06:05:44 - LentaParser - INFO @ https://lenta.ru/news/2020/06/30 processed (326 news). 65499 news saved totally.\n",
            "05-03-2021 06:05:57 - LentaParser - INFO @ https://lenta.ru/news/2020/07/01 processed (185 news). 65684 news saved totally.\n",
            "05-03-2021 06:06:14 - LentaParser - INFO @ https://lenta.ru/news/2020/07/02 processed (305 news). 65989 news saved totally.\n",
            "05-03-2021 06:06:32 - LentaParser - INFO @ https://lenta.ru/news/2020/07/03 processed (292 news). 66281 news saved totally.\n",
            "05-03-2021 06:06:41 - LentaParser - INFO @ https://lenta.ru/news/2020/07/04 processed (146 news). 66427 news saved totally.\n",
            "05-03-2021 06:06:50 - LentaParser - INFO @ https://lenta.ru/news/2020/07/05 processed (129 news). 66556 news saved totally.\n",
            "05-03-2021 06:07:07 - LentaParser - INFO @ https://lenta.ru/news/2020/07/06 processed (289 news). 66845 news saved totally.\n",
            "05-03-2021 06:07:28 - LentaParser - INFO @ https://lenta.ru/news/2020/07/07 processed (330 news). 67175 news saved totally.\n",
            "05-03-2021 06:07:47 - LentaParser - INFO @ https://lenta.ru/news/2020/07/08 processed (324 news). 67499 news saved totally.\n",
            "05-03-2021 06:08:07 - LentaParser - INFO @ https://lenta.ru/news/2020/07/09 processed (320 news). 67819 news saved totally.\n",
            "05-03-2021 06:08:24 - LentaParser - INFO @ https://lenta.ru/news/2020/07/10 processed (297 news). 68116 news saved totally.\n",
            "05-03-2021 06:08:34 - LentaParser - INFO @ https://lenta.ru/news/2020/07/11 processed (131 news). 68247 news saved totally.\n",
            "05-03-2021 06:08:42 - LentaParser - INFO @ https://lenta.ru/news/2020/07/12 processed (128 news). 68375 news saved totally.\n",
            "05-03-2021 06:08:58 - LentaParser - INFO @ https://lenta.ru/news/2020/07/13 processed (271 news). 68646 news saved totally.\n",
            "05-03-2021 06:09:15 - LentaParser - INFO @ https://lenta.ru/news/2020/07/14 processed (299 news). 68945 news saved totally.\n",
            "05-03-2021 06:09:35 - LentaParser - INFO @ https://lenta.ru/news/2020/07/15 processed (314 news). 69259 news saved totally.\n",
            "05-03-2021 06:09:54 - LentaParser - INFO @ https://lenta.ru/news/2020/07/16 processed (289 news). 69548 news saved totally.\n",
            "05-03-2021 06:10:16 - LentaParser - INFO @ https://lenta.ru/news/2020/07/17 processed (294 news). 69842 news saved totally.\n",
            "05-03-2021 06:10:26 - LentaParser - INFO @ https://lenta.ru/news/2020/07/18 processed (122 news). 69964 news saved totally.\n",
            "05-03-2021 06:10:33 - LentaParser - INFO @ https://lenta.ru/news/2020/07/19 processed (107 news). 70071 news saved totally.\n",
            "05-03-2021 06:10:54 - LentaParser - INFO @ https://lenta.ru/news/2020/07/20 processed (297 news). 70368 news saved totally.\n",
            "05-03-2021 06:11:14 - LentaParser - INFO @ https://lenta.ru/news/2020/07/21 processed (329 news). 70697 news saved totally.\n",
            "05-03-2021 06:11:32 - LentaParser - INFO @ https://lenta.ru/news/2020/07/22 processed (295 news). 70992 news saved totally.\n",
            "05-03-2021 06:11:49 - LentaParser - INFO @ https://lenta.ru/news/2020/07/23 processed (300 news). 71292 news saved totally.\n",
            "05-03-2021 06:12:07 - LentaParser - INFO @ https://lenta.ru/news/2020/07/24 processed (303 news). 71595 news saved totally.\n",
            "05-03-2021 06:12:16 - LentaParser - INFO @ https://lenta.ru/news/2020/07/25 processed (114 news). 71709 news saved totally.\n",
            "05-03-2021 06:12:37 - LentaParser - INFO @ https://lenta.ru/news/2020/07/26 processed (141 news). 71850 news saved totally.\n",
            "05-03-2021 06:12:54 - LentaParser - INFO @ https://lenta.ru/news/2020/07/27 processed (283 news). 72133 news saved totally.\n",
            "05-03-2021 06:13:13 - LentaParser - INFO @ https://lenta.ru/news/2020/07/28 processed (294 news). 72427 news saved totally.\n",
            "05-03-2021 06:13:32 - LentaParser - INFO @ https://lenta.ru/news/2020/07/29 processed (316 news). 72743 news saved totally.\n",
            "05-03-2021 06:13:51 - LentaParser - INFO @ https://lenta.ru/news/2020/07/30 processed (303 news). 73046 news saved totally.\n",
            "05-03-2021 06:14:09 - LentaParser - INFO @ https://lenta.ru/news/2020/07/31 processed (269 news). 73315 news saved totally.\n",
            "05-03-2021 06:14:19 - LentaParser - INFO @ https://lenta.ru/news/2020/08/01 processed (128 news). 73443 news saved totally.\n",
            "05-03-2021 06:14:26 - LentaParser - INFO @ https://lenta.ru/news/2020/08/02 processed (119 news). 73562 news saved totally.\n",
            "05-03-2021 06:14:44 - LentaParser - INFO @ https://lenta.ru/news/2020/08/03 processed (269 news). 73831 news saved totally.\n",
            "05-03-2021 06:15:04 - LentaParser - INFO @ https://lenta.ru/news/2020/08/04 processed (328 news). 74159 news saved totally.\n",
            "05-03-2021 06:15:24 - LentaParser - INFO @ https://lenta.ru/news/2020/08/05 processed (322 news). 74481 news saved totally.\n",
            "05-03-2021 06:15:40 - LentaParser - INFO @ https://lenta.ru/news/2020/08/06 processed (283 news). 74764 news saved totally.\n",
            "05-03-2021 06:16:00 - LentaParser - INFO @ https://lenta.ru/news/2020/08/07 processed (293 news). 75057 news saved totally.\n",
            "05-03-2021 06:16:08 - LentaParser - INFO @ https://lenta.ru/news/2020/08/08 processed (121 news). 75178 news saved totally.\n",
            "05-03-2021 06:16:20 - LentaParser - INFO @ https://lenta.ru/news/2020/08/09 processed (129 news). 75307 news saved totally.\n",
            "05-03-2021 06:16:38 - LentaParser - INFO @ https://lenta.ru/news/2020/08/10 processed (311 news). 75618 news saved totally.\n",
            "05-03-2021 06:16:59 - LentaParser - INFO @ https://lenta.ru/news/2020/08/11 processed (326 news). 75944 news saved totally.\n",
            "05-03-2021 06:17:17 - LentaParser - INFO @ https://lenta.ru/news/2020/08/12 processed (297 news). 76241 news saved totally.\n",
            "05-03-2021 06:17:37 - LentaParser - INFO @ https://lenta.ru/news/2020/08/13 processed (291 news). 76532 news saved totally.\n",
            "05-03-2021 06:17:55 - LentaParser - INFO @ https://lenta.ru/news/2020/08/14 processed (298 news). 76830 news saved totally.\n",
            "05-03-2021 06:18:06 - LentaParser - INFO @ https://lenta.ru/news/2020/08/15 processed (128 news). 76958 news saved totally.\n",
            "05-03-2021 06:18:14 - LentaParser - INFO @ https://lenta.ru/news/2020/08/16 processed (129 news). 77087 news saved totally.\n",
            "05-03-2021 06:18:32 - LentaParser - INFO @ https://lenta.ru/news/2020/08/17 processed (294 news). 77381 news saved totally.\n",
            "05-03-2021 06:18:51 - LentaParser - INFO @ https://lenta.ru/news/2020/08/18 processed (316 news). 77697 news saved totally.\n",
            "05-03-2021 06:19:13 - LentaParser - INFO @ https://lenta.ru/news/2020/08/19 processed (302 news). 77999 news saved totally.\n",
            "05-03-2021 06:19:32 - LentaParser - INFO @ https://lenta.ru/news/2020/08/20 processed (295 news). 78294 news saved totally.\n",
            "05-03-2021 06:19:38 - LentaParser - ERROR @ Cannot fetch https://lenta.ru/news/2020/08/21/coronavirusnewinfo/: 404, message='Not Found', url=URL('https://lenta.ru/news/2020/08/21/coronavirusnewinfo/')\n",
            "05-03-2021 06:19:51 - LentaParser - INFO @ https://lenta.ru/news/2020/08/21 processed (314 news). 78608 news saved totally.\n",
            "05-03-2021 06:19:59 - LentaParser - INFO @ https://lenta.ru/news/2020/08/22 processed (123 news). 78731 news saved totally.\n",
            "05-03-2021 06:20:08 - LentaParser - INFO @ https://lenta.ru/news/2020/08/23 processed (111 news). 78842 news saved totally.\n",
            "05-03-2021 06:20:28 - LentaParser - INFO @ https://lenta.ru/news/2020/08/24 processed (287 news). 79129 news saved totally.\n",
            "05-03-2021 06:20:47 - LentaParser - INFO @ https://lenta.ru/news/2020/08/25 processed (299 news). 79428 news saved totally.\n",
            "05-03-2021 06:21:06 - LentaParser - INFO @ https://lenta.ru/news/2020/08/26 processed (301 news). 79729 news saved totally.\n",
            "05-03-2021 06:21:23 - LentaParser - INFO @ https://lenta.ru/news/2020/08/27 processed (285 news). 80014 news saved totally.\n",
            "05-03-2021 06:21:42 - LentaParser - INFO @ https://lenta.ru/news/2020/08/28 processed (278 news). 80292 news saved totally.\n",
            "05-03-2021 06:21:51 - LentaParser - INFO @ https://lenta.ru/news/2020/08/29 processed (137 news). 80429 news saved totally.\n",
            "05-03-2021 06:21:58 - LentaParser - INFO @ https://lenta.ru/news/2020/08/30 processed (124 news). 80553 news saved totally.\n",
            "05-03-2021 06:22:17 - LentaParser - INFO @ https://lenta.ru/news/2020/08/31 processed (269 news). 80822 news saved totally.\n",
            "05-03-2021 06:22:39 - LentaParser - INFO @ https://lenta.ru/news/2020/09/01 processed (305 news). 81127 news saved totally.\n",
            "05-03-2021 06:22:58 - LentaParser - INFO @ https://lenta.ru/news/2020/09/02 processed (315 news). 81442 news saved totally.\n",
            "05-03-2021 06:23:20 - LentaParser - INFO @ https://lenta.ru/news/2020/09/03 processed (326 news). 81768 news saved totally.\n",
            "05-03-2021 06:23:38 - LentaParser - INFO @ https://lenta.ru/news/2020/09/04 processed (299 news). 82067 news saved totally.\n",
            "05-03-2021 06:23:46 - LentaParser - INFO @ https://lenta.ru/news/2020/09/05 processed (111 news). 82178 news saved totally.\n",
            "05-03-2021 06:23:53 - LentaParser - INFO @ https://lenta.ru/news/2020/09/06 processed (113 news). 82291 news saved totally.\n",
            "05-03-2021 06:24:10 - LentaParser - INFO @ https://lenta.ru/news/2020/09/07 processed (282 news). 82573 news saved totally.\n",
            "05-03-2021 06:24:30 - LentaParser - INFO @ https://lenta.ru/news/2020/09/08 processed (325 news). 82898 news saved totally.\n",
            "05-03-2021 06:24:50 - LentaParser - INFO @ https://lenta.ru/news/2020/09/09 processed (321 news). 83219 news saved totally.\n",
            "05-03-2021 06:25:09 - LentaParser - INFO @ https://lenta.ru/news/2020/09/10 processed (306 news). 83525 news saved totally.\n",
            "05-03-2021 06:25:28 - LentaParser - INFO @ https://lenta.ru/news/2020/09/11 processed (303 news). 83828 news saved totally.\n",
            "05-03-2021 06:25:37 - LentaParser - INFO @ https://lenta.ru/news/2020/09/12 processed (118 news). 83946 news saved totally.\n",
            "05-03-2021 06:25:46 - LentaParser - INFO @ https://lenta.ru/news/2020/09/13 processed (125 news). 84071 news saved totally.\n",
            "05-03-2021 06:26:03 - LentaParser - INFO @ https://lenta.ru/news/2020/09/14 processed (300 news). 84371 news saved totally.\n",
            "05-03-2021 06:26:22 - LentaParser - INFO @ https://lenta.ru/news/2020/09/15 processed (318 news). 84689 news saved totally.\n",
            "05-03-2021 06:26:43 - LentaParser - INFO @ https://lenta.ru/news/2020/09/16 processed (320 news). 85009 news saved totally.\n",
            "05-03-2021 06:27:01 - LentaParser - INFO @ https://lenta.ru/news/2020/09/17 processed (306 news). 85315 news saved totally.\n",
            "05-03-2021 06:27:19 - LentaParser - INFO @ https://lenta.ru/news/2020/09/18 processed (292 news). 85607 news saved totally.\n",
            "05-03-2021 06:27:28 - LentaParser - INFO @ https://lenta.ru/news/2020/09/19 processed (135 news). 85742 news saved totally.\n",
            "05-03-2021 06:27:35 - LentaParser - INFO @ https://lenta.ru/news/2020/09/20 processed (113 news). 85855 news saved totally.\n",
            "05-03-2021 06:27:53 - LentaParser - INFO @ https://lenta.ru/news/2020/09/21 processed (306 news). 86161 news saved totally.\n",
            "05-03-2021 06:28:12 - LentaParser - INFO @ https://lenta.ru/news/2020/09/22 processed (316 news). 86477 news saved totally.\n",
            "05-03-2021 06:28:34 - LentaParser - INFO @ https://lenta.ru/news/2020/09/23 processed (330 news). 86807 news saved totally.\n",
            "05-03-2021 06:28:54 - LentaParser - INFO @ https://lenta.ru/news/2020/09/24 processed (290 news). 87097 news saved totally.\n",
            "05-03-2021 06:29:13 - LentaParser - INFO @ https://lenta.ru/news/2020/09/25 processed (315 news). 87412 news saved totally.\n",
            "05-03-2021 06:29:21 - LentaParser - INFO @ https://lenta.ru/news/2020/09/26 processed (111 news). 87523 news saved totally.\n",
            "05-03-2021 06:29:28 - LentaParser - INFO @ https://lenta.ru/news/2020/09/27 processed (113 news). 87636 news saved totally.\n",
            "05-03-2021 06:29:52 - LentaParser - INFO @ https://lenta.ru/news/2020/09/28 processed (305 news). 87941 news saved totally.\n",
            "05-03-2021 06:30:13 - LentaParser - INFO @ https://lenta.ru/news/2020/09/29 processed (304 news). 88245 news saved totally.\n",
            "05-03-2021 06:30:35 - LentaParser - INFO @ https://lenta.ru/news/2020/09/30 processed (304 news). 88549 news saved totally.\n",
            "05-03-2021 06:30:53 - LentaParser - INFO @ https://lenta.ru/news/2020/10/01 processed (313 news). 88862 news saved totally.\n",
            "05-03-2021 06:31:14 - LentaParser - INFO @ https://lenta.ru/news/2020/10/02 processed (301 news). 89163 news saved totally.\n",
            "05-03-2021 06:31:22 - LentaParser - INFO @ https://lenta.ru/news/2020/10/03 processed (130 news). 89293 news saved totally.\n",
            "05-03-2021 06:31:29 - LentaParser - INFO @ https://lenta.ru/news/2020/10/04 processed (117 news). 89410 news saved totally.\n",
            "05-03-2021 06:31:48 - LentaParser - INFO @ https://lenta.ru/news/2020/10/05 processed (312 news). 89722 news saved totally.\n",
            "05-03-2021 06:32:09 - LentaParser - INFO @ https://lenta.ru/news/2020/10/06 processed (335 news). 90057 news saved totally.\n",
            "05-03-2021 06:32:28 - LentaParser - INFO @ https://lenta.ru/news/2020/10/07 processed (331 news). 90388 news saved totally.\n",
            "05-03-2021 06:32:46 - LentaParser - INFO @ https://lenta.ru/news/2020/10/08 processed (290 news). 90678 news saved totally.\n",
            "05-03-2021 06:33:04 - LentaParser - INFO @ https://lenta.ru/news/2020/10/09 processed (291 news). 90969 news saved totally.\n",
            "05-03-2021 06:33:17 - LentaParser - INFO @ https://lenta.ru/news/2020/10/10 processed (128 news). 91097 news saved totally.\n",
            "05-03-2021 06:33:24 - LentaParser - INFO @ https://lenta.ru/news/2020/10/11 processed (104 news). 91201 news saved totally.\n",
            "05-03-2021 06:33:41 - LentaParser - INFO @ https://lenta.ru/news/2020/10/12 processed (286 news). 91487 news saved totally.\n",
            "05-03-2021 06:33:58 - LentaParser - INFO @ https://lenta.ru/news/2020/10/13 processed (306 news). 91793 news saved totally.\n",
            "05-03-2021 06:34:21 - LentaParser - INFO @ https://lenta.ru/news/2020/10/14 processed (299 news). 92092 news saved totally.\n",
            "05-03-2021 06:34:40 - LentaParser - INFO @ https://lenta.ru/news/2020/10/15 processed (309 news). 92401 news saved totally.\n",
            "05-03-2021 06:34:57 - LentaParser - INFO @ https://lenta.ru/news/2020/10/16 processed (282 news). 92683 news saved totally.\n",
            "05-03-2021 06:35:04 - LentaParser - INFO @ https://lenta.ru/news/2020/10/17 processed (105 news). 92788 news saved totally.\n",
            "05-03-2021 06:35:13 - LentaParser - INFO @ https://lenta.ru/news/2020/10/18 processed (115 news). 92903 news saved totally.\n",
            "05-03-2021 06:35:32 - LentaParser - INFO @ https://lenta.ru/news/2020/10/19 processed (279 news). 93182 news saved totally.\n",
            "05-03-2021 06:35:52 - LentaParser - INFO @ https://lenta.ru/news/2020/10/20 processed (311 news). 93493 news saved totally.\n",
            "05-03-2021 06:36:11 - LentaParser - INFO @ https://lenta.ru/news/2020/10/21 processed (311 news). 93804 news saved totally.\n",
            "05-03-2021 06:36:32 - LentaParser - INFO @ https://lenta.ru/news/2020/10/22 processed (330 news). 94134 news saved totally.\n",
            "05-03-2021 06:36:52 - LentaParser - INFO @ https://lenta.ru/news/2020/10/23 processed (303 news). 94437 news saved totally.\n",
            "05-03-2021 06:37:04 - LentaParser - INFO @ https://lenta.ru/news/2020/10/24 processed (145 news). 94582 news saved totally.\n",
            "05-03-2021 06:37:13 - LentaParser - INFO @ https://lenta.ru/news/2020/10/25 processed (140 news). 94722 news saved totally.\n",
            "05-03-2021 06:37:28 - LentaParser - INFO @ https://lenta.ru/news/2020/10/26 processed (267 news). 94989 news saved totally.\n",
            "05-03-2021 06:37:49 - LentaParser - INFO @ https://lenta.ru/news/2020/10/27 processed (317 news). 95306 news saved totally.\n",
            "05-03-2021 06:38:08 - LentaParser - INFO @ https://lenta.ru/news/2020/10/28 processed (310 news). 95616 news saved totally.\n",
            "05-03-2021 06:38:32 - LentaParser - INFO @ https://lenta.ru/news/2020/10/29 processed (315 news). 95931 news saved totally.\n",
            "05-03-2021 06:38:51 - LentaParser - INFO @ https://lenta.ru/news/2020/10/30 processed (311 news). 96242 news saved totally.\n",
            "05-03-2021 06:38:58 - LentaParser - INFO @ https://lenta.ru/news/2020/10/31 processed (116 news). 96358 news saved totally.\n",
            "05-03-2021 06:39:05 - LentaParser - INFO @ https://lenta.ru/news/2020/11/01 processed (107 news). 96465 news saved totally.\n",
            "05-03-2021 06:39:22 - LentaParser - INFO @ https://lenta.ru/news/2020/11/02 processed (300 news). 96765 news saved totally.\n",
            "05-03-2021 06:39:41 - LentaParser - INFO @ https://lenta.ru/news/2020/11/03 processed (337 news). 97102 news saved totally.\n",
            "05-03-2021 06:39:51 - LentaParser - INFO @ https://lenta.ru/news/2020/11/04 processed (169 news). 97271 news saved totally.\n",
            "05-03-2021 06:40:07 - LentaParser - INFO @ https://lenta.ru/news/2020/11/05 processed (288 news). 97559 news saved totally.\n",
            "05-03-2021 06:40:32 - LentaParser - INFO @ https://lenta.ru/news/2020/11/06 processed (302 news). 97861 news saved totally.\n",
            "05-03-2021 06:40:42 - LentaParser - INFO @ https://lenta.ru/news/2020/11/07 processed (124 news). 97985 news saved totally.\n",
            "05-03-2021 06:40:52 - LentaParser - INFO @ https://lenta.ru/news/2020/11/08 processed (120 news). 98105 news saved totally.\n",
            "05-03-2021 06:41:10 - LentaParser - INFO @ https://lenta.ru/news/2020/11/09 processed (306 news). 98411 news saved totally.\n",
            "05-03-2021 06:41:34 - LentaParser - INFO @ https://lenta.ru/news/2020/11/10 processed (322 news). 98733 news saved totally.\n",
            "05-03-2021 06:41:57 - LentaParser - INFO @ https://lenta.ru/news/2020/11/11 processed (325 news). 99058 news saved totally.\n",
            "05-03-2021 06:42:15 - LentaParser - INFO @ https://lenta.ru/news/2020/11/12 processed (304 news). 99362 news saved totally.\n",
            "05-03-2021 06:42:35 - LentaParser - INFO @ https://lenta.ru/news/2020/11/13 processed (320 news). 99682 news saved totally.\n",
            "05-03-2021 06:42:47 - LentaParser - INFO @ https://lenta.ru/news/2020/11/14 processed (147 news). 99829 news saved totally.\n",
            "05-03-2021 06:42:54 - LentaParser - INFO @ https://lenta.ru/news/2020/11/15 processed (121 news). 99950 news saved totally.\n",
            "05-03-2021 06:43:11 - LentaParser - INFO @ https://lenta.ru/news/2020/11/16 processed (295 news). 100245 news saved totally.\n",
            "05-03-2021 06:43:33 - LentaParser - INFO @ https://lenta.ru/news/2020/11/17 processed (316 news). 100561 news saved totally.\n",
            "05-03-2021 06:43:51 - LentaParser - INFO @ https://lenta.ru/news/2020/11/18 processed (300 news). 100861 news saved totally.\n",
            "05-03-2021 06:44:09 - LentaParser - INFO @ https://lenta.ru/news/2020/11/19 processed (302 news). 101163 news saved totally.\n",
            "05-03-2021 06:44:27 - LentaParser - INFO @ https://lenta.ru/news/2020/11/20 processed (327 news). 101490 news saved totally.\n",
            "05-03-2021 06:44:36 - LentaParser - INFO @ https://lenta.ru/news/2020/11/21 processed (108 news). 101598 news saved totally.\n",
            "05-03-2021 06:44:47 - LentaParser - INFO @ https://lenta.ru/news/2020/11/22 processed (120 news). 101718 news saved totally.\n",
            "05-03-2021 06:45:05 - LentaParser - INFO @ https://lenta.ru/news/2020/11/23 processed (308 news). 102026 news saved totally.\n",
            "05-03-2021 06:45:28 - LentaParser - INFO @ https://lenta.ru/news/2020/11/24 processed (346 news). 102372 news saved totally.\n",
            "05-03-2021 06:45:51 - LentaParser - INFO @ https://lenta.ru/news/2020/11/25 processed (323 news). 102695 news saved totally.\n",
            "05-03-2021 06:46:11 - LentaParser - INFO @ https://lenta.ru/news/2020/11/26 processed (304 news). 102999 news saved totally.\n",
            "05-03-2021 06:46:31 - LentaParser - INFO @ https://lenta.ru/news/2020/11/27 processed (294 news). 103293 news saved totally.\n",
            "05-03-2021 06:46:38 - LentaParser - INFO @ https://lenta.ru/news/2020/11/28 processed (109 news). 103402 news saved totally.\n",
            "05-03-2021 06:46:48 - LentaParser - INFO @ https://lenta.ru/news/2020/11/29 processed (130 news). 103532 news saved totally.\n",
            "05-03-2021 06:47:06 - LentaParser - INFO @ https://lenta.ru/news/2020/11/30 processed (292 news). 103824 news saved totally.\n",
            "05-03-2021 06:47:27 - LentaParser - INFO @ https://lenta.ru/news/2020/12/01 processed (315 news). 104139 news saved totally.\n",
            "05-03-2021 06:47:48 - LentaParser - INFO @ https://lenta.ru/news/2020/12/02 processed (353 news). 104492 news saved totally.\n",
            "05-03-2021 06:48:11 - LentaParser - INFO @ https://lenta.ru/news/2020/12/03 processed (316 news). 104808 news saved totally.\n",
            "05-03-2021 06:48:30 - LentaParser - INFO @ https://lenta.ru/news/2020/12/04 processed (309 news). 105117 news saved totally.\n",
            "05-03-2021 06:48:39 - LentaParser - INFO @ https://lenta.ru/news/2020/12/05 processed (141 news). 105258 news saved totally.\n",
            "05-03-2021 06:48:48 - LentaParser - INFO @ https://lenta.ru/news/2020/12/06 processed (130 news). 105388 news saved totally.\n",
            "05-03-2021 06:49:06 - LentaParser - INFO @ https://lenta.ru/news/2020/12/07 processed (292 news). 105680 news saved totally.\n",
            "05-03-2021 06:49:24 - LentaParser - INFO @ https://lenta.ru/news/2020/12/08 processed (305 news). 105985 news saved totally.\n",
            "05-03-2021 06:49:45 - LentaParser - INFO @ https://lenta.ru/news/2020/12/09 processed (328 news). 106313 news saved totally.\n",
            "05-03-2021 06:50:01 - LentaParser - INFO @ https://lenta.ru/news/2020/12/10 processed (292 news). 106605 news saved totally.\n",
            "05-03-2021 06:50:19 - LentaParser - INFO @ https://lenta.ru/news/2020/12/11 processed (315 news). 106920 news saved totally.\n",
            "05-03-2021 06:50:28 - LentaParser - INFO @ https://lenta.ru/news/2020/12/12 processed (132 news). 107052 news saved totally.\n",
            "05-03-2021 06:50:37 - LentaParser - INFO @ https://lenta.ru/news/2020/12/13 processed (117 news). 107169 news saved totally.\n",
            "05-03-2021 06:50:55 - LentaParser - INFO @ https://lenta.ru/news/2020/12/14 processed (308 news). 107477 news saved totally.\n",
            "05-03-2021 06:51:17 - LentaParser - INFO @ https://lenta.ru/news/2020/12/15 processed (314 news). 107791 news saved totally.\n",
            "05-03-2021 06:51:37 - LentaParser - INFO @ https://lenta.ru/news/2020/12/16 processed (316 news). 108107 news saved totally.\n",
            "05-03-2021 06:51:59 - LentaParser - INFO @ https://lenta.ru/news/2020/12/17 processed (362 news). 108469 news saved totally.\n",
            "05-03-2021 06:52:19 - LentaParser - INFO @ https://lenta.ru/news/2020/12/18 processed (323 news). 108792 news saved totally.\n",
            "05-03-2021 06:52:27 - LentaParser - INFO @ https://lenta.ru/news/2020/12/19 processed (127 news). 108919 news saved totally.\n",
            "05-03-2021 06:52:35 - LentaParser - INFO @ https://lenta.ru/news/2020/12/20 processed (134 news). 109053 news saved totally.\n",
            "05-03-2021 06:52:56 - LentaParser - INFO @ https://lenta.ru/news/2020/12/21 processed (322 news). 109375 news saved totally.\n",
            "05-03-2021 06:53:14 - LentaParser - INFO @ https://lenta.ru/news/2020/12/22 processed (324 news). 109699 news saved totally.\n",
            "05-03-2021 06:53:37 - LentaParser - INFO @ https://lenta.ru/news/2020/12/23 processed (323 news). 110022 news saved totally.\n",
            "05-03-2021 06:53:57 - LentaParser - INFO @ https://lenta.ru/news/2020/12/24 processed (316 news). 110338 news saved totally.\n",
            "05-03-2021 06:54:16 - LentaParser - INFO @ https://lenta.ru/news/2020/12/25 processed (313 news). 110651 news saved totally.\n",
            "05-03-2021 06:54:24 - LentaParser - INFO @ https://lenta.ru/news/2020/12/26 processed (132 news). 110783 news saved totally.\n",
            "05-03-2021 06:54:31 - LentaParser - INFO @ https://lenta.ru/news/2020/12/27 processed (114 news). 110897 news saved totally.\n",
            "05-03-2021 06:54:50 - LentaParser - INFO @ https://lenta.ru/news/2020/12/28 processed (311 news). 111208 news saved totally.\n",
            "05-03-2021 06:55:12 - LentaParser - INFO @ https://lenta.ru/news/2020/12/29 processed (316 news). 111524 news saved totally.\n",
            "05-03-2021 06:55:33 - LentaParser - INFO @ https://lenta.ru/news/2020/12/30 processed (297 news). 111821 news saved totally.\n",
            "05-03-2021 06:55:43 - LentaParser - INFO @ https://lenta.ru/news/2020/12/31 processed (120 news). 111941 news saved totally.\n",
            "05-03-2021 06:55:49 - LentaParser - INFO @ https://lenta.ru/news/2021/01/01 processed (90 news). 112031 news saved totally.\n",
            "05-03-2021 06:55:58 - LentaParser - INFO @ https://lenta.ru/news/2021/01/02 processed (122 news). 112153 news saved totally.\n",
            "05-03-2021 06:56:05 - LentaParser - INFO @ https://lenta.ru/news/2021/01/03 processed (109 news). 112262 news saved totally.\n",
            "05-03-2021 06:56:15 - LentaParser - INFO @ https://lenta.ru/news/2021/01/04 processed (117 news). 112379 news saved totally.\n",
            "05-03-2021 06:56:24 - LentaParser - INFO @ https://lenta.ru/news/2021/01/05 processed (131 news). 112510 news saved totally.\n",
            "05-03-2021 06:56:31 - LentaParser - INFO @ https://lenta.ru/news/2021/01/06 processed (123 news). 112633 news saved totally.\n",
            "05-03-2021 06:56:39 - LentaParser - INFO @ https://lenta.ru/news/2021/01/07 processed (110 news). 112743 news saved totally.\n",
            "05-03-2021 06:56:48 - LentaParser - INFO @ https://lenta.ru/news/2021/01/08 processed (119 news). 112862 news saved totally.\n",
            "05-03-2021 06:56:54 - LentaParser - INFO @ https://lenta.ru/news/2021/01/09 processed (102 news). 112964 news saved totally.\n",
            "05-03-2021 06:57:02 - LentaParser - INFO @ https://lenta.ru/news/2021/01/10 processed (113 news). 113077 news saved totally.\n",
            "05-03-2021 06:57:21 - LentaParser - INFO @ https://lenta.ru/news/2021/01/11 processed (302 news). 113379 news saved totally.\n",
            "05-03-2021 06:57:42 - LentaParser - INFO @ https://lenta.ru/news/2021/01/12 processed (308 news). 113687 news saved totally.\n",
            "05-03-2021 06:58:00 - LentaParser - INFO @ https://lenta.ru/news/2021/01/13 processed (302 news). 113989 news saved totally.\n",
            "05-03-2021 06:58:20 - LentaParser - INFO @ https://lenta.ru/news/2021/01/14 processed (324 news). 114313 news saved totally.\n",
            "05-03-2021 06:58:38 - LentaParser - INFO @ https://lenta.ru/news/2021/01/15 processed (306 news). 114619 news saved totally.\n",
            "05-03-2021 06:58:47 - LentaParser - INFO @ https://lenta.ru/news/2021/01/16 processed (126 news). 114745 news saved totally.\n",
            "05-03-2021 06:58:54 - LentaParser - INFO @ https://lenta.ru/news/2021/01/17 processed (119 news). 114864 news saved totally.\n",
            "05-03-2021 06:59:09 - LentaParser - INFO @ https://lenta.ru/news/2021/01/18 processed (261 news). 115125 news saved totally.\n",
            "05-03-2021 06:59:26 - LentaParser - INFO @ https://lenta.ru/news/2021/01/19 processed (287 news). 115412 news saved totally.\n",
            "05-03-2021 06:59:44 - LentaParser - INFO @ https://lenta.ru/news/2021/01/20 processed (325 news). 115737 news saved totally.\n",
            "05-03-2021 07:00:03 - LentaParser - INFO @ https://lenta.ru/news/2021/01/21 processed (300 news). 116037 news saved totally.\n",
            "05-03-2021 07:00:20 - LentaParser - INFO @ https://lenta.ru/news/2021/01/22 processed (274 news). 116311 news saved totally.\n",
            "05-03-2021 07:00:30 - LentaParser - INFO @ https://lenta.ru/news/2021/01/23 processed (142 news). 116453 news saved totally.\n",
            "05-03-2021 07:00:42 - LentaParser - INFO @ https://lenta.ru/news/2021/01/24 processed (126 news). 116579 news saved totally.\n",
            "05-03-2021 07:01:00 - LentaParser - INFO @ https://lenta.ru/news/2021/01/25 processed (276 news). 116855 news saved totally.\n",
            "05-03-2021 07:01:16 - LentaParser - INFO @ https://lenta.ru/news/2021/01/26 processed (297 news). 117152 news saved totally.\n",
            "05-03-2021 07:01:37 - LentaParser - INFO @ https://lenta.ru/news/2021/01/27 processed (298 news). 117450 news saved totally.\n",
            "05-03-2021 07:01:57 - LentaParser - INFO @ https://lenta.ru/news/2021/01/28 processed (313 news). 117763 news saved totally.\n",
            "05-03-2021 07:02:14 - LentaParser - INFO @ https://lenta.ru/news/2021/01/29 processed (284 news). 118047 news saved totally.\n",
            "05-03-2021 07:02:22 - LentaParser - INFO @ https://lenta.ru/news/2021/01/30 processed (123 news). 118170 news saved totally.\n",
            "05-03-2021 07:02:30 - LentaParser - INFO @ https://lenta.ru/news/2021/01/31 processed (115 news). 118285 news saved totally.\n",
            "05-03-2021 07:02:48 - LentaParser - INFO @ https://lenta.ru/news/2021/02/01 processed (287 news). 118572 news saved totally.\n",
            "05-03-2021 07:03:06 - LentaParser - INFO @ https://lenta.ru/news/2021/02/02 processed (301 news). 118873 news saved totally.\n",
            "05-03-2021 07:03:26 - LentaParser - INFO @ https://lenta.ru/news/2021/02/03 processed (305 news). 119178 news saved totally.\n",
            "05-03-2021 07:03:42 - LentaParser - INFO @ https://lenta.ru/news/2021/02/04 processed (293 news). 119471 news saved totally.\n",
            "05-03-2021 07:04:01 - LentaParser - INFO @ https://lenta.ru/news/2021/02/05 processed (311 news). 119782 news saved totally.\n",
            "05-03-2021 07:04:12 - LentaParser - INFO @ https://lenta.ru/news/2021/02/06 processed (125 news). 119907 news saved totally.\n",
            "05-03-2021 07:04:22 - LentaParser - INFO @ https://lenta.ru/news/2021/02/07 processed (124 news). 120031 news saved totally.\n",
            "05-03-2021 07:04:36 - LentaParser - INFO @ https://lenta.ru/news/2021/02/08 processed (274 news). 120305 news saved totally.\n",
            "05-03-2021 07:04:55 - LentaParser - INFO @ https://lenta.ru/news/2021/02/09 processed (301 news). 120606 news saved totally.\n",
            "05-03-2021 07:05:14 - LentaParser - INFO @ https://lenta.ru/news/2021/02/10 processed (323 news). 120929 news saved totally.\n",
            "05-03-2021 07:05:31 - LentaParser - INFO @ https://lenta.ru/news/2021/02/11 processed (301 news). 121230 news saved totally.\n",
            "05-03-2021 07:05:53 - LentaParser - INFO @ https://lenta.ru/news/2021/02/12 processed (313 news). 121543 news saved totally.\n",
            "05-03-2021 07:06:02 - LentaParser - INFO @ https://lenta.ru/news/2021/02/13 processed (134 news). 121677 news saved totally.\n",
            "05-03-2021 07:06:10 - LentaParser - INFO @ https://lenta.ru/news/2021/02/14 processed (132 news). 121809 news saved totally.\n",
            "05-03-2021 07:06:28 - LentaParser - INFO @ https://lenta.ru/news/2021/02/15 processed (301 news). 122110 news saved totally.\n",
            "05-03-2021 07:06:46 - LentaParser - INFO @ https://lenta.ru/news/2021/02/16 processed (302 news). 122412 news saved totally.\n",
            "05-03-2021 07:07:03 - LentaParser - INFO @ https://lenta.ru/news/2021/02/17 processed (293 news). 122705 news saved totally.\n",
            "05-03-2021 07:07:22 - LentaParser - INFO @ https://lenta.ru/news/2021/02/18 processed (304 news). 123009 news saved totally.\n",
            "05-03-2021 07:07:41 - LentaParser - INFO @ https://lenta.ru/news/2021/02/19 processed (306 news). 123315 news saved totally.\n",
            "05-03-2021 07:08:01 - LentaParser - INFO @ https://lenta.ru/news/2021/02/20 processed (299 news). 123614 news saved totally.\n",
            "05-03-2021 07:08:09 - LentaParser - INFO @ https://lenta.ru/news/2021/02/21 processed (142 news). 123756 news saved totally.\n",
            "05-03-2021 07:08:17 - LentaParser - INFO @ https://lenta.ru/news/2021/02/22 processed (136 news). 123892 news saved totally.\n",
            "05-03-2021 07:08:28 - LentaParser - INFO @ https://lenta.ru/news/2021/02/23 processed (132 news). 124024 news saved totally.\n",
            "05-03-2021 07:08:45 - LentaParser - INFO @ https://lenta.ru/news/2021/02/24 processed (308 news). 124332 news saved totally.\n",
            "05-03-2021 07:09:02 - LentaParser - INFO @ https://lenta.ru/news/2021/02/25 processed (322 news). 124654 news saved totally.\n",
            "05-03-2021 07:09:21 - LentaParser - INFO @ https://lenta.ru/news/2021/02/26 processed (320 news). 124974 news saved totally.\n",
            "05-03-2021 07:09:31 - LentaParser - INFO @ https://lenta.ru/news/2021/02/27 processed (120 news). 125094 news saved totally.\n",
            "05-03-2021 07:09:39 - LentaParser - INFO @ https://lenta.ru/news/2021/02/28 processed (135 news). 125229 news saved totally.\n",
            "05-03-2021 07:09:56 - LentaParser - INFO @ https://lenta.ru/news/2021/03/01 processed (297 news). 125526 news saved totally.\n",
            "05-03-2021 07:10:15 - LentaParser - INFO @ https://lenta.ru/news/2021/03/02 processed (311 news). 125837 news saved totally.\n",
            "05-03-2021 07:10:33 - LentaParser - INFO @ https://lenta.ru/news/2021/03/03 processed (316 news). 126153 news saved totally.\n",
            "05-03-2021 07:10:49 - LentaParser - INFO @ https://lenta.ru/news/2021/03/04 processed (309 news). 126462 news saved totally.\n",
            "05-03-2021 07:10:55 - LentaParser - INFO @ https://lenta.ru/news/2021/03/05 processed (72 news). 126534 news saved totally.\n",
            "05-03-2021 07:10:56 - LentaParser - INFO @ 126534 news saved at lenta-ru-news.csv\n"
          ],
          "name": "stdout"
        }
      ]
    },
    {
      "cell_type": "code",
      "metadata": {
        "id": "pVrNrq8tifpe"
      },
      "source": [
        "import pandas as pd\r\n",
        "import numpy as np\r\n",
        "from tqdm.auto import tqdm, trange"
      ],
      "execution_count": 14,
      "outputs": []
    },
    {
      "cell_type": "code",
      "metadata": {
        "id": "JEAY8JKiibJk"
      },
      "source": [
        "data = pd.read_csv('lenta-ru-news.csv')"
      ],
      "execution_count": 15,
      "outputs": []
    },
    {
      "cell_type": "code",
      "metadata": {
        "id": "jCIDrFsuylSj",
        "colab": {
          "base_uri": "https://localhost:8080/"
        },
        "outputId": "acd826c4-3be0-4df5-97a9-72aafa8ce33e"
      },
      "source": [
        "data.shape"
      ],
      "execution_count": 16,
      "outputs": [
        {
          "output_type": "execute_result",
          "data": {
            "text/plain": [
              "(126534, 5)"
            ]
          },
          "metadata": {
            "tags": []
          },
          "execution_count": 16
        }
      ]
    },
    {
      "cell_type": "code",
      "metadata": {
        "id": "LL_M_1_ojud1"
      },
      "source": [
        "data = data[:120000]"
      ],
      "execution_count": 27,
      "outputs": []
    },
    {
      "cell_type": "code",
      "metadata": {
        "id": "koP7z-m3yUVa",
        "colab": {
          "base_uri": "https://localhost:8080/",
          "height": 204
        },
        "outputId": "aeea4765-b48b-4fa6-9717-419ce2700a89"
      },
      "source": [
        "data.head(5)"
      ],
      "execution_count": 28,
      "outputs": [
        {
          "output_type": "execute_result",
          "data": {
            "text/html": [
              "<div>\n",
              "<style scoped>\n",
              "    .dataframe tbody tr th:only-of-type {\n",
              "        vertical-align: middle;\n",
              "    }\n",
              "\n",
              "    .dataframe tbody tr th {\n",
              "        vertical-align: top;\n",
              "    }\n",
              "\n",
              "    .dataframe thead th {\n",
              "        text-align: right;\n",
              "    }\n",
              "</style>\n",
              "<table border=\"1\" class=\"dataframe\">\n",
              "  <thead>\n",
              "    <tr style=\"text-align: right;\">\n",
              "      <th></th>\n",
              "      <th>url</th>\n",
              "      <th>title</th>\n",
              "      <th>text</th>\n",
              "      <th>topic</th>\n",
              "      <th>tags</th>\n",
              "    </tr>\n",
              "  </thead>\n",
              "  <tbody>\n",
              "    <tr>\n",
              "      <th>0</th>\n",
              "      <td>https://lenta.ru/news/2019/08/30/iran/</td>\n",
              "      <td>Иранская космическая ракета взорвалась на косм...</td>\n",
              "      <td>Иранская ракета взорвалась в четверг, 29 авгус...</td>\n",
              "      <td>NaN</td>\n",
              "      <td>Космос</td>\n",
              "    </tr>\n",
              "    <tr>\n",
              "      <th>1</th>\n",
              "      <td>https://lenta.ru/news/2019/08/30/lambo/</td>\n",
              "      <td>Россиянин разбил чужую Lamborghini и попал в б...</td>\n",
              "      <td>В центре Москвы столкнулись Lamborghini и BMW....</td>\n",
              "      <td>NaN</td>\n",
              "      <td>Происшествия</td>\n",
              "    </tr>\n",
              "    <tr>\n",
              "      <th>2</th>\n",
              "      <td>https://lenta.ru/news/2019/08/30/bobkov/</td>\n",
              "      <td>Сделанный своими руками подарок российскому хо...</td>\n",
              "      <td>Фанат нарисовал портрет вратаря омского «Аванг...</td>\n",
              "      <td>NaN</td>\n",
              "      <td>Хоккей</td>\n",
              "    </tr>\n",
              "    <tr>\n",
              "      <th>3</th>\n",
              "      <td>https://lenta.ru/news/2019/08/30/u_nego_lapki/</td>\n",
              "      <td>Робот Федор пожаловался на некомфортные услови...</td>\n",
              "      <td>Антропоморфный робот Skybot F-850, ранее назыв...</td>\n",
              "      <td>NaN</td>\n",
              "      <td>Космос</td>\n",
              "    </tr>\n",
              "    <tr>\n",
              "      <th>4</th>\n",
              "      <td>https://lenta.ru/news/2019/08/30/new_version/</td>\n",
              "      <td>В США назвали новую версию взрыва на полигоне ...</td>\n",
              "      <td>Взрыв на военном полигоне под Северодвинском п...</td>\n",
              "      <td>NaN</td>\n",
              "      <td>Оружие</td>\n",
              "    </tr>\n",
              "  </tbody>\n",
              "</table>\n",
              "</div>"
            ],
            "text/plain": [
              "                                              url  ...          tags\n",
              "0          https://lenta.ru/news/2019/08/30/iran/  ...        Космос\n",
              "1         https://lenta.ru/news/2019/08/30/lambo/  ...  Происшествия\n",
              "2        https://lenta.ru/news/2019/08/30/bobkov/  ...        Хоккей\n",
              "3  https://lenta.ru/news/2019/08/30/u_nego_lapki/  ...        Космос\n",
              "4   https://lenta.ru/news/2019/08/30/new_version/  ...        Оружие\n",
              "\n",
              "[5 rows x 5 columns]"
            ]
          },
          "metadata": {
            "tags": []
          },
          "execution_count": 28
        }
      ]
    },
    {
      "cell_type": "code",
      "metadata": {
        "id": "B--MfPgHis_M",
        "outputId": "c5a824e9-49d9-4cd6-e58f-8ad13a549ddb",
        "colab": {
          "base_uri": "https://localhost:8080/"
        }
      },
      "source": [
        "print(data['tags'].unique(), len(data['tags'].unique()))"
      ],
      "execution_count": 29,
      "outputs": [
        {
          "output_type": "stream",
          "text": [
            "['Космос' 'Происшествия' 'Хоккей' 'Оружие' 'Люди' 'Украина' 'Госэкономика'\n",
            " 'Общество' 'Политика' 'Зимние виды' 'Интернет' 'Кино' 'Квартира'\n",
            " 'Деловой климат' 'Полиция и спецслужбы' 'Все' 'ТВ и радио' 'Явления'\n",
            " 'Гаджеты' 'Белоруссия' 'Регионы' 'Закавказье' 'Конфликты' 'Музыка'\n",
            " 'Культура' 'Coцсети' 'Рынки' 'Мир' 'Криминал' 'Киберпреступность' 'Стиль'\n",
            " nan 'Экономика' 'Следствие и суд' 'Бизнес' 'История' 'Наука' 'Город'\n",
            " 'Техника' 'Социальная сфера' 'Звери' 'События' 'Футбол'\n",
            " 'Английский футбол' 'Авто' 'Бокс и ММА' 'Жизнь' 'Внешний вид' 'Вещи'\n",
            " 'Россия' 'Искусство' 'Преступность' 'Деньги' 'Летние виды' 'Прибалтика'\n",
            " 'Игры' 'Достижения' 'Театр' 'Дача' 'Еда' 'Казахстан' 'Пресса'\n",
            " 'Преступная Россия' 'Молдавия' 'Мнения' 'Фотография' 'Средняя Азия'\n",
            " 'Книги' 'Реклама' 'Движение' 'Вкусы' 'Москва' 'Офис' 'Экология' 'Мемы'\n",
            " 'Вирусные ролики' 'Нацпроекты' 'Выборы' 'Инструменты' 'Туризм' 'Часы'\n",
            " 'Софт' 'Страноведение' 'Вооружение' 'Мировой бизнес' 'Финансы компаний'\n",
            " '69-я параллель'] 87\n"
          ],
          "name": "stdout"
        }
      ]
    },
    {
      "cell_type": "code",
      "metadata": {
        "id": "xxGzvPVNiwyP",
        "outputId": "93edac9a-9587-4499-bc80-751803c8b1a0",
        "colab": {
          "base_uri": "https://localhost:8080/"
        }
      },
      "source": [
        "print(data['topic'].unique(), len(data['topic'].unique()))"
      ],
      "execution_count": 30,
      "outputs": [
        {
          "output_type": "stream",
          "text": [
            "[nan] 1\n"
          ],
          "name": "stdout"
        }
      ]
    },
    {
      "cell_type": "code",
      "metadata": {
        "id": "uPkIVxGGiz7V"
      },
      "source": [
        "topics = ['Путешествия', 'Ценности', 'Мир', 'Наука и техника', 'Экономика']\r\n",
        "news_in_cat_count = 2000"
      ],
      "execution_count": 31,
      "outputs": []
    },
    {
      "cell_type": "code",
      "metadata": {
        "id": "nZ7ulEVIi3Mg",
        "outputId": "d72fe57b-afd1-4b9c-fc55-0c0616a87a50",
        "colab": {
          "base_uri": "https://localhost:8080/",
          "height": 66,
          "referenced_widgets": [
            "2587ec9788a14bbc902394cdb791754f",
            "ce56b61947204eca8b7e1164b62e3a3d",
            "7faaff79eed3440796ea9919bc24f101",
            "48d43998ec464a75a5d462733d4d8fc7",
            "e87195dd53334a069cbdfd0ced08a87c",
            "c62147b47b794264828285493bce1468",
            "5d937c910014467f91065894a8f0e681",
            "6dc2e578536d49ef95b3d0e6f5bf8a87"
          ]
        }
      },
      "source": [
        "df_res = pd.DataFrame()\r\n",
        "\r\n",
        "for topic in tqdm(topics):\r\n",
        "    df_topic = data[data['topic'] == topic][:news_in_cat_count]\r\n",
        "    df_res = df_res.append(df_topic, ignore_index=True)"
      ],
      "execution_count": 32,
      "outputs": [
        {
          "output_type": "display_data",
          "data": {
            "application/vnd.jupyter.widget-view+json": {
              "model_id": "2587ec9788a14bbc902394cdb791754f",
              "version_minor": 0,
              "version_major": 2
            },
            "text/plain": [
              "HBox(children=(FloatProgress(value=0.0, max=5.0), HTML(value='')))"
            ]
          },
          "metadata": {
            "tags": []
          }
        },
        {
          "output_type": "stream",
          "text": [
            "\n"
          ],
          "name": "stdout"
        }
      ]
    },
    {
      "cell_type": "code",
      "metadata": {
        "id": "enilo0Zli6G1",
        "outputId": "a6463ff3-7f04-474f-f1bb-a3b53a149ac7",
        "colab": {
          "base_uri": "https://localhost:8080/"
        }
      },
      "source": [
        "df_res.shape"
      ],
      "execution_count": 33,
      "outputs": [
        {
          "output_type": "execute_result",
          "data": {
            "text/plain": [
              "(0, 5)"
            ]
          },
          "metadata": {
            "tags": []
          },
          "execution_count": 33
        }
      ]
    },
    {
      "cell_type": "code",
      "metadata": {
        "id": "ucgZOXQ8i9qa",
        "outputId": "4db465c2-f9da-4455-c57f-51b847c867f7",
        "colab": {
          "base_uri": "https://localhost:8080/",
          "height": 988
        }
      },
      "source": [
        "import string\r\n",
        "def remove_punctuation(text):\r\n",
        "    return \"\".join([ch if ch not in string.punctuation else ' ' for ch in text])\r\n",
        "\r\n",
        "def remove_numbers(text):\r\n",
        "    return ''.join([i if not i.isdigit() else ' ' for i in text])\r\n",
        "\r\n",
        "import re\r\n",
        "def remove_multiple_spaces(text):\r\n",
        "\treturn re.sub(r'\\s+', ' ', text, flags=re.I)\r\n",
        "\r\n",
        "from nltk.stem import *\r\n",
        "from nltk.corpus import stopwords\r\n",
        "from pymystem3 import Mystem\r\n",
        "from string import punctuation\r\n",
        "mystem = Mystem() \r\n",
        "\r\n",
        "russian_stopwords = stopwords.words(\"russian\")\r\n",
        "russian_stopwords.extend(['…', '«', '»', '...'])\r\n",
        "def lemmatize_text(text):\r\n",
        "    tokens = mystem.lemmatize(text.lower())\r\n",
        "    tokens = [token for token in tokens if token not in russian_stopwords and token != \" \"]\r\n",
        "    text = \" \".join(tokens)\r\n",
        "    return text"
      ],
      "execution_count": 34,
      "outputs": [
        {
          "output_type": "error",
          "ename": "LookupError",
          "evalue": "ignored",
          "traceback": [
            "\u001b[0;31m---------------------------------------------------------------------------\u001b[0m",
            "\u001b[0;31mLookupError\u001b[0m                               Traceback (most recent call last)",
            "\u001b[0;32m/usr/local/lib/python3.7/dist-packages/nltk/corpus/util.py\u001b[0m in \u001b[0;36m__load\u001b[0;34m(self)\u001b[0m\n\u001b[1;32m     79\u001b[0m             \u001b[0;32mexcept\u001b[0m \u001b[0mLookupError\u001b[0m \u001b[0;32mas\u001b[0m \u001b[0me\u001b[0m\u001b[0;34m:\u001b[0m\u001b[0;34m\u001b[0m\u001b[0;34m\u001b[0m\u001b[0m\n\u001b[0;32m---> 80\u001b[0;31m                 \u001b[0;32mtry\u001b[0m\u001b[0;34m:\u001b[0m \u001b[0mroot\u001b[0m \u001b[0;34m=\u001b[0m \u001b[0mnltk\u001b[0m\u001b[0;34m.\u001b[0m\u001b[0mdata\u001b[0m\u001b[0;34m.\u001b[0m\u001b[0mfind\u001b[0m\u001b[0;34m(\u001b[0m\u001b[0;34m'{}/{}'\u001b[0m\u001b[0;34m.\u001b[0m\u001b[0mformat\u001b[0m\u001b[0;34m(\u001b[0m\u001b[0mself\u001b[0m\u001b[0;34m.\u001b[0m\u001b[0msubdir\u001b[0m\u001b[0;34m,\u001b[0m \u001b[0mzip_name\u001b[0m\u001b[0;34m)\u001b[0m\u001b[0;34m)\u001b[0m\u001b[0;34m\u001b[0m\u001b[0;34m\u001b[0m\u001b[0m\n\u001b[0m\u001b[1;32m     81\u001b[0m                 \u001b[0;32mexcept\u001b[0m \u001b[0mLookupError\u001b[0m\u001b[0;34m:\u001b[0m \u001b[0;32mraise\u001b[0m \u001b[0me\u001b[0m\u001b[0;34m\u001b[0m\u001b[0;34m\u001b[0m\u001b[0m\n",
            "\u001b[0;32m/usr/local/lib/python3.7/dist-packages/nltk/data.py\u001b[0m in \u001b[0;36mfind\u001b[0;34m(resource_name, paths)\u001b[0m\n\u001b[1;32m    672\u001b[0m     \u001b[0mresource_not_found\u001b[0m \u001b[0;34m=\u001b[0m \u001b[0;34m'\\n%s\\n%s\\n%s\\n'\u001b[0m \u001b[0;34m%\u001b[0m \u001b[0;34m(\u001b[0m\u001b[0msep\u001b[0m\u001b[0;34m,\u001b[0m \u001b[0mmsg\u001b[0m\u001b[0;34m,\u001b[0m \u001b[0msep\u001b[0m\u001b[0;34m)\u001b[0m\u001b[0;34m\u001b[0m\u001b[0;34m\u001b[0m\u001b[0m\n\u001b[0;32m--> 673\u001b[0;31m     \u001b[0;32mraise\u001b[0m \u001b[0mLookupError\u001b[0m\u001b[0;34m(\u001b[0m\u001b[0mresource_not_found\u001b[0m\u001b[0;34m)\u001b[0m\u001b[0;34m\u001b[0m\u001b[0;34m\u001b[0m\u001b[0m\n\u001b[0m\u001b[1;32m    674\u001b[0m \u001b[0;34m\u001b[0m\u001b[0m\n",
            "\u001b[0;31mLookupError\u001b[0m: \n**********************************************************************\n  Resource \u001b[93mstopwords\u001b[0m not found.\n  Please use the NLTK Downloader to obtain the resource:\n\n  \u001b[31m>>> import nltk\n  >>> nltk.download('stopwords')\n  \u001b[0m\n  Searched in:\n    - '/root/nltk_data'\n    - '/usr/share/nltk_data'\n    - '/usr/local/share/nltk_data'\n    - '/usr/lib/nltk_data'\n    - '/usr/local/lib/nltk_data'\n    - '/usr/nltk_data'\n    - '/usr/lib/nltk_data'\n**********************************************************************\n",
            "\nDuring handling of the above exception, another exception occurred:\n",
            "\u001b[0;31mLookupError\u001b[0m                               Traceback (most recent call last)",
            "\u001b[0;32m<ipython-input-34-4aa17f499731>\u001b[0m in \u001b[0;36m<module>\u001b[0;34m()\u001b[0m\n\u001b[1;32m     16\u001b[0m \u001b[0mmystem\u001b[0m \u001b[0;34m=\u001b[0m \u001b[0mMystem\u001b[0m\u001b[0;34m(\u001b[0m\u001b[0;34m)\u001b[0m\u001b[0;34m\u001b[0m\u001b[0;34m\u001b[0m\u001b[0m\n\u001b[1;32m     17\u001b[0m \u001b[0;34m\u001b[0m\u001b[0m\n\u001b[0;32m---> 18\u001b[0;31m \u001b[0mrussian_stopwords\u001b[0m \u001b[0;34m=\u001b[0m \u001b[0mstopwords\u001b[0m\u001b[0;34m.\u001b[0m\u001b[0mwords\u001b[0m\u001b[0;34m(\u001b[0m\u001b[0;34m\"russian\"\u001b[0m\u001b[0;34m)\u001b[0m\u001b[0;34m\u001b[0m\u001b[0;34m\u001b[0m\u001b[0m\n\u001b[0m\u001b[1;32m     19\u001b[0m \u001b[0mrussian_stopwords\u001b[0m\u001b[0;34m.\u001b[0m\u001b[0mextend\u001b[0m\u001b[0;34m(\u001b[0m\u001b[0;34m[\u001b[0m\u001b[0;34m'…'\u001b[0m\u001b[0;34m,\u001b[0m \u001b[0;34m'«'\u001b[0m\u001b[0;34m,\u001b[0m \u001b[0;34m'»'\u001b[0m\u001b[0;34m,\u001b[0m \u001b[0;34m'...'\u001b[0m\u001b[0;34m]\u001b[0m\u001b[0;34m)\u001b[0m\u001b[0;34m\u001b[0m\u001b[0;34m\u001b[0m\u001b[0m\n\u001b[1;32m     20\u001b[0m \u001b[0;32mdef\u001b[0m \u001b[0mlemmatize_text\u001b[0m\u001b[0;34m(\u001b[0m\u001b[0mtext\u001b[0m\u001b[0;34m)\u001b[0m\u001b[0;34m:\u001b[0m\u001b[0;34m\u001b[0m\u001b[0;34m\u001b[0m\u001b[0m\n",
            "\u001b[0;32m/usr/local/lib/python3.7/dist-packages/nltk/corpus/util.py\u001b[0m in \u001b[0;36m__getattr__\u001b[0;34m(self, attr)\u001b[0m\n\u001b[1;32m    114\u001b[0m             \u001b[0;32mraise\u001b[0m \u001b[0mAttributeError\u001b[0m\u001b[0;34m(\u001b[0m\u001b[0;34m\"LazyCorpusLoader object has no attribute '__bases__'\"\u001b[0m\u001b[0;34m)\u001b[0m\u001b[0;34m\u001b[0m\u001b[0;34m\u001b[0m\u001b[0m\n\u001b[1;32m    115\u001b[0m \u001b[0;34m\u001b[0m\u001b[0m\n\u001b[0;32m--> 116\u001b[0;31m         \u001b[0mself\u001b[0m\u001b[0;34m.\u001b[0m\u001b[0m__load\u001b[0m\u001b[0;34m(\u001b[0m\u001b[0;34m)\u001b[0m\u001b[0;34m\u001b[0m\u001b[0;34m\u001b[0m\u001b[0m\n\u001b[0m\u001b[1;32m    117\u001b[0m         \u001b[0;31m# This looks circular, but its not, since __load() changes our\u001b[0m\u001b[0;34m\u001b[0m\u001b[0;34m\u001b[0m\u001b[0;34m\u001b[0m\u001b[0m\n\u001b[1;32m    118\u001b[0m         \u001b[0;31m# __class__ to something new:\u001b[0m\u001b[0;34m\u001b[0m\u001b[0;34m\u001b[0m\u001b[0;34m\u001b[0m\u001b[0m\n",
            "\u001b[0;32m/usr/local/lib/python3.7/dist-packages/nltk/corpus/util.py\u001b[0m in \u001b[0;36m__load\u001b[0;34m(self)\u001b[0m\n\u001b[1;32m     79\u001b[0m             \u001b[0;32mexcept\u001b[0m \u001b[0mLookupError\u001b[0m \u001b[0;32mas\u001b[0m \u001b[0me\u001b[0m\u001b[0;34m:\u001b[0m\u001b[0;34m\u001b[0m\u001b[0;34m\u001b[0m\u001b[0m\n\u001b[1;32m     80\u001b[0m                 \u001b[0;32mtry\u001b[0m\u001b[0;34m:\u001b[0m \u001b[0mroot\u001b[0m \u001b[0;34m=\u001b[0m \u001b[0mnltk\u001b[0m\u001b[0;34m.\u001b[0m\u001b[0mdata\u001b[0m\u001b[0;34m.\u001b[0m\u001b[0mfind\u001b[0m\u001b[0;34m(\u001b[0m\u001b[0;34m'{}/{}'\u001b[0m\u001b[0;34m.\u001b[0m\u001b[0mformat\u001b[0m\u001b[0;34m(\u001b[0m\u001b[0mself\u001b[0m\u001b[0;34m.\u001b[0m\u001b[0msubdir\u001b[0m\u001b[0;34m,\u001b[0m \u001b[0mzip_name\u001b[0m\u001b[0;34m)\u001b[0m\u001b[0;34m)\u001b[0m\u001b[0;34m\u001b[0m\u001b[0;34m\u001b[0m\u001b[0m\n\u001b[0;32m---> 81\u001b[0;31m                 \u001b[0;32mexcept\u001b[0m \u001b[0mLookupError\u001b[0m\u001b[0;34m:\u001b[0m \u001b[0;32mraise\u001b[0m \u001b[0me\u001b[0m\u001b[0;34m\u001b[0m\u001b[0;34m\u001b[0m\u001b[0m\n\u001b[0m\u001b[1;32m     82\u001b[0m \u001b[0;34m\u001b[0m\u001b[0m\n\u001b[1;32m     83\u001b[0m         \u001b[0;31m# Load the corpus.\u001b[0m\u001b[0;34m\u001b[0m\u001b[0;34m\u001b[0m\u001b[0;34m\u001b[0m\u001b[0m\n",
            "\u001b[0;32m/usr/local/lib/python3.7/dist-packages/nltk/corpus/util.py\u001b[0m in \u001b[0;36m__load\u001b[0;34m(self)\u001b[0m\n\u001b[1;32m     76\u001b[0m         \u001b[0;32melse\u001b[0m\u001b[0;34m:\u001b[0m\u001b[0;34m\u001b[0m\u001b[0;34m\u001b[0m\u001b[0m\n\u001b[1;32m     77\u001b[0m             \u001b[0;32mtry\u001b[0m\u001b[0;34m:\u001b[0m\u001b[0;34m\u001b[0m\u001b[0;34m\u001b[0m\u001b[0m\n\u001b[0;32m---> 78\u001b[0;31m                 \u001b[0mroot\u001b[0m \u001b[0;34m=\u001b[0m \u001b[0mnltk\u001b[0m\u001b[0;34m.\u001b[0m\u001b[0mdata\u001b[0m\u001b[0;34m.\u001b[0m\u001b[0mfind\u001b[0m\u001b[0;34m(\u001b[0m\u001b[0;34m'{}/{}'\u001b[0m\u001b[0;34m.\u001b[0m\u001b[0mformat\u001b[0m\u001b[0;34m(\u001b[0m\u001b[0mself\u001b[0m\u001b[0;34m.\u001b[0m\u001b[0msubdir\u001b[0m\u001b[0;34m,\u001b[0m \u001b[0mself\u001b[0m\u001b[0;34m.\u001b[0m\u001b[0m__name\u001b[0m\u001b[0;34m)\u001b[0m\u001b[0;34m)\u001b[0m\u001b[0;34m\u001b[0m\u001b[0;34m\u001b[0m\u001b[0m\n\u001b[0m\u001b[1;32m     79\u001b[0m             \u001b[0;32mexcept\u001b[0m \u001b[0mLookupError\u001b[0m \u001b[0;32mas\u001b[0m \u001b[0me\u001b[0m\u001b[0;34m:\u001b[0m\u001b[0;34m\u001b[0m\u001b[0;34m\u001b[0m\u001b[0m\n\u001b[1;32m     80\u001b[0m                 \u001b[0;32mtry\u001b[0m\u001b[0;34m:\u001b[0m \u001b[0mroot\u001b[0m \u001b[0;34m=\u001b[0m \u001b[0mnltk\u001b[0m\u001b[0;34m.\u001b[0m\u001b[0mdata\u001b[0m\u001b[0;34m.\u001b[0m\u001b[0mfind\u001b[0m\u001b[0;34m(\u001b[0m\u001b[0;34m'{}/{}'\u001b[0m\u001b[0;34m.\u001b[0m\u001b[0mformat\u001b[0m\u001b[0;34m(\u001b[0m\u001b[0mself\u001b[0m\u001b[0;34m.\u001b[0m\u001b[0msubdir\u001b[0m\u001b[0;34m,\u001b[0m \u001b[0mzip_name\u001b[0m\u001b[0;34m)\u001b[0m\u001b[0;34m)\u001b[0m\u001b[0;34m\u001b[0m\u001b[0;34m\u001b[0m\u001b[0m\n",
            "\u001b[0;32m/usr/local/lib/python3.7/dist-packages/nltk/data.py\u001b[0m in \u001b[0;36mfind\u001b[0;34m(resource_name, paths)\u001b[0m\n\u001b[1;32m    671\u001b[0m     \u001b[0msep\u001b[0m \u001b[0;34m=\u001b[0m \u001b[0;34m'*'\u001b[0m \u001b[0;34m*\u001b[0m \u001b[0;36m70\u001b[0m\u001b[0;34m\u001b[0m\u001b[0;34m\u001b[0m\u001b[0m\n\u001b[1;32m    672\u001b[0m     \u001b[0mresource_not_found\u001b[0m \u001b[0;34m=\u001b[0m \u001b[0;34m'\\n%s\\n%s\\n%s\\n'\u001b[0m \u001b[0;34m%\u001b[0m \u001b[0;34m(\u001b[0m\u001b[0msep\u001b[0m\u001b[0;34m,\u001b[0m \u001b[0mmsg\u001b[0m\u001b[0;34m,\u001b[0m \u001b[0msep\u001b[0m\u001b[0;34m)\u001b[0m\u001b[0;34m\u001b[0m\u001b[0;34m\u001b[0m\u001b[0m\n\u001b[0;32m--> 673\u001b[0;31m     \u001b[0;32mraise\u001b[0m \u001b[0mLookupError\u001b[0m\u001b[0;34m(\u001b[0m\u001b[0mresource_not_found\u001b[0m\u001b[0;34m)\u001b[0m\u001b[0;34m\u001b[0m\u001b[0;34m\u001b[0m\u001b[0m\n\u001b[0m\u001b[1;32m    674\u001b[0m \u001b[0;34m\u001b[0m\u001b[0m\n\u001b[1;32m    675\u001b[0m \u001b[0;34m\u001b[0m\u001b[0m\n",
            "\u001b[0;31mLookupError\u001b[0m: \n**********************************************************************\n  Resource \u001b[93mstopwords\u001b[0m not found.\n  Please use the NLTK Downloader to obtain the resource:\n\n  \u001b[31m>>> import nltk\n  >>> nltk.download('stopwords')\n  \u001b[0m\n  Searched in:\n    - '/root/nltk_data'\n    - '/usr/share/nltk_data'\n    - '/usr/local/share/nltk_data'\n    - '/usr/lib/nltk_data'\n    - '/usr/local/lib/nltk_data'\n    - '/usr/nltk_data'\n    - '/usr/lib/nltk_data'\n**********************************************************************\n"
          ]
        }
      ]
    },
    {
      "cell_type": "code",
      "metadata": {
        "id": "W1mnQL-yjCJK"
      },
      "source": [
        "preproccessing = lambda text: (remove_multiple_spaces(remove_numbers(remove_punctuation(text))))\r\n",
        "data['preproccessed'] = list(map(preproccessing, df_res['text']))"
      ],
      "execution_count": null,
      "outputs": []
    }
  ]
}